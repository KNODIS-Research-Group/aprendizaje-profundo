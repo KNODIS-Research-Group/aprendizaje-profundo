{
 "cells": [
  {
   "cell_type": "markdown",
   "id": "010176d1",
   "metadata": {},
   "source": [
    "<div><img style=\"float: right; width: 120px; vertical-align:middle\" src=\"https://www.upm.es/sfs/Rectorado/Gabinete%20del%20Rector/Logos/EU_Informatica/ETSI%20SIST_INFORM_COLOR.png\" alt=\"ETSISI logo\" width=\"120px\" />\n",
    "\n",
    "\n",
    "# Clasificación de dígitos con redes convolucionales<a id=\"top\"></a>\n",
    "\n",
    "<i><small>Última actualización: 2025-03-1</small></i></div>\n",
    "***"
   ]
  },
  {
   "cell_type": "markdown",
   "id": "554fb61b",
   "metadata": {},
   "source": [
    "## Introducción\n",
    "\n",
    "En este _notebook_ vamos a crear un clasificador para el problema del **CIFAR-100** usando para ello un modelo de red neuronal convolucional (CNN, del inglés _convolutional neural network_).\n",
    "\n",
    "Las CNN son un tipo de red neuronal que, aunque mantiene un comportamiento _feed-forward_, aprovecha la estructura de los datos de entrada (normalmente imágenes, pero en general cualquier conjunto de datos con relaciones espaciales) para reducir el tamaño del modelo y mejorar su rendimiento.\n",
    "\n",
    "¿Por qué es esto? Pues por varias razones, aunque las principales son las siguientes:\n",
    "\n",
    "### 1. Los MLP no escalan bien con imágenes grandes.\n",
    "\n",
    "Imaginemos una imagen a color de $32 \\times 32$ píxeles, como las de **CIFAR-100**. Si usáramos una red neuronal densa para clasificarla, necesitaríamos una capa de entrada con $32 \\times 32 \\times 3 = 3072$ neuronas. Si esta primera capa tuviera solo $256$ neuronas ocultas, el número total de pesos a entrenar sería:\n",
    "\n",
    "$$\n",
    "3072 \\times 256 + 256 = 786688\n",
    "$$\n",
    "\n",
    "A $32$ bits por pesos, esto ocuparía aproximadamente **3MiB** de memoria solo para la primera capa. Si trabajaramos con imágenes de tamaño mediano, como las del [conjunto _ImageNet_](https://www.image-net.org/) (que son de $224 \\times 224$ píxeles), este número superaría los **38 millones de pesos**, consumiendo unos $147$ MiB. Esto es claramente inviable a gran escala.\n",
    "\n",
    "En cambio, una CNN usa muchas menos conexiones. Por ejemplo, si en la primera capa aplicamos 32 filtros de $3 \\times 3$ sobre la misma imagen, el número de pesos sería:\n",
    "\n",
    "$$\n",
    "32 \\times 3 \\times 3 \\times 3 + 32 = 896\n",
    "$$\n",
    "\n",
    "Esto ocuparía apenas $3.5$ KiB, independientemente del tamaño de la imagern, ya que los pesos pertenecen a los filtros, no a los píxeles individuales.\n",
    "\n",
    "### 2. Los MLP no aprovechan la estructura de los datos\n",
    "\n",
    "Las imágenes tienen una estructura espacial que los MLP. Por ejemplo, si un MLP ve una imagen de un gato y luego la misma imagen desplazada unos píxeles, no tiene por qué reconocerla como el mismo gato. Esto se denomina **invariancia a la traslación**, y los MLP no la poseen.\n",
    "\n",
    "Las CNN, en cambio, están diseñadas para captar la estructura espacial de los datos. Cada filtro de una capa de convolución aprende a detectar patrones que pueden aparecer en cualquier parte de la entrada. Esto les permite identificar características sin importar su posición exacta, lo que las hace ideales para tareas de visión por ordenador."
   ]
  },
  {
   "cell_type": "markdown",
   "id": "8f243ba3",
   "metadata": {},
   "source": [
    "## Objetivos"
   ]
  },
  {
   "cell_type": "markdown",
   "id": "6d84b69f-c5f9-4411-af92-83c64f811369",
   "metadata": {},
   "source": [
    "Nuestro objetivo será implementar una CNN y compararla con el MLP que desarrollamos anteriormente, para analizar las diferencias entre ambos modelos."
   ]
  },
  {
   "cell_type": "markdown",
   "id": "67582fcc",
   "metadata": {},
   "source": [
    "## Bibliotecas y configuración"
   ]
  },
  {
   "cell_type": "markdown",
   "id": "ceee9d46-b969-4cc6-ade2-2457a01dce37",
   "metadata": {},
   "source": [
    "A continuación, importaremos las bibliotecas necesarias para el desarrollo de este notebook."
   ]
  },
  {
   "cell_type": "code",
   "execution_count": 1,
   "id": "58374f16",
   "metadata": {},
   "outputs": [],
   "source": [
    "import matplotlib.pyplot as plt\n",
    "import pandas as pd\n",
    "import torch\n",
    "import torchmetrics\n",
    "import torchvision\n",
    "\n",
    "import utils"
   ]
  },
  {
   "cell_type": "markdown",
   "id": "174e97df",
   "metadata": {},
   "source": [
    "También configuraremos algunos parámetros para optimizar la presentación gráfica."
   ]
  },
  {
   "cell_type": "code",
   "execution_count": 2,
   "id": "aca72f44",
   "metadata": {},
   "outputs": [],
   "source": [
    "%matplotlib inline\n",
    "plt.style.use('ggplot')\n",
    "plt.rcParams.update({'figure.figsize': (20, 6),'figure.dpi': 64})"
   ]
  },
  {
   "cell_type": "markdown",
   "id": "122750d5-497f-4ece-b846-a7b73b7440a0",
   "metadata": {},
   "source": [
    "Por último, definiremos las constantes que utilizaremos como recursos comunes."
   ]
  },
  {
   "cell_type": "code",
   "execution_count": 3,
   "id": "bff67957-d236-40cc-b1e4-e2c20b63cd76",
   "metadata": {},
   "outputs": [],
   "source": [
    "DATASETS_DIR = './tmp'\n",
    "TRAIN_EPOCHS = 100"
   ]
  },
  {
   "cell_type": "markdown",
   "id": "06541e93",
   "metadata": {},
   "source": [
    "***"
   ]
  },
  {
   "cell_type": "markdown",
   "id": "a9aec0b7",
   "metadata": {},
   "source": [
    "## Preparación de los datos."
   ]
  },
  {
   "cell_type": "markdown",
   "id": "0c71335b-9733-48a7-8306-595d1e430db6",
   "metadata": {},
   "source": [
    "Antes de entrenar nuestro modelo, veamos en detalle los datos con los que vamos a trabajar. El [conjunto de datos **CIFAR-100**](https://www.cs.toronto.edu/~kriz/cifar.html) contiene $60000$ imágenes a color de $32 \\times 32$ píxeles, divididas en $100$ clases, con $600$ imágenes por clase. A diferencia de su versión más conocida (**CIFAR-10**), que solo tiene $10$ categorías generales (avión, coche, pájaro, etc.), CIFAR-100 es más desafiante, ya que cada clase representa un objeto o animal específico. El conjunto de datos está distribuido en $50000$ imágenes para entrenamiento y $10000$ para pruebas.\n",
    "\n",
    "![](images/CIFAR-100.png)\n",
    "\n",
    "Cada clase pertenece, además, a una categoría superior (por ejemplo, «_maple tree_» pertenece a «_trees_»). Esto nos permite agruparlas y usarlas en modelos más avanzados. En PyTorch, podemos cargar este conjunto de datos fácilmente desde `torchvision.datasets.CIFAR100`, que nos permite descargarlo y preprocesarlo sin complicaciones."
   ]
  },
  {
   "cell_type": "code",
   "execution_count": null,
   "id": "88d8acf8",
   "metadata": {},
   "outputs": [],
   "source": [
    "transform = torchvision.transforms.Compose([\n",
    "    torchvision.transforms.ToTensor(),\n",
    "    # Estandarizamos utilizando la fórmula del z-score. Para ello, usamos las\n",
    "    #  medias y desviaciones típicas para cada canal de color del CIFAR-100.\n",
    "    torchvision.transforms.Normalize(\n",
    "        mean=[0.5071, 0.4865, 0.4409],\n",
    "        std=[0.2673, 0.2564, 0.2761],\n",
    "    )\n",
    "])\n",
    "\n",
    "train_dataset = torchvision.datasets.CIFAR100(\n",
    "    root=DATASETS_DIR,\n",
    "    train=True,\n",
    "    download=True,\n",
    "    transform=transform,\n",
    ")\n",
    "test_dataset = torchvision.datasets.CIFAR100(\n",
    "    root=DATASETS_DIR,\n",
    "    train=False,\n",
    "    download=False,\n",
    "    transform=transform,\n",
    ")\n",
    "\n",
    "train_loader = torch.utils.data.DataLoader(\n",
    "    dataset=train_dataset,\n",
    "    batch_size=256,\n",
    "    num_workers=2,  # Dos workers => Dos hilos cargando datos en lugar de uno\n",
    "    shuffle=True,\n",
    ")\n",
    "test_loader = torch.utils.data.DataLoader(\n",
    "    test_dataset,\n",
    "    batch_size=256,\n",
    "    shuffle=False,\n",
    ")"
   ]
  },
  {
   "cell_type": "markdown",
   "id": "7a7362f3",
   "metadata": {},
   "source": [
    "Vemos que el conjunto de datos se divide en un conjunto de datos de entrenamiento de 60000 ejemplos y un conjunto de test de 10000 ejemplos. El primero es con el que entrenaremos nuestro modelo mientras que el segundo servirá para evaluar el desempeño del modelo con datos que no ha visto nunca.\n",
    "\n",
    "Veamos la forma que tienen los datos de entrada de un ejemplo en concreto (al estar estandarizados, la imagen no es real porque los valores han sido estandarizados):"
   ]
  },
  {
   "cell_type": "code",
   "execution_count": null,
   "id": "6c8315fb",
   "metadata": {},
   "outputs": [],
   "source": [
    "INDEX = 42\n",
    "\n",
    "image, label = train_dataset[INDEX]\n",
    "image = image.permute(1, 2, 0).numpy()  # (C, H, W) -> (H, W, C)\n",
    "\n",
    "plt.imshow(image)\n",
    "plt.axis(\"off\")\n",
    "plt.title(f\"Index: {INDEX}, label: {label}, shape: {image.shape}\")\n",
    "plt.show()"
   ]
  },
  {
   "cell_type": "markdown",
   "id": "e5a36bf0",
   "metadata": {},
   "source": [
    "## Creación del modelo"
   ]
  },
  {
   "cell_type": "markdown",
   "id": "fe59a5c6-b982-430e-8000-f9bcb3b202bb",
   "metadata": {},
   "source": [
    "Vamos a construir una CNN sencilla, sin estructuras complejas ni ramificaciones. Dado que las capas se aplicarán en **orden secuencial**, podemos definir el modelo utilizando la API `Sequential` de PyTorch, que nos permite encadenar capas de forma directa.\n",
    "\n",
    "En PyTorch, `torch.nn.Sequential` se comporta como una **lista de capas** que se ejecutan en el orden en que se añaden. Existen dos formas de definir un modelo secuencial:\n",
    "\n",
    "1. Pasando las capas como una lista al constructor de `torch.nn.Sequential`, y\n",
    "2. Añadiendo capas una a una (aunque en PyTorch esto no se hace con `add`, como en Keras).\n",
    "\n",
    "A continuación, crearemos nuestra CNN para CIFAR-100 usando `torch.nn.Sequential`."
   ]
  },
  {
   "cell_type": "code",
   "execution_count": 6,
   "id": "5c47797a",
   "metadata": {},
   "outputs": [],
   "source": [
    "model_cnn = torch.nn.Sequential()"
   ]
  },
  {
   "cell_type": "markdown",
   "id": "ccb5f805",
   "metadata": {},
   "source": [
    "Ahora añadiremos una capa oculta. Si nos acordamos de teoría, las CNN se componen de dos partes, la parte de extracción de características, compuesta de capas de convolución, y las capas de inferencia, compuestas de capas densas. Comenzaremos con una capa de convolución:"
   ]
  },
  {
   "cell_type": "code",
   "execution_count": 7,
   "id": "bedfcd4d",
   "metadata": {},
   "outputs": [],
   "source": [
    "model_cnn.add_module(\n",
    "    \"conv1\",\n",
    "    torch.nn.Conv2d(  # (batch, channels, height, width)\n",
    "        in_channels=3,\n",
    "        out_channels=8,\n",
    "        kernel_size=3,\n",
    "        padding=\"same\",\n",
    "    )\n",
    ")"
   ]
  },
  {
   "cell_type": "markdown",
   "id": "fbb1fb40",
   "metadata": {},
   "source": [
    "Acabamos de crear una capa compuesta de 8 convoluciones de tamaño $3 \\times 3 \\times 3$ que navegará por toda la imagen extrayendo características.\n",
    "\n",
    "Después de la capa de convolución, es importante añadir la función de activación. Usaremos una tipo _leaky_ ReLU con una pendiente negativa de $0.1$."
   ]
  },
  {
   "cell_type": "code",
   "execution_count": 8,
   "id": "d06e8b64-d137-48ed-8fdb-c67399c143f4",
   "metadata": {},
   "outputs": [],
   "source": [
    "model_cnn.add_module(\"acti1\", torch.nn.LeakyReLU(negative_slope=0.1))"
   ]
  },
  {
   "cell_type": "markdown",
   "id": "45f9fe0c-d74e-4c05-80d6-6447baf22c57",
   "metadata": {},
   "source": [
    "Otra capa que se suele combinar con las de convolución son las de muestreo parcial, _subsampling_ o _pooling_. Si recordamos, se trataba de filtros que reducían la imágen sacando los valores más destacables de cada área que cubre el filtro. En este caso, usaremos una capa `torch.nn.MaxPool2D` que escogerá el valor más alto del área que cubre. El valor por defecto del parámetro opcional `stride` (el salto del filtro) es el del tamaño del filtro, así que definiremos el filtro como $2 \\times 2$ y dejaremos que el _stride_ quede así para que no haya solapamiento. Esto reducirá bastante el tamaño de la salida de la capa anterior."
   ]
  },
  {
   "cell_type": "code",
   "execution_count": 9,
   "id": "e48663de",
   "metadata": {},
   "outputs": [],
   "source": [
    "model_cnn.add_module(\"pool1\", torch.nn.MaxPool2d(kernel_size=2))"
   ]
  },
  {
   "cell_type": "markdown",
   "id": "e81aa407",
   "metadata": {},
   "source": [
    "De momento vamos a mantener una única capa de convolución, una función de activación y una de _pooling_, vamos a saltar a la parte de inferencia.\n",
    "\n",
    "Ahora bien, para saltar a la parte de inferencia (que no deja de ser un MLP) necesitamos que todos los datos de entrada estén en una dimensión. Por ello, antes de entrar en la capa de inferencia, vamos a «aplanar» la salida de la convolución."
   ]
  },
  {
   "cell_type": "code",
   "execution_count": 10,
   "id": "546fee99",
   "metadata": {},
   "outputs": [],
   "source": [
    "model_cnn.add_module(\"flatten\", torch.nn.Flatten())"
   ]
  },
  {
   "cell_type": "markdown",
   "id": "151168d0",
   "metadata": {},
   "source": [
    "No necesitamos parámetros, lo único que hace es poner la matriz multidimensional en dos dimensiones, el número de ejemplos y todas las características extraídas para dicho ejemplo.\n",
    "\n",
    "Ahora vamos a añadir las capas densas que queramos. Vamos a añadir una oculta primero."
   ]
  },
  {
   "cell_type": "code",
   "execution_count": 11,
   "id": "c20342f5",
   "metadata": {},
   "outputs": [],
   "source": [
    "model_cnn.add_module(\n",
    "    \"fc1\", torch.nn.Linear(in_features=8 * 16 * 16, out_features=128)\n",
    ")\n",
    "model_cnn.add_module(\"relu2\", torch.nn.ReLU())"
   ]
  },
  {
   "cell_type": "markdown",
   "id": "6b3c6691",
   "metadata": {},
   "source": [
    "Y la de salida. Recordemos, la salida serán **100 neuronas**, una por cada posible clase."
   ]
  },
  {
   "cell_type": "code",
   "execution_count": 12,
   "id": "6016acc3",
   "metadata": {},
   "outputs": [],
   "source": [
    "model_cnn.add_module(\"fc2\", torch.nn.Linear(in_features=128, out_features=100))"
   ]
  },
  {
   "cell_type": "markdown",
   "id": "495d6af7",
   "metadata": {},
   "source": [
    "Ya explicamos previamente por qué no explicitamos la función _softmax_ o _log-softmax_. Por tanto ya tenemos definido nuestro modelo. Veamos su estructura."
   ]
  },
  {
   "cell_type": "code",
   "execution_count": 13,
   "id": "ab74944c",
   "metadata": {},
   "outputs": [
    {
     "name": "stdout",
     "output_type": "stream",
     "text": [
      "Sequential(\n",
      "  (conv1): Conv2d(3, 8, kernel_size=(3, 3), stride=(1, 1), padding=(1, 1))\n",
      "  (acti1): LeakyReLU(negative_slope=0.1)\n",
      "  (pool1): MaxPool2d(kernel_size=2, stride=2, padding=0, dilation=1, ceil_mode=False)\n",
      "  (flatten): Flatten(start_dim=1, end_dim=-1)\n",
      "  (fc1): Linear(in_features=2048, out_features=128, bias=True)\n",
      "  (relu2): ReLU()\n",
      "  (fc2): Linear(in_features=128, out_features=100, bias=True)\n",
      ")\n",
      "No. of parameters: 275396\n"
     ]
    }
   ],
   "source": [
    "print(model_cnn)\n",
    "total_params = sum(p.numel() for p in model_cnn.parameters())\n",
    "print(f\"No. of parameters: {total_params}\")"
   ]
  },
  {
   "cell_type": "markdown",
   "id": "e8dce57d",
   "metadata": {},
   "source": [
    "Vamos a compararlo con un perceptrón multicapa de un par de capas ocultas con aproximadamente el mismo número de parámetros."
   ]
  },
  {
   "cell_type": "code",
   "execution_count": 14,
   "id": "9d2d2b10",
   "metadata": {},
   "outputs": [
    {
     "name": "stdout",
     "output_type": "stream",
     "text": [
      "Sequential(\n",
      "  (0): Flatten(start_dim=1, end_dim=-1)\n",
      "  (1): Linear(in_features=3072, out_features=85, bias=True)\n",
      "  (2): LeakyReLU(negative_slope=0.1)\n",
      "  (3): Linear(in_features=85, out_features=75, bias=True)\n",
      "  (4): LeakyReLU(negative_slope=0.1)\n",
      "  (5): Linear(in_features=75, out_features=100, bias=True)\n",
      ")\n",
      "No. of parameters: 275255\n"
     ]
    }
   ],
   "source": [
    "model_mlp = torch.nn.Sequential(\n",
    "    torch.nn.Flatten(),\n",
    "    torch.nn.Linear(in_features=3 * 32 * 32, out_features=85),\n",
    "    torch.nn.LeakyReLU(negative_slope=0.1),\n",
    "    torch.nn.Linear(in_features=85, out_features=75),\n",
    "    torch.nn.LeakyReLU(negative_slope=0.1),\n",
    "    torch.nn.Linear(in_features=75, out_features=100)\n",
    ")\n",
    "print(model_mlp)\n",
    "total_params = sum(p.numel() for p in model_mlp.parameters())\n",
    "print(f\"No. of parameters: {total_params}\")"
   ]
  },
  {
   "cell_type": "markdown",
   "id": "1d5a4def",
   "metadata": {},
   "source": [
    "Ahora veamos qué tal se comportan en un par de entrenamientos. Para ello los entrenaremos con los mismos algoritmos y el mismo número de epochs. Usaremos la función `train` definida en el módulo `utils.py` porque es un código muy repetitivo."
   ]
  },
  {
   "cell_type": "code",
   "execution_count": 15,
   "id": "99aa2d46",
   "metadata": {},
   "outputs": [
    {
     "name": "stdout",
     "output_type": "stream",
     "text": [
      "Epoch 1/100 (11.63s), Train loss: 3.8824, Train metric: 0.1207, Val loss: 3.5331, Val. metric: 0.1744\n",
      "Epoch 2/100 (12.81s), Train loss: 3.3179, Train metric: 0.2135, Val loss: 3.2289, Val. metric: 0.2264\n",
      "Epoch 3/100 (12.87s), Train loss: 3.0198, Train metric: 0.2689, Val loss: 3.0562, Val. metric: 0.2554\n",
      "Epoch 4/100 (14.16s), Train loss: 2.8255, Train metric: 0.3034, Val loss: 2.9721, Val. metric: 0.2721\n",
      "Epoch 5/100 (11.92s), Train loss: 2.6919, Train metric: 0.3343, Val loss: 2.9294, Val. metric: 0.2849\n",
      "Epoch 6/100 (12.48s), Train loss: 2.5894, Train metric: 0.3508, Val loss: 2.9153, Val. metric: 0.2938\n",
      "Epoch 7/100 (10.94s), Train loss: 2.5070, Train metric: 0.3711, Val loss: 2.9061, Val. metric: 0.2983\n",
      "Epoch 8/100 (11.55s), Train loss: 2.4349, Train metric: 0.3860, Val loss: 2.8556, Val. metric: 0.3058\n",
      "Epoch 9/100 (11.82s), Train loss: 2.3648, Train metric: 0.3989, Val loss: 2.8937, Val. metric: 0.3042\n",
      "Epoch 10/100 (11.37s), Train loss: 2.3052, Train metric: 0.4130, Val loss: 2.8888, Val. metric: 0.3011\n",
      "Epoch 11/100 (10.88s), Train loss: 2.2548, Train metric: 0.4221, Val loss: 2.9055, Val. metric: 0.3024\n",
      "Epoch 12/100 (12.33s), Train loss: 2.1997, Train metric: 0.4335, Val loss: 2.9048, Val. metric: 0.3085\n",
      "Epoch 13/100 (12.87s), Train loss: 2.1551, Train metric: 0.4431, Val loss: 2.9206, Val. metric: 0.3086\n",
      "Epoch 14/100 (11.10s), Train loss: 2.1171, Train metric: 0.4539, Val loss: 2.9401, Val. metric: 0.2997\n",
      "Epoch 15/100 (11.19s), Train loss: 2.0709, Train metric: 0.4598, Val loss: 2.9579, Val. metric: 0.3017\n",
      "Epoch 16/100 (11.12s), Train loss: 2.0332, Train metric: 0.4737, Val loss: 2.9689, Val. metric: 0.3030\n",
      "Epoch 17/100 (11.41s), Train loss: 1.9940, Train metric: 0.4785, Val loss: 2.9924, Val. metric: 0.3052\n",
      "Epoch 18/100 (11.39s), Train loss: 1.9601, Train metric: 0.4877, Val loss: 3.0159, Val. metric: 0.3011\n",
      "Epoch 19/100 (11.01s), Train loss: 1.9224, Train metric: 0.4956, Val loss: 3.0693, Val. metric: 0.2990\n",
      "Epoch 20/100 (11.14s), Train loss: 1.8938, Train metric: 0.5020, Val loss: 3.0291, Val. metric: 0.3026\n",
      "Epoch 21/100 (12.87s), Train loss: 1.8560, Train metric: 0.5099, Val loss: 3.0953, Val. metric: 0.2935\n",
      "Epoch 22/100 (13.24s), Train loss: 1.8306, Train metric: 0.5146, Val loss: 3.1073, Val. metric: 0.2912\n",
      "Epoch 23/100 (13.81s), Train loss: 1.8008, Train metric: 0.5224, Val loss: 3.1439, Val. metric: 0.2956\n",
      "Epoch 24/100 (12.65s), Train loss: 1.7645, Train metric: 0.5298, Val loss: 3.1568, Val. metric: 0.2943\n",
      "Epoch 25/100 (11.71s), Train loss: 1.7352, Train metric: 0.5365, Val loss: 3.2040, Val. metric: 0.2890\n",
      "Epoch 26/100 (11.48s), Train loss: 1.7038, Train metric: 0.5426, Val loss: 3.2537, Val. metric: 0.2961\n",
      "Epoch 27/100 (11.29s), Train loss: 1.6759, Train metric: 0.5521, Val loss: 3.2824, Val. metric: 0.2920\n",
      "Epoch 28/100 (10.82s), Train loss: 1.6502, Train metric: 0.5576, Val loss: 3.3070, Val. metric: 0.2895\n",
      "Epoch 29/100 (11.59s), Train loss: 1.6210, Train metric: 0.5647, Val loss: 3.3581, Val. metric: 0.2875\n",
      "Epoch 30/100 (12.26s), Train loss: 1.5895, Train metric: 0.5715, Val loss: 3.3831, Val. metric: 0.2839\n",
      "Epoch 31/100 (11.51s), Train loss: 1.5683, Train metric: 0.5757, Val loss: 3.4288, Val. metric: 0.2869\n",
      "Epoch 32/100 (13.28s), Train loss: 1.5477, Train metric: 0.5800, Val loss: 3.4520, Val. metric: 0.2821\n",
      "Epoch 33/100 (12.15s), Train loss: 1.5189, Train metric: 0.5872, Val loss: 3.4653, Val. metric: 0.2841\n",
      "Epoch 34/100 (12.46s), Train loss: 1.4989, Train metric: 0.5934, Val loss: 3.5196, Val. metric: 0.2849\n",
      "Epoch 35/100 (14.99s), Train loss: 1.4714, Train metric: 0.6006, Val loss: 3.5291, Val. metric: 0.2886\n",
      "Epoch 36/100 (11.39s), Train loss: 1.4472, Train metric: 0.6069, Val loss: 3.5972, Val. metric: 0.2824\n",
      "Epoch 37/100 (10.88s), Train loss: 1.4197, Train metric: 0.6123, Val loss: 3.6639, Val. metric: 0.2787\n",
      "Epoch 38/100 (11.31s), Train loss: 1.4030, Train metric: 0.6161, Val loss: 3.6768, Val. metric: 0.2748\n",
      "Epoch 39/100 (10.92s), Train loss: 1.3780, Train metric: 0.6236, Val loss: 3.7144, Val. metric: 0.2735\n",
      "Epoch 40/100 (10.93s), Train loss: 1.3620, Train metric: 0.6258, Val loss: 3.7869, Val. metric: 0.2738\n",
      "Epoch 41/100 (11.50s), Train loss: 1.3334, Train metric: 0.6335, Val loss: 3.8588, Val. metric: 0.2781\n",
      "Epoch 42/100 (12.13s), Train loss: 1.3114, Train metric: 0.6395, Val loss: 3.8795, Val. metric: 0.2743\n",
      "Epoch 43/100 (12.71s), Train loss: 1.2897, Train metric: 0.6442, Val loss: 3.9264, Val. metric: 0.2706\n",
      "Epoch 44/100 (11.50s), Train loss: 1.2701, Train metric: 0.6495, Val loss: 3.9764, Val. metric: 0.2719\n",
      "Epoch 45/100 (11.08s), Train loss: 1.2520, Train metric: 0.6533, Val loss: 4.0029, Val. metric: 0.2726\n",
      "Epoch 46/100 (12.32s), Train loss: 1.2306, Train metric: 0.6576, Val loss: 4.1125, Val. metric: 0.2709\n",
      "Epoch 47/100 (11.37s), Train loss: 1.2140, Train metric: 0.6623, Val loss: 4.0950, Val. metric: 0.2720\n",
      "Epoch 48/100 (12.22s), Train loss: 1.1921, Train metric: 0.6685, Val loss: 4.1475, Val. metric: 0.2647\n",
      "Epoch 49/100 (14.60s), Train loss: 1.1664, Train metric: 0.6790, Val loss: 4.2326, Val. metric: 0.2602\n",
      "Epoch 50/100 (18.78s), Train loss: 1.1515, Train metric: 0.6830, Val loss: 4.2722, Val. metric: 0.2649\n",
      "Epoch 51/100 (12.69s), Train loss: 1.1362, Train metric: 0.6830, Val loss: 4.3194, Val. metric: 0.2628\n",
      "Epoch 52/100 (13.75s), Train loss: 1.1132, Train metric: 0.6904, Val loss: 4.3907, Val. metric: 0.2615\n",
      "Epoch 53/100 (25.16s), Train loss: 1.0999, Train metric: 0.6933, Val loss: 4.4765, Val. metric: 0.2636\n",
      "Epoch 54/100 (11.96s), Train loss: 1.0790, Train metric: 0.6987, Val loss: 4.5141, Val. metric: 0.2604\n",
      "Epoch 55/100 (14.11s), Train loss: 1.0656, Train metric: 0.7023, Val loss: 4.5355, Val. metric: 0.2644\n",
      "Epoch 56/100 (10.96s), Train loss: 1.0492, Train metric: 0.7060, Val loss: 4.6248, Val. metric: 0.2568\n",
      "Epoch 57/100 (11.19s), Train loss: 1.0235, Train metric: 0.7145, Val loss: 4.6625, Val. metric: 0.2566\n",
      "Epoch 58/100 (11.80s), Train loss: 1.0131, Train metric: 0.7166, Val loss: 4.7569, Val. metric: 0.2586\n",
      "Epoch 59/100 (12.23s), Train loss: 0.9959, Train metric: 0.7202, Val loss: 4.8128, Val. metric: 0.2540\n",
      "Epoch 60/100 (13.03s), Train loss: 0.9823, Train metric: 0.7230, Val loss: 4.8451, Val. metric: 0.2612\n",
      "Epoch 61/100 (11.88s), Train loss: 0.9668, Train metric: 0.7298, Val loss: 4.8783, Val. metric: 0.2599\n",
      "Epoch 62/100 (11.59s), Train loss: 0.9495, Train metric: 0.7354, Val loss: 5.0050, Val. metric: 0.2535\n",
      "Epoch 63/100 (10.87s), Train loss: 0.9339, Train metric: 0.7363, Val loss: 5.0910, Val. metric: 0.2528\n",
      "Epoch 64/100 (10.82s), Train loss: 0.9202, Train metric: 0.7423, Val loss: 5.1527, Val. metric: 0.2475\n",
      "Epoch 65/100 (12.19s), Train loss: 0.9062, Train metric: 0.7456, Val loss: 5.1887, Val. metric: 0.2507\n",
      "Epoch 66/100 (11.41s), Train loss: 0.8857, Train metric: 0.7514, Val loss: 5.3108, Val. metric: 0.2502\n",
      "Epoch 67/100 (10.80s), Train loss: 0.8777, Train metric: 0.7521, Val loss: 5.3235, Val. metric: 0.2495\n",
      "Epoch 68/100 (10.67s), Train loss: 0.8645, Train metric: 0.7537, Val loss: 5.3624, Val. metric: 0.2475\n",
      "Epoch 69/100 (10.89s), Train loss: 0.8524, Train metric: 0.7583, Val loss: 5.4772, Val. metric: 0.2491\n",
      "Epoch 70/100 (11.06s), Train loss: 0.8342, Train metric: 0.7652, Val loss: 5.5181, Val. metric: 0.2516\n",
      "Epoch 71/100 (13.71s), Train loss: 0.8097, Train metric: 0.7728, Val loss: 5.6190, Val. metric: 0.2485\n",
      "Epoch 72/100 (11.09s), Train loss: 0.8078, Train metric: 0.7688, Val loss: 5.6581, Val. metric: 0.2489\n",
      "Epoch 73/100 (11.29s), Train loss: 0.7890, Train metric: 0.7759, Val loss: 5.7593, Val. metric: 0.2436\n",
      "Epoch 74/100 (12.77s), Train loss: 0.7827, Train metric: 0.7763, Val loss: 5.8225, Val. metric: 0.2488\n",
      "Epoch 75/100 (11.60s), Train loss: 0.7652, Train metric: 0.7811, Val loss: 5.8914, Val. metric: 0.2425\n",
      "Epoch 76/100 (11.90s), Train loss: 0.7564, Train metric: 0.7827, Val loss: 5.9094, Val. metric: 0.2409\n",
      "Epoch 77/100 (11.24s), Train loss: 0.7358, Train metric: 0.7896, Val loss: 6.0194, Val. metric: 0.2384\n",
      "Epoch 78/100 (10.81s), Train loss: 0.7368, Train metric: 0.7864, Val loss: 6.0777, Val. metric: 0.2483\n",
      "Epoch 79/100 (11.13s), Train loss: 0.7237, Train metric: 0.7920, Val loss: 6.2076, Val. metric: 0.2358\n",
      "Epoch 80/100 (11.18s), Train loss: 0.6989, Train metric: 0.8016, Val loss: 6.2125, Val. metric: 0.2421\n",
      "Epoch 81/100 (13.80s), Train loss: 0.6887, Train metric: 0.8041, Val loss: 6.3180, Val. metric: 0.2469\n",
      "Epoch 82/100 (11.67s), Train loss: 0.6746, Train metric: 0.8065, Val loss: 6.3854, Val. metric: 0.2422\n",
      "Epoch 83/100 (10.96s), Train loss: 0.6761, Train metric: 0.8053, Val loss: 6.4325, Val. metric: 0.2426\n",
      "Epoch 84/100 (11.95s), Train loss: 0.6503, Train metric: 0.8150, Val loss: 6.6142, Val. metric: 0.2362\n",
      "Epoch 85/100 (11.63s), Train loss: 0.6397, Train metric: 0.8166, Val loss: 6.6431, Val. metric: 0.2357\n",
      "Epoch 86/100 (10.71s), Train loss: 0.6366, Train metric: 0.8177, Val loss: 6.7096, Val. metric: 0.2382\n",
      "Epoch 87/100 (11.90s), Train loss: 0.6341, Train metric: 0.8164, Val loss: 6.8286, Val. metric: 0.2403\n",
      "Epoch 88/100 (11.00s), Train loss: 0.6140, Train metric: 0.8216, Val loss: 6.8956, Val. metric: 0.2422\n",
      "Epoch 89/100 (11.19s), Train loss: 0.6092, Train metric: 0.8234, Val loss: 6.9549, Val. metric: 0.2398\n",
      "Epoch 90/100 (11.39s), Train loss: 0.5959, Train metric: 0.8281, Val loss: 7.0513, Val. metric: 0.2350\n",
      "Epoch 91/100 (11.50s), Train loss: 0.5812, Train metric: 0.8337, Val loss: 7.2076, Val. metric: 0.2338\n",
      "Epoch 92/100 (11.34s), Train loss: 0.5827, Train metric: 0.8311, Val loss: 7.2120, Val. metric: 0.2326\n",
      "Epoch 93/100 (11.46s), Train loss: 0.5616, Train metric: 0.8362, Val loss: 7.2364, Val. metric: 0.2364\n",
      "Epoch 94/100 (11.87s), Train loss: 0.5486, Train metric: 0.8414, Val loss: 7.3805, Val. metric: 0.2367\n",
      "Epoch 95/100 (12.38s), Train loss: 0.5484, Train metric: 0.8400, Val loss: 7.5030, Val. metric: 0.2335\n",
      "Epoch 96/100 (10.82s), Train loss: 0.5364, Train metric: 0.8445, Val loss: 7.5313, Val. metric: 0.2378\n",
      "Epoch 97/100 (10.67s), Train loss: 0.5242, Train metric: 0.8488, Val loss: 7.5885, Val. metric: 0.2332\n",
      "Epoch 98/100 (11.33s), Train loss: 0.5083, Train metric: 0.8529, Val loss: 7.6966, Val. metric: 0.2318\n",
      "Epoch 99/100 (12.72s), Train loss: 0.4965, Train metric: 0.8579, Val loss: 7.8276, Val. metric: 0.2361\n",
      "Epoch 100/100 (12.53s), Train loss: 0.5133, Train metric: 0.8497, Val loss: 7.9313, Val. metric: 0.2373\n"
     ]
    }
   ],
   "source": [
    "history_cnn = utils.train(\n",
    "    model=model_cnn,\n",
    "    train_loader=train_loader,\n",
    "    n_epochs=TRAIN_EPOCHS,\n",
    "    criterion=torch.nn.CrossEntropyLoss(),\n",
    "    optimizer=torch.optim.Adam(model_cnn.parameters()),\n",
    "    validation_split=0.1,\n",
    "    metric_fn=torchmetrics.classification.MulticlassAccuracy(num_classes=100),\n",
    ")"
   ]
  },
  {
   "cell_type": "markdown",
   "id": "bedfcd5c-99d7-438c-90b9-f1046c81c3d3",
   "metadata": {},
   "source": [
    "Veamos la evolución de su error y su exactitud:"
   ]
  },
  {
   "cell_type": "code",
   "execution_count": 16,
   "id": "c7ad454c",
   "metadata": {},
   "outputs": [
    {
     "data": {
      "image/png": "[encoded data removed]",
      "text/plain": [
       "<Figure size 1280x384 with 1 Axes>"
      ]
     },
     "metadata": {},
     "output_type": "display_data"
    }
   ],
   "source": [
    "pd.DataFrame(history_cnn).plot()\n",
    "plt.xlabel('Epoch num.')\n",
    "plt.show()"
   ]
  },
  {
   "cell_type": "markdown",
   "id": "07184619",
   "metadata": {},
   "source": [
    "Ahora haremos lo mismo con el MLP."
   ]
  },
  {
   "cell_type": "code",
   "execution_count": 17,
   "id": "11e6e742",
   "metadata": {},
   "outputs": [
    {
     "name": "stdout",
     "output_type": "stream",
     "text": [
      "Epoch 1/100 (9.44s), Train loss: 3.9208, Train metric: 0.1120, Val loss: 3.6391, Val. metric: 0.1513\n",
      "Epoch 2/100 (11.67s), Train loss: 3.5131, Train metric: 0.1770, Val loss: 3.5029, Val. metric: 0.1804\n",
      "Epoch 3/100 (10.14s), Train loss: 3.3547, Train metric: 0.2032, Val loss: 3.4127, Val. metric: 0.1956\n",
      "Epoch 4/100 (8.60s), Train loss: 3.2370, Train metric: 0.2260, Val loss: 3.3791, Val. metric: 0.2024\n",
      "Epoch 5/100 (8.31s), Train loss: 3.1486, Train metric: 0.2418, Val loss: 3.3142, Val. metric: 0.2192\n",
      "Epoch 6/100 (8.23s), Train loss: 3.0743, Train metric: 0.2568, Val loss: 3.3241, Val. metric: 0.2105\n",
      "Epoch 7/100 (8.98s), Train loss: 3.0104, Train metric: 0.2659, Val loss: 3.3340, Val. metric: 0.2092\n",
      "Epoch 8/100 (8.14s), Train loss: 2.9523, Train metric: 0.2793, Val loss: 3.3155, Val. metric: 0.2153\n",
      "Epoch 9/100 (8.20s), Train loss: 2.8989, Train metric: 0.2895, Val loss: 3.3113, Val. metric: 0.2193\n",
      "Epoch 10/100 (8.49s), Train loss: 2.8523, Train metric: 0.2975, Val loss: 3.3233, Val. metric: 0.2177\n",
      "Epoch 11/100 (8.60s), Train loss: 2.8119, Train metric: 0.3074, Val loss: 3.3052, Val. metric: 0.2257\n",
      "Epoch 12/100 (8.24s), Train loss: 2.7614, Train metric: 0.3141, Val loss: 3.3291, Val. metric: 0.2187\n",
      "Epoch 13/100 (8.69s), Train loss: 2.7341, Train metric: 0.3200, Val loss: 3.3407, Val. metric: 0.2223\n",
      "Epoch 14/100 (9.25s), Train loss: 2.7036, Train metric: 0.3247, Val loss: 3.3611, Val. metric: 0.2241\n",
      "Epoch 15/100 (10.37s), Train loss: 2.6627, Train metric: 0.3323, Val loss: 3.3287, Val. metric: 0.2262\n",
      "Epoch 16/100 (9.57s), Train loss: 2.6323, Train metric: 0.3387, Val loss: 3.3570, Val. metric: 0.2216\n",
      "Epoch 17/100 (8.96s), Train loss: 2.6048, Train metric: 0.3455, Val loss: 3.3723, Val. metric: 0.2232\n",
      "Epoch 18/100 (9.02s), Train loss: 2.5723, Train metric: 0.3520, Val loss: 3.3968, Val. metric: 0.2235\n",
      "Epoch 19/100 (11.45s), Train loss: 2.5439, Train metric: 0.3576, Val loss: 3.3880, Val. metric: 0.2239\n",
      "Epoch 20/100 (9.44s), Train loss: 2.5208, Train metric: 0.3600, Val loss: 3.4239, Val. metric: 0.2231\n",
      "Epoch 21/100 (9.48s), Train loss: 2.4998, Train metric: 0.3657, Val loss: 3.4496, Val. metric: 0.2218\n",
      "Epoch 22/100 (12.25s), Train loss: 2.4689, Train metric: 0.3719, Val loss: 3.4657, Val. metric: 0.2232\n",
      "Epoch 23/100 (8.92s), Train loss: 2.4494, Train metric: 0.3765, Val loss: 3.4523, Val. metric: 0.2255\n",
      "Epoch 24/100 (10.84s), Train loss: 2.4233, Train metric: 0.3821, Val loss: 3.4829, Val. metric: 0.2254\n",
      "Epoch 25/100 (9.05s), Train loss: 2.4034, Train metric: 0.3838, Val loss: 3.5130, Val. metric: 0.2212\n",
      "Epoch 26/100 (13.49s), Train loss: 2.3814, Train metric: 0.3885, Val loss: 3.5436, Val. metric: 0.2108\n",
      "Epoch 27/100 (10.92s), Train loss: 2.3606, Train metric: 0.3945, Val loss: 3.5329, Val. metric: 0.2254\n",
      "Epoch 28/100 (11.60s), Train loss: 2.3396, Train metric: 0.3975, Val loss: 3.5390, Val. metric: 0.2223\n",
      "Epoch 29/100 (10.76s), Train loss: 2.3289, Train metric: 0.4015, Val loss: 3.5366, Val. metric: 0.2234\n",
      "Epoch 30/100 (10.41s), Train loss: 2.3020, Train metric: 0.4058, Val loss: 3.5985, Val. metric: 0.2145\n",
      "Epoch 31/100 (10.94s), Train loss: 2.2924, Train metric: 0.4070, Val loss: 3.5876, Val. metric: 0.2236\n",
      "Epoch 32/100 (12.15s), Train loss: 2.2741, Train metric: 0.4114, Val loss: 3.5940, Val. metric: 0.2240\n",
      "Epoch 33/100 (8.04s), Train loss: 2.2502, Train metric: 0.4154, Val loss: 3.6481, Val. metric: 0.2144\n",
      "Epoch 34/100 (7.72s), Train loss: 2.2361, Train metric: 0.4178, Val loss: 3.6242, Val. metric: 0.2185\n",
      "Epoch 35/100 (7.83s), Train loss: 2.2148, Train metric: 0.4236, Val loss: 3.6958, Val. metric: 0.2152\n",
      "Epoch 36/100 (7.73s), Train loss: 2.2025, Train metric: 0.4268, Val loss: 3.7019, Val. metric: 0.2178\n",
      "Epoch 37/100 (8.30s), Train loss: 2.1868, Train metric: 0.4308, Val loss: 3.7026, Val. metric: 0.2210\n",
      "Epoch 38/100 (8.56s), Train loss: 2.1690, Train metric: 0.4330, Val loss: 3.7488, Val. metric: 0.2139\n",
      "Epoch 39/100 (8.64s), Train loss: 2.1565, Train metric: 0.4340, Val loss: 3.7295, Val. metric: 0.2184\n",
      "Epoch 40/100 (8.36s), Train loss: 2.1388, Train metric: 0.4405, Val loss: 3.7600, Val. metric: 0.2139\n",
      "Epoch 41/100 (8.07s), Train loss: 2.1155, Train metric: 0.4448, Val loss: 3.7695, Val. metric: 0.2171\n",
      "Epoch 42/100 (7.66s), Train loss: 2.1132, Train metric: 0.4455, Val loss: 3.8156, Val. metric: 0.2225\n",
      "Epoch 43/100 (7.95s), Train loss: 2.1040, Train metric: 0.4494, Val loss: 3.8084, Val. metric: 0.2153\n",
      "Epoch 44/100 (7.89s), Train loss: 2.0829, Train metric: 0.4532, Val loss: 3.8608, Val. metric: 0.2132\n",
      "Epoch 45/100 (8.42s), Train loss: 2.0747, Train metric: 0.4550, Val loss: 3.8729, Val. metric: 0.2209\n",
      "Epoch 46/100 (7.70s), Train loss: 2.0571, Train metric: 0.4598, Val loss: 3.8925, Val. metric: 0.2159\n",
      "Epoch 47/100 (7.92s), Train loss: 2.0449, Train metric: 0.4614, Val loss: 3.9314, Val. metric: 0.2074\n",
      "Epoch 48/100 (7.94s), Train loss: 2.0317, Train metric: 0.4655, Val loss: 3.9078, Val. metric: 0.2212\n",
      "Epoch 49/100 (7.87s), Train loss: 2.0140, Train metric: 0.4691, Val loss: 3.9461, Val. metric: 0.2172\n",
      "Epoch 50/100 (7.73s), Train loss: 2.0074, Train metric: 0.4702, Val loss: 3.9706, Val. metric: 0.2143\n",
      "Epoch 51/100 (7.70s), Train loss: 1.9930, Train metric: 0.4708, Val loss: 3.9831, Val. metric: 0.2127\n",
      "Epoch 52/100 (9.09s), Train loss: 1.9870, Train metric: 0.4736, Val loss: 3.9986, Val. metric: 0.2081\n",
      "Epoch 53/100 (8.29s), Train loss: 1.9765, Train metric: 0.4779, Val loss: 4.0458, Val. metric: 0.2086\n",
      "Epoch 54/100 (8.11s), Train loss: 1.9560, Train metric: 0.4803, Val loss: 4.0751, Val. metric: 0.2092\n",
      "Epoch 55/100 (7.93s), Train loss: 1.9517, Train metric: 0.4819, Val loss: 4.0685, Val. metric: 0.2133\n",
      "Epoch 56/100 (7.69s), Train loss: 1.9346, Train metric: 0.4870, Val loss: 4.0654, Val. metric: 0.2116\n",
      "Epoch 57/100 (8.11s), Train loss: 1.9232, Train metric: 0.4879, Val loss: 4.1203, Val. metric: 0.2097\n",
      "Epoch 58/100 (7.70s), Train loss: 1.9155, Train metric: 0.4898, Val loss: 4.1326, Val. metric: 0.2085\n",
      "Epoch 59/100 (7.82s), Train loss: 1.9026, Train metric: 0.4909, Val loss: 4.1415, Val. metric: 0.2143\n",
      "Epoch 60/100 (7.97s), Train loss: 1.8935, Train metric: 0.4973, Val loss: 4.1439, Val. metric: 0.2118\n",
      "Epoch 61/100 (7.98s), Train loss: 1.8896, Train metric: 0.4954, Val loss: 4.1762, Val. metric: 0.2107\n",
      "Epoch 62/100 (7.92s), Train loss: 1.8759, Train metric: 0.4985, Val loss: 4.1999, Val. metric: 0.2045\n",
      "Epoch 63/100 (8.15s), Train loss: 1.8602, Train metric: 0.5047, Val loss: 4.2045, Val. metric: 0.2106\n",
      "Epoch 64/100 (7.82s), Train loss: 1.8524, Train metric: 0.5033, Val loss: 4.2689, Val. metric: 0.2087\n",
      "Epoch 65/100 (8.32s), Train loss: 1.8364, Train metric: 0.5091, Val loss: 4.2523, Val. metric: 0.2084\n",
      "Epoch 66/100 (8.19s), Train loss: 1.8384, Train metric: 0.5074, Val loss: 4.3118, Val. metric: 0.2113\n",
      "Epoch 67/100 (7.88s), Train loss: 1.8224, Train metric: 0.5116, Val loss: 4.3005, Val. metric: 0.2090\n",
      "Epoch 68/100 (8.42s), Train loss: 1.8169, Train metric: 0.5128, Val loss: 4.3249, Val. metric: 0.2139\n",
      "Epoch 69/100 (8.44s), Train loss: 1.8041, Train metric: 0.5156, Val loss: 4.3452, Val. metric: 0.2090\n",
      "Epoch 70/100 (7.80s), Train loss: 1.7985, Train metric: 0.5162, Val loss: 4.3852, Val. metric: 0.2060\n",
      "Epoch 71/100 (7.96s), Train loss: 1.7886, Train metric: 0.5184, Val loss: 4.3938, Val. metric: 0.2073\n",
      "Epoch 72/100 (7.86s), Train loss: 1.7796, Train metric: 0.5236, Val loss: 4.4161, Val. metric: 0.2090\n",
      "Epoch 73/100 (7.92s), Train loss: 1.7729, Train metric: 0.5264, Val loss: 4.3904, Val. metric: 0.2042\n",
      "Epoch 74/100 (7.77s), Train loss: 1.7620, Train metric: 0.5268, Val loss: 4.4479, Val. metric: 0.2012\n",
      "Epoch 75/100 (8.02s), Train loss: 1.7567, Train metric: 0.5273, Val loss: 4.4697, Val. metric: 0.2021\n",
      "Epoch 76/100 (7.77s), Train loss: 1.7464, Train metric: 0.5279, Val loss: 4.4810, Val. metric: 0.2052\n",
      "Epoch 77/100 (12.57s), Train loss: 1.7351, Train metric: 0.5316, Val loss: 4.5003, Val. metric: 0.2063\n",
      "Epoch 78/100 (10.62s), Train loss: 1.7331, Train metric: 0.5338, Val loss: 4.5441, Val. metric: 0.2052\n",
      "Epoch 79/100 (7.92s), Train loss: 1.7191, Train metric: 0.5361, Val loss: 4.5792, Val. metric: 0.2074\n",
      "Epoch 80/100 (8.13s), Train loss: 1.7049, Train metric: 0.5397, Val loss: 4.6050, Val. metric: 0.2087\n",
      "Epoch 81/100 (8.54s), Train loss: 1.7033, Train metric: 0.5406, Val loss: 4.6151, Val. metric: 0.2007\n",
      "Epoch 82/100 (7.98s), Train loss: 1.6981, Train metric: 0.5413, Val loss: 4.5932, Val. metric: 0.2020\n",
      "Epoch 83/100 (10.50s), Train loss: 1.6857, Train metric: 0.5456, Val loss: 4.6550, Val. metric: 0.2001\n",
      "Epoch 84/100 (11.37s), Train loss: 1.6785, Train metric: 0.5451, Val loss: 4.6110, Val. metric: 0.2030\n",
      "Epoch 85/100 (8.09s), Train loss: 1.6777, Train metric: 0.5470, Val loss: 4.6903, Val. metric: 0.1956\n",
      "Epoch 86/100 (7.67s), Train loss: 1.6727, Train metric: 0.5460, Val loss: 4.7260, Val. metric: 0.2008\n",
      "Epoch 87/100 (7.99s), Train loss: 1.6662, Train metric: 0.5480, Val loss: 4.7230, Val. metric: 0.2011\n",
      "Epoch 88/100 (7.91s), Train loss: 1.6652, Train metric: 0.5485, Val loss: 4.7507, Val. metric: 0.2036\n",
      "Epoch 89/100 (7.63s), Train loss: 1.6325, Train metric: 0.5579, Val loss: 4.8096, Val. metric: 0.1958\n",
      "Epoch 90/100 (7.94s), Train loss: 1.6341, Train metric: 0.5580, Val loss: 4.7614, Val. metric: 0.1983\n",
      "Epoch 91/100 (8.04s), Train loss: 1.6308, Train metric: 0.5561, Val loss: 4.7739, Val. metric: 0.1988\n",
      "Epoch 92/100 (7.90s), Train loss: 1.6158, Train metric: 0.5616, Val loss: 4.8066, Val. metric: 0.1997\n",
      "Epoch 93/100 (8.65s), Train loss: 1.6096, Train metric: 0.5627, Val loss: 4.8796, Val. metric: 0.2031\n",
      "Epoch 94/100 (8.16s), Train loss: 1.6180, Train metric: 0.5585, Val loss: 4.8611, Val. metric: 0.1989\n",
      "Epoch 95/100 (9.26s), Train loss: 1.6075, Train metric: 0.5632, Val loss: 4.8802, Val. metric: 0.1998\n",
      "Epoch 96/100 (7.74s), Train loss: 1.6023, Train metric: 0.5648, Val loss: 4.8759, Val. metric: 0.1986\n",
      "Epoch 97/100 (8.18s), Train loss: 1.5826, Train metric: 0.5699, Val loss: 4.8814, Val. metric: 0.1979\n",
      "Epoch 98/100 (7.52s), Train loss: 1.5698, Train metric: 0.5727, Val loss: 4.9031, Val. metric: 0.1980\n",
      "Epoch 99/100 (7.61s), Train loss: 1.5834, Train metric: 0.5664, Val loss: 4.9603, Val. metric: 0.1978\n",
      "Epoch 100/100 (7.61s), Train loss: 1.5698, Train metric: 0.5692, Val loss: 4.9906, Val. metric: 0.1965\n"
     ]
    }
   ],
   "source": [
    "history_mlp = utils.train(\n",
    "    model=model_mlp,\n",
    "    train_loader=train_loader,\n",
    "    n_epochs=TRAIN_EPOCHS,\n",
    "    criterion=torch.nn.CrossEntropyLoss(),\n",
    "    optimizer=torch.optim.Adam(model_mlp.parameters()),\n",
    "    validation_split=0.1,\n",
    "    metric_fn=torchmetrics.classification.MulticlassAccuracy(num_classes=100),\n",
    ")"
   ]
  },
  {
   "cell_type": "markdown",
   "id": "c4d001e5",
   "metadata": {},
   "source": [
    "Y veamos también la evolución de su error y su exactitud."
   ]
  },
  {
   "cell_type": "code",
   "execution_count": 18,
   "id": "90813e7f",
   "metadata": {},
   "outputs": [
    {
     "data": {
      "image/png": "[encoded data removed]",
      "text/plain": [
       "<Figure size 1280x384 with 1 Axes>"
      ]
     },
     "metadata": {},
     "output_type": "display_data"
    }
   ],
   "source": [
    "pd.DataFrame(history_mlp).plot()\n",
    "plt.xlabel('Epoch num.')\n",
    "plt.show()"
   ]
  },
  {
   "cell_type": "markdown",
   "id": "69b5baea",
   "metadata": {},
   "source": [
    "Parece que, aunque el MLP funciona bastante bien, la red no es capaz de llegar a tanta precisión como la CNN. Tiene sentido, ya que muchos de los parámetros se ocupan de relacionar píxeles que probablemente tengan muy poco que ver. Veamos qué tal se comportan con el conjunto de test. Al igual que con el entrenamiento, usaremos la función `evaluate` del módulo `utils` para no repetirnos demasiado."
   ]
  },
  {
   "cell_type": "code",
   "execution_count": 19,
   "id": "4c6fee2c",
   "metadata": {},
   "outputs": [
    {
     "name": "stdout",
     "output_type": "stream",
     "text": [
      "Results for CNN: Loss: 8.15807254486084, Acc: 0.2185489982366562\n",
      "Results for MLP: Loss: 5.059770454406738, Acc: 0.18401937186717987\n"
     ]
    }
   ],
   "source": [
    "eval_cnn = utils.evaluate(\n",
    "    model=model_cnn,\n",
    "    data_loader=test_loader,\n",
    "    criterion=torch.nn.CrossEntropyLoss(),\n",
    "    metric_fn=torchmetrics.classification.MulticlassAccuracy(num_classes=100),\n",
    ")\n",
    "eval_mlp = utils.evaluate(\n",
    "    model=model_mlp,\n",
    "    data_loader=test_loader,\n",
    "    criterion=torch.nn.CrossEntropyLoss(),\n",
    "    metric_fn=torchmetrics.classification.MulticlassAccuracy(num_classes=100),\n",
    ")\n",
    "print(f'Results for CNN: Loss: {eval_cnn.get(\"loss\")}, Acc: {eval_cnn.get(\"metric\")}')\n",
    "print(f'Results for MLP: Loss: {eval_mlp.get(\"loss\")}, Acc: {eval_mlp.get(\"metric\")}')"
   ]
  },
  {
   "cell_type": "markdown",
   "id": "f3c2a3d7",
   "metadata": {},
   "source": [
    "Además hemos hecho una pequeña trampa. Nuestra red de convolución sólo tiene una capa, y esto provoca que el resultado sea muy grande. Este, al conectarlo con la capa densa hace que el número de parámetros crezca dramáticamente.\n",
    "\n",
    "Vamos a tratar de solucionar esto y a comparar con un nuevo perceptrón."
   ]
  },
  {
   "cell_type": "code",
   "execution_count": 20,
   "id": "d8f3cc47",
   "metadata": {},
   "outputs": [
    {
     "name": "stdout",
     "output_type": "stream",
     "text": [
      "Sequential(\n",
      "  (0): Conv2d(3, 8, kernel_size=(3, 3), stride=(1, 1), padding=(1, 1))\n",
      "  (1): LeakyReLU(negative_slope=0.1)\n",
      "  (2): MaxPool2d(kernel_size=2, stride=2, padding=0, dilation=1, ceil_mode=False)\n",
      "  (3): Conv2d(8, 16, kernel_size=(3, 3), stride=(1, 1), padding=(1, 1))\n",
      "  (4): LeakyReLU(negative_slope=0.1)\n",
      "  (5): MaxPool2d(kernel_size=2, stride=2, padding=0, dilation=1, ceil_mode=False)\n",
      "  (6): Flatten(start_dim=1, end_dim=-1)\n",
      "  (7): Linear(in_features=1024, out_features=8, bias=True)\n",
      "  (8): LeakyReLU(negative_slope=0.1)\n",
      "  (9): Linear(in_features=8, out_features=100, bias=True)\n",
      ")\n",
      "No. of parameters: 10492\n"
     ]
    }
   ],
   "source": [
    "model_cnn_2 = torch.nn.Sequential(\n",
    "    # Primera capa convolucional\n",
    "    torch.nn.Conv2d(in_channels=3, out_channels=8, kernel_size=3, padding=\"same\"),\n",
    "    torch.nn.LeakyReLU(negative_slope=0.1),\n",
    "    torch.nn.MaxPool2d(kernel_size=2),\n",
    "    # Segunda capa convolucional\n",
    "    torch.nn.Conv2d(in_channels=8, out_channels=16, kernel_size=3, padding=\"same\"),\n",
    "    torch.nn.LeakyReLU(negative_slope=0.1),\n",
    "    torch.nn.MaxPool2d(kernel_size=2),\n",
    "    # Aplanamiento de las salidas\n",
    "    torch.nn.Flatten(),\n",
    "    # Inferencia\n",
    "    torch.nn.Linear(16 * 8 * 8, 8),  # La entrada es 8*8*8 después del último MaxPool\n",
    "    torch.nn.LeakyReLU(negative_slope=0.1),\n",
    "    torch.nn.Linear(8, 100),  # 100 clases en CIFAR-100\n",
    ")\n",
    "\n",
    "print(model_cnn_2)\n",
    "total_params = sum(p.numel() for p in model_cnn_2.parameters())\n",
    "print(f\"No. of parameters: {total_params}\")"
   ]
  },
  {
   "cell_type": "markdown",
   "id": "9eb3d79b",
   "metadata": {},
   "source": [
    "Hemos pasado de un plumazo de $275396$ a $10492$. ¡Casi nada!. Vamos su desempeño."
   ]
  },
  {
   "cell_type": "code",
   "execution_count": 21,
   "id": "f803a03b",
   "metadata": {},
   "outputs": [
    {
     "name": "stdout",
     "output_type": "stream",
     "text": [
      "Epoch 1/100 (11.49s), Train loss: 4.4615, Train metric: 0.0294, Val loss: 4.2715, Val. metric: 0.0496\n",
      "Epoch 2/100 (12.05s), Train loss: 4.1273, Train metric: 0.0662, Val loss: 3.9909, Val. metric: 0.0849\n",
      "Epoch 3/100 (11.06s), Train loss: 3.9084, Train metric: 0.0922, Val loss: 3.8271, Val. metric: 0.1066\n",
      "Epoch 4/100 (11.14s), Train loss: 3.7670, Train metric: 0.1100, Val loss: 3.7141, Val. metric: 0.1213\n",
      "Epoch 5/100 (12.49s), Train loss: 3.6627, Train metric: 0.1245, Val loss: 3.6375, Val. metric: 0.1294\n",
      "Epoch 6/100 (11.95s), Train loss: 3.5850, Train metric: 0.1381, Val loss: 3.5832, Val. metric: 0.1382\n",
      "Epoch 7/100 (12.22s), Train loss: 3.5212, Train metric: 0.1462, Val loss: 3.5398, Val. metric: 0.1527\n",
      "Epoch 8/100 (11.48s), Train loss: 3.4640, Train metric: 0.1573, Val loss: 3.4840, Val. metric: 0.1606\n",
      "Epoch 9/100 (11.02s), Train loss: 3.4172, Train metric: 0.1640, Val loss: 3.4508, Val. metric: 0.1594\n",
      "Epoch 10/100 (11.34s), Train loss: 3.3685, Train metric: 0.1724, Val loss: 3.4073, Val. metric: 0.1668\n",
      "Epoch 11/100 (11.36s), Train loss: 3.3273, Train metric: 0.1768, Val loss: 3.3786, Val. metric: 0.1738\n",
      "Epoch 12/100 (11.66s), Train loss: 3.2932, Train metric: 0.1857, Val loss: 3.3448, Val. metric: 0.1798\n",
      "Epoch 13/100 (11.09s), Train loss: 3.2560, Train metric: 0.1910, Val loss: 3.3099, Val. metric: 0.1850\n",
      "Epoch 14/100 (11.23s), Train loss: 3.2262, Train metric: 0.1952, Val loss: 3.2838, Val. metric: 0.1843\n",
      "Epoch 15/100 (11.54s), Train loss: 3.1994, Train metric: 0.2005, Val loss: 3.2671, Val. metric: 0.1918\n",
      "Epoch 16/100 (12.17s), Train loss: 3.1787, Train metric: 0.2058, Val loss: 3.2536, Val. metric: 0.1935\n",
      "Epoch 17/100 (12.46s), Train loss: 3.1553, Train metric: 0.2094, Val loss: 3.2450, Val. metric: 0.1961\n",
      "Epoch 18/100 (11.59s), Train loss: 3.1376, Train metric: 0.2136, Val loss: 3.2282, Val. metric: 0.1985\n",
      "Epoch 19/100 (11.19s), Train loss: 3.1214, Train metric: 0.2164, Val loss: 3.2010, Val. metric: 0.2014\n",
      "Epoch 20/100 (11.76s), Train loss: 3.1016, Train metric: 0.2202, Val loss: 3.2102, Val. metric: 0.2084\n",
      "Epoch 21/100 (11.24s), Train loss: 3.0906, Train metric: 0.2214, Val loss: 3.1889, Val. metric: 0.2124\n",
      "Epoch 22/100 (11.49s), Train loss: 3.0769, Train metric: 0.2242, Val loss: 3.1666, Val. metric: 0.2135\n",
      "Epoch 23/100 (11.62s), Train loss: 3.0667, Train metric: 0.2265, Val loss: 3.1795, Val. metric: 0.2153\n",
      "Epoch 24/100 (11.36s), Train loss: 3.0562, Train metric: 0.2292, Val loss: 3.1621, Val. metric: 0.2113\n",
      "Epoch 25/100 (11.44s), Train loss: 3.0466, Train metric: 0.2296, Val loss: 3.1752, Val. metric: 0.2080\n",
      "Epoch 26/100 (12.87s), Train loss: 3.0386, Train metric: 0.2322, Val loss: 3.1370, Val. metric: 0.2159\n",
      "Epoch 27/100 (12.48s), Train loss: 3.0260, Train metric: 0.2328, Val loss: 3.1277, Val. metric: 0.2200\n",
      "Epoch 28/100 (12.07s), Train loss: 3.0158, Train metric: 0.2343, Val loss: 3.1272, Val. metric: 0.2230\n",
      "Epoch 29/100 (11.00s), Train loss: 3.0101, Train metric: 0.2368, Val loss: 3.1271, Val. metric: 0.2223\n",
      "Epoch 30/100 (10.95s), Train loss: 3.0032, Train metric: 0.2381, Val loss: 3.1208, Val. metric: 0.2195\n",
      "Epoch 31/100 (11.18s), Train loss: 2.9994, Train metric: 0.2391, Val loss: 3.1163, Val. metric: 0.2225\n",
      "Epoch 32/100 (10.83s), Train loss: 2.9922, Train metric: 0.2398, Val loss: 3.1086, Val. metric: 0.2236\n",
      "Epoch 33/100 (11.00s), Train loss: 2.9839, Train metric: 0.2420, Val loss: 3.0986, Val. metric: 0.2264\n",
      "Epoch 34/100 (10.83s), Train loss: 2.9747, Train metric: 0.2433, Val loss: 3.1203, Val. metric: 0.2249\n",
      "Epoch 35/100 (11.00s), Train loss: 2.9743, Train metric: 0.2427, Val loss: 3.0982, Val. metric: 0.2216\n",
      "Epoch 36/100 (11.78s), Train loss: 2.9669, Train metric: 0.2453, Val loss: 3.1119, Val. metric: 0.2263\n",
      "Epoch 37/100 (11.35s), Train loss: 2.9637, Train metric: 0.2460, Val loss: 3.0976, Val. metric: 0.2292\n",
      "Epoch 38/100 (11.91s), Train loss: 2.9609, Train metric: 0.2469, Val loss: 3.1207, Val. metric: 0.2254\n",
      "Epoch 39/100 (11.07s), Train loss: 2.9528, Train metric: 0.2467, Val loss: 3.0925, Val. metric: 0.2242\n",
      "Epoch 40/100 (11.72s), Train loss: 2.9439, Train metric: 0.2492, Val loss: 3.0798, Val. metric: 0.2310\n",
      "Epoch 41/100 (10.87s), Train loss: 2.9467, Train metric: 0.2503, Val loss: 3.0948, Val. metric: 0.2290\n",
      "Epoch 42/100 (10.87s), Train loss: 2.9417, Train metric: 0.2492, Val loss: 3.0726, Val. metric: 0.2336\n",
      "Epoch 43/100 (11.18s), Train loss: 2.9357, Train metric: 0.2513, Val loss: 3.0717, Val. metric: 0.2299\n",
      "Epoch 44/100 (12.01s), Train loss: 2.9336, Train metric: 0.2506, Val loss: 3.0855, Val. metric: 0.2279\n",
      "Epoch 45/100 (11.86s), Train loss: 2.9277, Train metric: 0.2526, Val loss: 3.0765, Val. metric: 0.2338\n",
      "Epoch 46/100 (18.67s), Train loss: 2.9263, Train metric: 0.2525, Val loss: 3.0741, Val. metric: 0.2323\n",
      "Epoch 47/100 (17.77s), Train loss: 2.9216, Train metric: 0.2537, Val loss: 3.0714, Val. metric: 0.2319\n",
      "Epoch 48/100 (12.31s), Train loss: 2.9177, Train metric: 0.2544, Val loss: 3.0694, Val. metric: 0.2303\n",
      "Epoch 49/100 (11.73s), Train loss: 2.9141, Train metric: 0.2553, Val loss: 3.0512, Val. metric: 0.2371\n",
      "Epoch 50/100 (11.69s), Train loss: 2.9076, Train metric: 0.2553, Val loss: 3.0623, Val. metric: 0.2369\n",
      "Epoch 51/100 (12.37s), Train loss: 2.9043, Train metric: 0.2559, Val loss: 3.0524, Val. metric: 0.2340\n",
      "Epoch 52/100 (14.66s), Train loss: 2.9025, Train metric: 0.2571, Val loss: 3.0653, Val. metric: 0.2294\n",
      "Epoch 53/100 (13.09s), Train loss: 2.9027, Train metric: 0.2570, Val loss: 3.0560, Val. metric: 0.2309\n",
      "Epoch 54/100 (12.06s), Train loss: 2.8988, Train metric: 0.2580, Val loss: 3.0528, Val. metric: 0.2370\n",
      "Epoch 55/100 (13.98s), Train loss: 2.8932, Train metric: 0.2584, Val loss: 3.0677, Val. metric: 0.2371\n",
      "Epoch 56/100 (13.41s), Train loss: 2.8953, Train metric: 0.2585, Val loss: 3.0631, Val. metric: 0.2366\n",
      "Epoch 57/100 (15.35s), Train loss: 2.8892, Train metric: 0.2599, Val loss: 3.0515, Val. metric: 0.2367\n",
      "Epoch 58/100 (11.57s), Train loss: 2.8887, Train metric: 0.2579, Val loss: 3.0578, Val. metric: 0.2310\n",
      "Epoch 59/100 (12.98s), Train loss: 2.8845, Train metric: 0.2603, Val loss: 3.0492, Val. metric: 0.2310\n",
      "Epoch 60/100 (11.27s), Train loss: 2.8843, Train metric: 0.2615, Val loss: 3.0568, Val. metric: 0.2326\n",
      "Epoch 61/100 (12.58s), Train loss: 2.8795, Train metric: 0.2607, Val loss: 3.0575, Val. metric: 0.2319\n",
      "Epoch 62/100 (11.85s), Train loss: 2.8776, Train metric: 0.2611, Val loss: 3.0439, Val. metric: 0.2345\n",
      "Epoch 63/100 (11.70s), Train loss: 2.8716, Train metric: 0.2633, Val loss: 3.0483, Val. metric: 0.2295\n",
      "Epoch 64/100 (11.43s), Train loss: 2.8696, Train metric: 0.2640, Val loss: 3.0501, Val. metric: 0.2315\n",
      "Epoch 65/100 (13.40s), Train loss: 2.8705, Train metric: 0.2624, Val loss: 3.0491, Val. metric: 0.2348\n",
      "Epoch 66/100 (13.36s), Train loss: 2.8716, Train metric: 0.2634, Val loss: 3.0337, Val. metric: 0.2370\n",
      "Epoch 67/100 (11.97s), Train loss: 2.8627, Train metric: 0.2639, Val loss: 3.0329, Val. metric: 0.2384\n",
      "Epoch 68/100 (11.68s), Train loss: 2.8620, Train metric: 0.2645, Val loss: 3.0395, Val. metric: 0.2343\n",
      "Epoch 69/100 (11.19s), Train loss: 2.8629, Train metric: 0.2636, Val loss: 3.0397, Val. metric: 0.2360\n",
      "Epoch 70/100 (11.68s), Train loss: 2.8576, Train metric: 0.2643, Val loss: 3.0391, Val. metric: 0.2354\n",
      "Epoch 71/100 (11.33s), Train loss: 2.8544, Train metric: 0.2659, Val loss: 3.0430, Val. metric: 0.2326\n",
      "Epoch 72/100 (11.54s), Train loss: 2.8532, Train metric: 0.2664, Val loss: 3.0446, Val. metric: 0.2380\n",
      "Epoch 73/100 (11.53s), Train loss: 2.8481, Train metric: 0.2672, Val loss: 3.0375, Val. metric: 0.2362\n",
      "Epoch 74/100 (11.60s), Train loss: 2.8479, Train metric: 0.2655, Val loss: 3.0390, Val. metric: 0.2308\n",
      "Epoch 75/100 (12.99s), Train loss: 2.8508, Train metric: 0.2652, Val loss: 3.0454, Val. metric: 0.2370\n",
      "Epoch 76/100 (11.77s), Train loss: 2.8445, Train metric: 0.2670, Val loss: 3.0338, Val. metric: 0.2349\n",
      "Epoch 77/100 (13.64s), Train loss: 2.8397, Train metric: 0.2696, Val loss: 3.0312, Val. metric: 0.2419\n",
      "Epoch 78/100 (11.13s), Train loss: 2.8432, Train metric: 0.2673, Val loss: 3.0557, Val. metric: 0.2349\n",
      "Epoch 79/100 (11.91s), Train loss: 2.8384, Train metric: 0.2682, Val loss: 3.0282, Val. metric: 0.2410\n",
      "Epoch 80/100 (12.63s), Train loss: 2.8367, Train metric: 0.2698, Val loss: 3.0262, Val. metric: 0.2379\n",
      "Epoch 81/100 (11.90s), Train loss: 2.8372, Train metric: 0.2688, Val loss: 3.0479, Val. metric: 0.2266\n",
      "Epoch 82/100 (11.46s), Train loss: 2.8375, Train metric: 0.2691, Val loss: 3.0370, Val. metric: 0.2395\n",
      "Epoch 83/100 (11.13s), Train loss: 2.8334, Train metric: 0.2681, Val loss: 3.0233, Val. metric: 0.2405\n",
      "Epoch 84/100 (11.41s), Train loss: 2.8290, Train metric: 0.2692, Val loss: 3.0311, Val. metric: 0.2417\n",
      "Epoch 85/100 (11.93s), Train loss: 2.8290, Train metric: 0.2696, Val loss: 3.0336, Val. metric: 0.2337\n",
      "Epoch 86/100 (10.99s), Train loss: 2.8269, Train metric: 0.2705, Val loss: 3.0195, Val. metric: 0.2375\n",
      "Epoch 87/100 (11.86s), Train loss: 2.8234, Train metric: 0.2710, Val loss: 3.0299, Val. metric: 0.2389\n",
      "Epoch 88/100 (10.89s), Train loss: 2.8266, Train metric: 0.2725, Val loss: 3.0282, Val. metric: 0.2381\n",
      "Epoch 89/100 (11.34s), Train loss: 2.8236, Train metric: 0.2718, Val loss: 3.0164, Val. metric: 0.2366\n",
      "Epoch 90/100 (10.98s), Train loss: 2.8193, Train metric: 0.2721, Val loss: 3.0186, Val. metric: 0.2449\n",
      "Epoch 91/100 (11.14s), Train loss: 2.8199, Train metric: 0.2704, Val loss: 3.0311, Val. metric: 0.2329\n",
      "Epoch 92/100 (10.95s), Train loss: 2.8146, Train metric: 0.2724, Val loss: 3.0267, Val. metric: 0.2382\n",
      "Epoch 93/100 (10.88s), Train loss: 2.8171, Train metric: 0.2722, Val loss: 3.0250, Val. metric: 0.2380\n",
      "Epoch 94/100 (11.37s), Train loss: 2.8162, Train metric: 0.2727, Val loss: 3.0347, Val. metric: 0.2383\n",
      "Epoch 95/100 (11.12s), Train loss: 2.8148, Train metric: 0.2734, Val loss: 3.0223, Val. metric: 0.2407\n",
      "Epoch 96/100 (11.31s), Train loss: 2.8140, Train metric: 0.2717, Val loss: 3.0256, Val. metric: 0.2437\n",
      "Epoch 97/100 (11.35s), Train loss: 2.8115, Train metric: 0.2737, Val loss: 3.0297, Val. metric: 0.2390\n",
      "Epoch 98/100 (11.10s), Train loss: 2.8088, Train metric: 0.2737, Val loss: 3.0163, Val. metric: 0.2412\n",
      "Epoch 99/100 (11.38s), Train loss: 2.8090, Train metric: 0.2712, Val loss: 3.0189, Val. metric: 0.2396\n",
      "Epoch 100/100 (10.84s), Train loss: 2.8078, Train metric: 0.2731, Val loss: 3.0194, Val. metric: 0.2393\n"
     ]
    }
   ],
   "source": [
    "history_cnn_2 = utils.train(\n",
    "    model=model_cnn_2,\n",
    "    train_loader=train_loader,\n",
    "    n_epochs=TRAIN_EPOCHS,\n",
    "    criterion=torch.nn.CrossEntropyLoss(),\n",
    "    optimizer=torch.optim.Adam(model_cnn_2.parameters()),\n",
    "    validation_split=0.1,\n",
    "    metric_fn=torchmetrics.classification.MulticlassAccuracy(num_classes=100),\n",
    ")"
   ]
  },
  {
   "cell_type": "markdown",
   "id": "1e897570",
   "metadata": {},
   "source": [
    "Gráficamente, la evolución queda como sigue:"
   ]
  },
  {
   "cell_type": "code",
   "execution_count": 22,
   "id": "5f6be095",
   "metadata": {},
   "outputs": [
    {
     "data": {
      "image/png": "[encoded data removed]",
      "text/plain": [
       "<Figure size 1280x384 with 1 Axes>"
      ]
     },
     "metadata": {},
     "output_type": "display_data"
    }
   ],
   "source": [
    "pd.DataFrame(history_cnn_2).plot()\n",
    "plt.xlabel('Epoch num.')\n",
    "plt.show()"
   ]
  },
  {
   "cell_type": "markdown",
   "id": "3b18a03f",
   "metadata": {},
   "source": [
    "Parece un entrenamiento más estable y con mejores valores. Comparemos ahora los resultados de los tres modelos con el conjunto de test."
   ]
  },
  {
   "cell_type": "code",
   "execution_count": 23,
   "id": "6d920bb6",
   "metadata": {},
   "outputs": [
    {
     "name": "stdout",
     "output_type": "stream",
     "text": [
      "Results for CNN 2.0: Loss: 8.15807254486084, Acc: 0.2185489982366562\n",
      "Results for CNN:     Loss: 3.0239676986694337, Acc: 0.22723986208438873\n",
      "Results for MLP:     Loss: 5.059770454406738, Acc: 0.18401937186717987\n"
     ]
    }
   ],
   "source": [
    "eval_cnn_2 = utils.evaluate(\n",
    "    model=model_cnn_2,\n",
    "    data_loader=test_loader,\n",
    "    criterion=torch.nn.CrossEntropyLoss(),\n",
    "    metric_fn=torchmetrics.classification.MulticlassAccuracy(num_classes=100),\n",
    ")\n",
    "\n",
    "print(f'Results for CNN 2.0: Loss: {eval_cnn.get(\"loss\")}, Acc: {eval_cnn.get(\"metric\")}')\n",
    "print(f'Results for CNN:     Loss: {eval_cnn_2.get(\"loss\")}, Acc: {eval_cnn_2.get(\"metric\")}')\n",
    "print(f'Results for MLP:     Loss: {eval_mlp.get(\"loss\")}, Acc: {eval_mlp.get(\"metric\")}')"
   ]
  },
  {
   "cell_type": "markdown",
   "id": "4379fe8a",
   "metadata": {},
   "source": [
    "El modelo generaliza mejor que el resto y además ocupa muchísimo menos. Parece que la arquitectura de CNN se comporta bastante mejor para este tipo de problemas."
   ]
  },
  {
   "cell_type": "code",
   "execution_count": 24,
   "id": "109c198a-0acc-493c-a665-a0bd0d8a62cd",
   "metadata": {},
   "outputs": [
    {
     "data": {
      "image/png": "[encoded data removed]",
      "text/plain": [
       "<Figure size 1280x384 with 2 Axes>"
      ]
     },
     "metadata": {},
     "output_type": "display_data"
    }
   ],
   "source": [
    "fig, axs = plt.subplots(1, 2)\n",
    "\n",
    "pd.DataFrame({\n",
    "    \"CNN 2.0\": history_cnn_2['val_metric'],\n",
    "    \"CNN\": history_cnn['val_metric'],\n",
    "    \"MLP\": history_mlp['val_metric'],\n",
    "}).plot(ax=axs[0])\n",
    "axs[0].set_xlabel('Epoch num.')\n",
    "axs[0].set_title('Validation accuracy')\n",
    "\n",
    "pd.DataFrame({\n",
    "    \"CNN 2.0\": history_cnn_2['val_loss'],\n",
    "    \"CNN\": history_cnn['val_loss'],\n",
    "    \"MLP\": history_mlp['val_loss'],\n",
    "}).plot(ax=axs[1])\n",
    "axs[1].set_xlabel('Epoch num.')\n",
    "axs[1].set_title('Validation loss')\n",
    "\n",
    "plt.tight_layout()\n",
    "plt.show()"
   ]
  },
  {
   "cell_type": "markdown",
   "id": "8965de9d-521b-4aab-bfea-4fa9bcc057bb",
   "metadata": {},
   "source": [
    "Sin embargo, tiene un problema que es probable que hayamos identificado: La velocidad de entrenamiento. Después de todo, las operaciones de convolución son más lentas que un simple producto de matrices."
   ]
  },
  {
   "cell_type": "markdown",
   "id": "bd5fe593",
   "metadata": {},
   "source": [
    "## Modelos LeNet y AlexNet"
   ]
  },
  {
   "cell_type": "markdown",
   "id": "49d93676",
   "metadata": {},
   "source": [
    "El modelo de red convolucional LeNet es una de las primeras redes neuronales que usaron opreaciones de convolución. Fue propuesta por Yann LeCun [1] en 1989 para el problema del reconocimiento (i.e. clasificación) de números manuscritos\n",
    "\n",
    "LeNet es el modelo en el que se inspira AlexNet [2], el modelo de que ganó la competición ImageNet en 2012 y que se considera como el origen de la vorágine del deep learning que nos ha traído hasta el momento actual.\n",
    "\n",
    "<figure>\n",
    "    <center>\n",
    "        <img src=\"https://media.licdn.com/dms/image/D4E12AQFOevexWWMwhA/article-cover_image-shrink_600_2000/0/1680257599468?e=2147483647&v=beta&t=AaLo1l9ln5Tyl1ArH1sRlKELkjFdTrpRf_My-uaHuf4\" alt=\"Lenet vs AlexNet\" style=\"width:70%\" />\n",
    "        <figcaption align = \"center\"><strong>Figura 1</strong>. Diferencias entre arquitecturas LeNet y AlexNet. Fuente: <a href=\"https://www.linkedin.com/pulse/lenet-alexnet-chandrahasa-sreeramaneni\">LinkedIn</a>, <a href=\"https://creativecommons.org/licenses/by-sa/4.0\" title=\"Creative Commons Attribution-Share Alike 4.0\">CC BY-SA 4.0</a>, <a href=\"https://commons.wikimedia.org/w/index.php?curid=104937230\">Link</a></figcaption>\n",
    "    </center>\n",
    "</figure>\n",
    "\n",
    "Fijémonos en el año del primero. Usaron los algoritmos de retropropagación recién propuestos (1986, aunque es cierto que la técnica tiene predecesores) para el entrenamiento de los filtros de convolución. Por ello, sus autores se consideran pioneros en la clasificación de imágenes.\n",
    "\n",
    "Crearemos ahora estas arquitecturas para ver cómo se comportan con este conjunto de datos."
   ]
  },
  {
   "cell_type": "markdown",
   "id": "c8c62f93",
   "metadata": {},
   "source": [
    "### Arquitectura LeNet"
   ]
  },
  {
   "cell_type": "markdown",
   "id": "263a2fb8",
   "metadata": {},
   "source": [
    "Existen muchas variantes diferentes. Nosotros implementaremos la mostrada en la Figura 1, pero no es la original (partiendo de que esta además toma como entrada imágenes de $32 \\times 32$."
   ]
  },
  {
   "cell_type": "code",
   "execution_count": 25,
   "id": "bbeb42ae",
   "metadata": {},
   "outputs": [
    {
     "name": "stdout",
     "output_type": "stream",
     "text": [
      "Sequential(\n",
      "  (0): Conv2d(3, 6, kernel_size=(5, 5), stride=(1, 1), padding=same)\n",
      "  (1): Sigmoid()\n",
      "  (2): AvgPool2d(kernel_size=2, stride=2, padding=0)\n",
      "  (3): Conv2d(6, 16, kernel_size=(5, 5), stride=(1, 1))\n",
      "  (4): Sigmoid()\n",
      "  (5): AvgPool2d(kernel_size=2, stride=2, padding=0)\n",
      "  (6): Flatten(start_dim=1, end_dim=-1)\n",
      "  (7): Linear(in_features=576, out_features=120, bias=True)\n",
      "  (8): Sigmoid()\n",
      "  (9): Dropout(p=0.75, inplace=False)\n",
      "  (10): Linear(in_features=120, out_features=84, bias=True)\n",
      "  (11): Sigmoid()\n",
      "  (12): Dropout(p=0.75, inplace=False)\n",
      "  (13): Linear(in_features=84, out_features=100, bias=True)\n",
      ")\n",
      "No. of parameters: 90776\n"
     ]
    }
   ],
   "source": [
    "lenet = torch.nn.Sequential(\n",
    "    torch.nn.Conv2d(in_channels=3, out_channels=6, kernel_size=5, padding='same'),\n",
    "    torch.nn.Sigmoid(),\n",
    "    torch.nn.AvgPool2d(kernel_size=2),\n",
    "    torch.nn.Conv2d(in_channels=6, out_channels=16, kernel_size=5),\n",
    "    torch.nn.Sigmoid(),\n",
    "    torch.nn.AvgPool2d(kernel_size=2),\n",
    "    torch.nn.Flatten(),\n",
    "    torch.nn.Linear(in_features=16 * 6 * 6, out_features=120),\n",
    "    torch.nn.Sigmoid(),\n",
    "    torch.nn.Dropout(p=0.75),\n",
    "    torch.nn.Linear(in_features=120, out_features=84),\n",
    "    torch.nn.Sigmoid(),\n",
    "    torch.nn.Dropout(p=0.75),\n",
    "    torch.nn.Linear(in_features=84, out_features=100),\n",
    ")\n",
    "\n",
    "print(lenet)\n",
    "total_params = sum(p.numel() for p in lenet.parameters())\n",
    "print(f\"No. of parameters: {total_params}\")"
   ]
  },
  {
   "cell_type": "markdown",
   "id": "1174b387",
   "metadata": {},
   "source": [
    "Esta arquitectura bastantes más parámetros que las última red. Veamos cómo progresa el entrenamiento durante 50 epochs como en los anteriores ejemplos."
   ]
  },
  {
   "cell_type": "code",
   "execution_count": 26,
   "id": "f861e9d4",
   "metadata": {},
   "outputs": [
    {
     "name": "stdout",
     "output_type": "stream",
     "text": [
      "Epoch 1/100 (10.72s), Train loss: 4.6431, Train metric: 0.0096, Val loss: 4.6076, Val. metric: 0.0100\n",
      "Epoch 2/100 (10.84s), Train loss: 4.6102, Train metric: 0.0097, Val loss: 4.6072, Val. metric: 0.0100\n",
      "Epoch 3/100 (11.34s), Train loss: 4.6071, Train metric: 0.0104, Val loss: 4.6071, Val. metric: 0.0100\n",
      "Epoch 4/100 (11.10s), Train loss: 4.6068, Train metric: 0.0093, Val loss: 4.6070, Val. metric: 0.0100\n",
      "Epoch 5/100 (10.77s), Train loss: 4.6066, Train metric: 0.0106, Val loss: 4.6071, Val. metric: 0.0100\n",
      "Epoch 6/100 (11.52s), Train loss: 4.6059, Train metric: 0.0090, Val loss: 4.6071, Val. metric: 0.0100\n",
      "Epoch 7/100 (10.97s), Train loss: 4.6059, Train metric: 0.0094, Val loss: 4.6071, Val. metric: 0.0100\n",
      "Epoch 8/100 (12.13s), Train loss: 4.6059, Train metric: 0.0092, Val loss: 4.6073, Val. metric: 0.0100\n",
      "Epoch 9/100 (10.75s), Train loss: 4.6057, Train metric: 0.0090, Val loss: 4.6073, Val. metric: 0.0100\n",
      "Epoch 10/100 (10.75s), Train loss: 4.6056, Train metric: 0.0095, Val loss: 4.6073, Val. metric: 0.0100\n",
      "Epoch 11/100 (10.73s), Train loss: 4.6058, Train metric: 0.0094, Val loss: 4.6073, Val. metric: 0.0100\n",
      "Epoch 12/100 (10.81s), Train loss: 4.6056, Train metric: 0.0102, Val loss: 4.6074, Val. metric: 0.0100\n",
      "Epoch 13/100 (11.69s), Train loss: 4.6056, Train metric: 0.0104, Val loss: 4.6073, Val. metric: 0.0100\n",
      "Epoch 14/100 (10.83s), Train loss: 4.6055, Train metric: 0.0096, Val loss: 4.6067, Val. metric: 0.0189\n",
      "Epoch 15/100 (10.59s), Train loss: 4.5806, Train metric: 0.0120, Val loss: 4.4900, Val. metric: 0.0130\n",
      "Epoch 16/100 (10.90s), Train loss: 4.4866, Train metric: 0.0181, Val loss: 4.4385, Val. metric: 0.0253\n",
      "Epoch 17/100 (11.34s), Train loss: 4.4479, Train metric: 0.0228, Val loss: 4.4022, Val. metric: 0.0274\n",
      "Epoch 18/100 (11.84s), Train loss: 4.4134, Train metric: 0.0254, Val loss: 4.3640, Val. metric: 0.0301\n",
      "Epoch 19/100 (10.87s), Train loss: 4.3865, Train metric: 0.0268, Val loss: 4.3307, Val. metric: 0.0374\n",
      "Epoch 20/100 (10.61s), Train loss: 4.3654, Train metric: 0.0294, Val loss: 4.3117, Val. metric: 0.0360\n",
      "Epoch 21/100 (10.85s), Train loss: 4.3402, Train metric: 0.0308, Val loss: 4.2757, Val. metric: 0.0415\n",
      "Epoch 22/100 (11.01s), Train loss: 4.3187, Train metric: 0.0343, Val loss: 4.2454, Val. metric: 0.0423\n",
      "Epoch 23/100 (11.29s), Train loss: 4.3015, Train metric: 0.0359, Val loss: 4.2317, Val. metric: 0.0459\n",
      "Epoch 24/100 (10.76s), Train loss: 4.2870, Train metric: 0.0371, Val loss: 4.2199, Val. metric: 0.0484\n",
      "Epoch 25/100 (10.84s), Train loss: 4.2762, Train metric: 0.0390, Val loss: 4.2004, Val. metric: 0.0503\n",
      "Epoch 26/100 (11.11s), Train loss: 4.2657, Train metric: 0.0400, Val loss: 4.1879, Val. metric: 0.0484\n",
      "Epoch 27/100 (12.22s), Train loss: 4.2576, Train metric: 0.0420, Val loss: 4.1753, Val. metric: 0.0530\n",
      "Epoch 28/100 (11.28s), Train loss: 4.2446, Train metric: 0.0427, Val loss: 4.1747, Val. metric: 0.0535\n",
      "Epoch 29/100 (11.70s), Train loss: 4.2275, Train metric: 0.0437, Val loss: 4.1498, Val. metric: 0.0550\n",
      "Epoch 30/100 (10.83s), Train loss: 4.2177, Train metric: 0.0448, Val loss: 4.1306, Val. metric: 0.0597\n",
      "Epoch 31/100 (10.84s), Train loss: 4.2105, Train metric: 0.0468, Val loss: 4.1110, Val. metric: 0.0599\n",
      "Epoch 32/100 (10.89s), Train loss: 4.1993, Train metric: 0.0459, Val loss: 4.0984, Val. metric: 0.0606\n",
      "Epoch 33/100 (11.29s), Train loss: 4.1888, Train metric: 0.0474, Val loss: 4.0868, Val. metric: 0.0610\n",
      "Epoch 34/100 (10.68s), Train loss: 4.1824, Train metric: 0.0487, Val loss: 4.0720, Val. metric: 0.0638\n",
      "Epoch 35/100 (11.28s), Train loss: 4.1696, Train metric: 0.0494, Val loss: 4.0767, Val. metric: 0.0635\n",
      "Epoch 36/100 (10.81s), Train loss: 4.1583, Train metric: 0.0492, Val loss: 4.0728, Val. metric: 0.0644\n",
      "Epoch 37/100 (10.95s), Train loss: 4.1510, Train metric: 0.0506, Val loss: 4.0544, Val. metric: 0.0637\n",
      "Epoch 38/100 (12.19s), Train loss: 4.1483, Train metric: 0.0507, Val loss: 4.0361, Val. metric: 0.0671\n",
      "Epoch 39/100 (10.99s), Train loss: 4.1409, Train metric: 0.0508, Val loss: 4.0202, Val. metric: 0.0659\n",
      "Epoch 40/100 (11.63s), Train loss: 4.1316, Train metric: 0.0539, Val loss: 4.0186, Val. metric: 0.0641\n",
      "Epoch 41/100 (10.67s), Train loss: 4.1275, Train metric: 0.0512, Val loss: 3.9994, Val. metric: 0.0682\n",
      "Epoch 42/100 (10.72s), Train loss: 4.1178, Train metric: 0.0529, Val loss: 3.9913, Val. metric: 0.0728\n",
      "Epoch 43/100 (11.24s), Train loss: 4.1101, Train metric: 0.0539, Val loss: 3.9843, Val. metric: 0.0711\n",
      "Epoch 44/100 (10.78s), Train loss: 4.1024, Train metric: 0.0546, Val loss: 3.9760, Val. metric: 0.0780\n",
      "Epoch 45/100 (10.71s), Train loss: 4.0944, Train metric: 0.0547, Val loss: 3.9745, Val. metric: 0.0714\n",
      "Epoch 46/100 (10.88s), Train loss: 4.0971, Train metric: 0.0552, Val loss: 3.9734, Val. metric: 0.0743\n",
      "Epoch 47/100 (10.92s), Train loss: 4.0854, Train metric: 0.0573, Val loss: 3.9568, Val. metric: 0.0732\n",
      "Epoch 48/100 (11.98s), Train loss: 4.0791, Train metric: 0.0577, Val loss: 3.9440, Val. metric: 0.0767\n",
      "Epoch 49/100 (10.92s), Train loss: 4.0790, Train metric: 0.0578, Val loss: 3.9419, Val. metric: 0.0736\n",
      "Epoch 50/100 (11.73s), Train loss: 4.0684, Train metric: 0.0593, Val loss: 3.9321, Val. metric: 0.0873\n",
      "Epoch 51/100 (10.89s), Train loss: 4.0634, Train metric: 0.0608, Val loss: 3.9318, Val. metric: 0.0801\n",
      "Epoch 52/100 (10.80s), Train loss: 4.0585, Train metric: 0.0593, Val loss: 3.9236, Val. metric: 0.0810\n",
      "Epoch 53/100 (11.06s), Train loss: 4.0563, Train metric: 0.0609, Val loss: 3.9167, Val. metric: 0.0828\n",
      "Epoch 54/100 (10.52s), Train loss: 4.0523, Train metric: 0.0606, Val loss: 3.8976, Val. metric: 0.0871\n",
      "Epoch 55/100 (10.76s), Train loss: 4.0486, Train metric: 0.0641, Val loss: 3.8947, Val. metric: 0.0833\n",
      "Epoch 56/100 (10.80s), Train loss: 4.0446, Train metric: 0.0653, Val loss: 3.8875, Val. metric: 0.0872\n",
      "Epoch 57/100 (10.73s), Train loss: 4.0368, Train metric: 0.0631, Val loss: 3.8921, Val. metric: 0.0827\n",
      "Epoch 58/100 (11.29s), Train loss: 4.0346, Train metric: 0.0638, Val loss: 3.8693, Val. metric: 0.0866\n",
      "Epoch 59/100 (11.57s), Train loss: 4.0270, Train metric: 0.0675, Val loss: 3.8623, Val. metric: 0.0901\n",
      "Epoch 60/100 (10.73s), Train loss: 4.0276, Train metric: 0.0662, Val loss: 3.8776, Val. metric: 0.0832\n",
      "Epoch 61/100 (11.67s), Train loss: 4.0208, Train metric: 0.0653, Val loss: 3.8623, Val. metric: 0.0873\n",
      "Epoch 62/100 (12.00s), Train loss: 4.0217, Train metric: 0.0676, Val loss: 3.8626, Val. metric: 0.0911\n",
      "Epoch 63/100 (11.14s), Train loss: 4.0145, Train metric: 0.0652, Val loss: 3.8614, Val. metric: 0.0883\n",
      "Epoch 64/100 (10.71s), Train loss: 4.0087, Train metric: 0.0680, Val loss: 3.8412, Val. metric: 0.0953\n",
      "Epoch 65/100 (10.71s), Train loss: 4.0037, Train metric: 0.0686, Val loss: 3.8397, Val. metric: 0.0886\n",
      "Epoch 66/100 (10.70s), Train loss: 4.0071, Train metric: 0.0674, Val loss: 3.8441, Val. metric: 0.0872\n",
      "Epoch 67/100 (11.17s), Train loss: 4.0029, Train metric: 0.0675, Val loss: 3.8303, Val. metric: 0.0972\n",
      "Epoch 68/100 (11.59s), Train loss: 3.9964, Train metric: 0.0678, Val loss: 3.8306, Val. metric: 0.0883\n",
      "Epoch 69/100 (11.16s), Train loss: 3.9967, Train metric: 0.0705, Val loss: 3.8163, Val. metric: 0.0973\n",
      "Epoch 70/100 (11.03s), Train loss: 4.0023, Train metric: 0.0696, Val loss: 3.8217, Val. metric: 0.0916\n",
      "Epoch 71/100 (11.22s), Train loss: 3.9899, Train metric: 0.0712, Val loss: 3.8233, Val. metric: 0.0931\n",
      "Epoch 72/100 (11.50s), Train loss: 3.9891, Train metric: 0.0700, Val loss: 3.8063, Val. metric: 0.0946\n",
      "Epoch 73/100 (11.17s), Train loss: 3.9827, Train metric: 0.0690, Val loss: 3.8128, Val. metric: 0.0979\n",
      "Epoch 74/100 (10.73s), Train loss: 3.9765, Train metric: 0.0724, Val loss: 3.7960, Val. metric: 0.1000\n",
      "Epoch 75/100 (10.55s), Train loss: 3.9791, Train metric: 0.0701, Val loss: 3.7997, Val. metric: 0.0968\n",
      "Epoch 76/100 (11.00s), Train loss: 3.9728, Train metric: 0.0714, Val loss: 3.8012, Val. metric: 0.0951\n",
      "Epoch 77/100 (11.11s), Train loss: 3.9725, Train metric: 0.0717, Val loss: 3.7948, Val. metric: 0.0991\n",
      "Epoch 78/100 (10.90s), Train loss: 3.9723, Train metric: 0.0724, Val loss: 3.7830, Val. metric: 0.1032\n",
      "Epoch 79/100 (10.67s), Train loss: 3.9693, Train metric: 0.0727, Val loss: 3.7926, Val. metric: 0.0999\n",
      "Epoch 80/100 (11.64s), Train loss: 3.9650, Train metric: 0.0708, Val loss: 3.7869, Val. metric: 0.0991\n",
      "Epoch 81/100 (10.78s), Train loss: 3.9638, Train metric: 0.0737, Val loss: 3.8062, Val. metric: 0.0974\n",
      "Epoch 82/100 (12.00s), Train loss: 3.9617, Train metric: 0.0742, Val loss: 3.7718, Val. metric: 0.1040\n",
      "Epoch 83/100 (11.06s), Train loss: 3.9576, Train metric: 0.0736, Val loss: 3.7694, Val. metric: 0.1028\n",
      "Epoch 84/100 (10.83s), Train loss: 3.9563, Train metric: 0.0717, Val loss: 3.7856, Val. metric: 0.1018\n",
      "Epoch 85/100 (10.66s), Train loss: 3.9568, Train metric: 0.0741, Val loss: 3.7797, Val. metric: 0.1009\n",
      "Epoch 86/100 (10.68s), Train loss: 3.9488, Train metric: 0.0754, Val loss: 3.7629, Val. metric: 0.1012\n",
      "Epoch 87/100 (11.09s), Train loss: 3.9476, Train metric: 0.0750, Val loss: 3.7690, Val. metric: 0.1078\n",
      "Epoch 88/100 (10.85s), Train loss: 3.9416, Train metric: 0.0776, Val loss: 3.7680, Val. metric: 0.1045\n",
      "Epoch 89/100 (10.73s), Train loss: 3.9458, Train metric: 0.0736, Val loss: 3.7457, Val. metric: 0.1110\n",
      "Epoch 90/100 (10.84s), Train loss: 3.9471, Train metric: 0.0753, Val loss: 3.7621, Val. metric: 0.1080\n",
      "Epoch 91/100 (11.50s), Train loss: 3.9365, Train metric: 0.0751, Val loss: 3.7529, Val. metric: 0.1120\n",
      "Epoch 92/100 (11.41s), Train loss: 3.9373, Train metric: 0.0764, Val loss: 3.7359, Val. metric: 0.1127\n",
      "Epoch 93/100 (11.75s), Train loss: 3.9350, Train metric: 0.0775, Val loss: 3.7392, Val. metric: 0.1116\n",
      "Epoch 94/100 (10.77s), Train loss: 3.9338, Train metric: 0.0776, Val loss: 3.7452, Val. metric: 0.1104\n",
      "Epoch 95/100 (10.86s), Train loss: 3.9294, Train metric: 0.0774, Val loss: 3.7380, Val. metric: 0.1098\n",
      "Epoch 96/100 (10.77s), Train loss: 3.9366, Train metric: 0.0781, Val loss: 3.7315, Val. metric: 0.1165\n",
      "Epoch 97/100 (11.82s), Train loss: 3.9354, Train metric: 0.0769, Val loss: 3.7409, Val. metric: 0.1103\n",
      "Epoch 98/100 (13.68s), Train loss: 3.9311, Train metric: 0.0785, Val loss: 3.7377, Val. metric: 0.1112\n",
      "Epoch 99/100 (12.75s), Train loss: 3.9216, Train metric: 0.0795, Val loss: 3.7297, Val. metric: 0.1147\n",
      "Epoch 100/100 (13.73s), Train loss: 3.9276, Train metric: 0.0762, Val loss: 3.7190, Val. metric: 0.1148\n"
     ]
    }
   ],
   "source": [
    "history_lenet = utils.train(\n",
    "    model=lenet,\n",
    "    train_loader=train_loader,\n",
    "    n_epochs=TRAIN_EPOCHS,\n",
    "    criterion=torch.nn.CrossEntropyLoss(),\n",
    "    optimizer=torch.optim.Adam(lenet.parameters()),\n",
    "    validation_split=0.1,\n",
    "    metric_fn=torchmetrics.classification.MulticlassAccuracy(num_classes=100),\n",
    ")"
   ]
  },
  {
   "cell_type": "markdown",
   "id": "82b409a9",
   "metadata": {},
   "source": [
    "Gráficamente, la evolución queda como sigue:"
   ]
  },
  {
   "cell_type": "code",
   "execution_count": 27,
   "id": "5d5b9a1f-1732-4446-9cd7-e6a60eb2b518",
   "metadata": {},
   "outputs": [
    {
     "data": {
      "image/png": "[encoded data removed]",
      "text/plain": [
       "<Figure size 1280x384 with 1 Axes>"
      ]
     },
     "metadata": {},
     "output_type": "display_data"
    }
   ],
   "source": [
    "pd.DataFrame(history_lenet).plot()\n",
    "plt.xlabel('Epoch num.')\n",
    "plt.show()"
   ]
  },
  {
   "cell_type": "markdown",
   "id": "30690699",
   "metadata": {},
   "source": [
    "### Arquitectura AlexNet"
   ]
  },
  {
   "cell_type": "markdown",
   "id": "83cddef3",
   "metadata": {},
   "source": [
    "Como hemos visto, la arquitectura AlexNet es una ampliación de la arquitectura LeNet, diseñada para la competición ImageNet que consistía en la clasificación de imágenes de $224 \\times 224 \\times 3$ en una entre mil clases.\n",
    "\n",
    "A diferencia que con LeNet, aquí implementaremos una versión un tanto diferente a la de la Figura 2:\n",
    "\n",
    "1. a última capa no será de 1000, sino de 10, ya que las clases en las que clasificar son 10 dígitos\n",
    "2. Reduciremos las dimensiones de los filtros de convolución y _pooling_ ya que la imagen de entrada no es lo suficientemente grande para soportarlos (se reducen por debajo de cero píxeles)\n",
    "3. También eliminaremos los _strides_ por el mismo motivo."
   ]
  },
  {
   "cell_type": "code",
   "execution_count": 28,
   "id": "9443a6f4",
   "metadata": {},
   "outputs": [
    {
     "name": "stdout",
     "output_type": "stream",
     "text": [
      "Sequential(\n",
      "  (0): Conv2d(3, 96, kernel_size=(3, 3), stride=(1, 1))\n",
      "  (1): ReLU()\n",
      "  (2): MaxPool2d(kernel_size=2, stride=2, padding=0, dilation=1, ceil_mode=False)\n",
      "  (3): Conv2d(96, 256, kernel_size=(3, 3), stride=(1, 1), padding=same)\n",
      "  (4): ReLU()\n",
      "  (5): MaxPool2d(kernel_size=2, stride=2, padding=0, dilation=1, ceil_mode=False)\n",
      "  (6): Conv2d(256, 384, kernel_size=(3, 3), stride=(1, 1), padding=same)\n",
      "  (7): ReLU()\n",
      "  (8): Conv2d(384, 384, kernel_size=(3, 3), stride=(1, 1), padding=same)\n",
      "  (9): ReLU()\n",
      "  (10): Conv2d(384, 256, kernel_size=(3, 3), stride=(1, 1), padding=same)\n",
      "  (11): ReLU()\n",
      "  (12): MaxPool2d(kernel_size=3, stride=3, padding=0, dilation=1, ceil_mode=False)\n",
      "  (13): Flatten(start_dim=1, end_dim=-1)\n",
      "  (14): Linear(in_features=1024, out_features=4096, bias=True)\n",
      "  (15): ReLU()\n",
      "  (16): Dropout(p=0.75, inplace=False)\n",
      "  (17): Linear(in_features=4096, out_features=4096, bias=True)\n",
      "  (18): ReLU()\n",
      "  (19): Dropout(p=0.75, inplace=False)\n",
      "  (20): Linear(in_features=4096, out_features=100, bias=True)\n",
      ")\n",
      "No. of parameters: 24711140\n"
     ]
    }
   ],
   "source": [
    "alexnet = torch.nn.Sequential(\n",
    "    torch.nn.Conv2d(in_channels=3, out_channels=96, kernel_size=3),\n",
    "    torch.nn.ReLU(),\n",
    "    torch.nn.MaxPool2d(kernel_size=2, stride=2),  # -> (96, 13, 13)\n",
    "    torch.nn.Conv2d(in_channels=96, out_channels=256, kernel_size=3, padding=\"same\"),\n",
    "    torch.nn.ReLU(),\n",
    "    torch.nn.MaxPool2d(kernel_size=2, stride=2),  # -> (256, 6, 6)\n",
    "    torch.nn.Conv2d(in_channels=256, out_channels=384, kernel_size=3, padding=\"same\"),\n",
    "    torch.nn.ReLU(),\n",
    "    torch.nn.Conv2d(in_channels=384, out_channels=384, kernel_size=3, padding=\"same\"),\n",
    "    torch.nn.ReLU(),\n",
    "    torch.nn.Conv2d(in_channels=384, out_channels=256, kernel_size=3, padding=\"same\"),\n",
    "    torch.nn.ReLU(),\n",
    "    torch.nn.MaxPool2d(kernel_size=3, stride=3),  # -> (256, 2, 2)\n",
    "    torch.nn.Flatten(),  # -> 256 * 2 * 2 = 1024\n",
    "    torch.nn.Linear(in_features=1024, out_features=4096),\n",
    "    torch.nn.ReLU(),\n",
    "    torch.nn.Dropout(p=0.75),\n",
    "    torch.nn.Linear(in_features=4096, out_features=4096),\n",
    "    torch.nn.ReLU(),\n",
    "    torch.nn.Dropout(p=0.75),\n",
    "    torch.nn.Linear(in_features=4096, out_features=100),\n",
    ")\n",
    "\n",
    "print(alexnet)\n",
    "total_params = sum(p.numel() for p in alexnet.parameters())\n",
    "print(f\"No. of parameters: {total_params}\")"
   ]
  },
  {
   "cell_type": "markdown",
   "id": "a5135145",
   "metadata": {},
   "source": [
    "Esta arquitectura tiene bastantes más parámetros que las que hemos estado tratando hasta ahora. Además incluye dos capas de _dropout_, las cuales son para regularizar el aprendizaje, y así reducir el _overfitting_ durante el entrenamiento.\n",
    "\n",
    "Veamos cómo progresa el entrenamiento durante 50 epochs como en los anteriores ejemplos."
   ]
  },
  {
   "cell_type": "code",
   "execution_count": 29,
   "id": "157a4137",
   "metadata": {},
   "outputs": [
    {
     "name": "stdout",
     "output_type": "stream",
     "text": [
      "Epoch 1/100 (658.99s), Train loss: 4.3419, Train metric: 0.0252, Val loss: 4.1091, Val. metric: 0.0500\n",
      "Epoch 2/100 (702.58s), Train loss: 3.9781, Train metric: 0.0666, Val loss: 3.7397, Val. metric: 0.1134\n"
     ]
    },
    {
     "ename": "KeyboardInterrupt",
     "evalue": "",
     "output_type": "error",
     "traceback": [
      "\u001b[0;31m---------------------------------------------------------------------------\u001b[0m",
      "\u001b[0;31mKeyboardInterrupt\u001b[0m                         Traceback (most recent call last)",
      "Cell \u001b[0;32mIn[29], line 1\u001b[0m\n\u001b[0;32m----> 1\u001b[0m history_alexnet \u001b[38;5;241m=\u001b[39m \u001b[43mutils\u001b[49m\u001b[38;5;241;43m.\u001b[39;49m\u001b[43mtrain\u001b[49m\u001b[43m(\u001b[49m\n\u001b[1;32m      2\u001b[0m \u001b[43m    \u001b[49m\u001b[43mmodel\u001b[49m\u001b[38;5;241;43m=\u001b[39;49m\u001b[43malexnet\u001b[49m\u001b[43m,\u001b[49m\n\u001b[1;32m      3\u001b[0m \u001b[43m    \u001b[49m\u001b[43mtrain_loader\u001b[49m\u001b[38;5;241;43m=\u001b[39;49m\u001b[43mtrain_loader\u001b[49m\u001b[43m,\u001b[49m\n\u001b[1;32m      4\u001b[0m \u001b[43m    \u001b[49m\u001b[43mn_epochs\u001b[49m\u001b[38;5;241;43m=\u001b[39;49m\u001b[43mTRAIN_EPOCHS\u001b[49m\u001b[43m,\u001b[49m\n\u001b[1;32m      5\u001b[0m \u001b[43m    \u001b[49m\u001b[43mcriterion\u001b[49m\u001b[38;5;241;43m=\u001b[39;49m\u001b[43mtorch\u001b[49m\u001b[38;5;241;43m.\u001b[39;49m\u001b[43mnn\u001b[49m\u001b[38;5;241;43m.\u001b[39;49m\u001b[43mCrossEntropyLoss\u001b[49m\u001b[43m(\u001b[49m\u001b[43m)\u001b[49m\u001b[43m,\u001b[49m\n\u001b[1;32m      6\u001b[0m \u001b[43m    \u001b[49m\u001b[43moptimizer\u001b[49m\u001b[38;5;241;43m=\u001b[39;49m\u001b[43mtorch\u001b[49m\u001b[38;5;241;43m.\u001b[39;49m\u001b[43moptim\u001b[49m\u001b[38;5;241;43m.\u001b[39;49m\u001b[43mAdam\u001b[49m\u001b[43m(\u001b[49m\u001b[43malexnet\u001b[49m\u001b[38;5;241;43m.\u001b[39;49m\u001b[43mparameters\u001b[49m\u001b[43m(\u001b[49m\u001b[43m)\u001b[49m\u001b[43m)\u001b[49m\u001b[43m,\u001b[49m\n\u001b[1;32m      7\u001b[0m \u001b[43m    \u001b[49m\u001b[43mvalidation_split\u001b[49m\u001b[38;5;241;43m=\u001b[39;49m\u001b[38;5;241;43m0.1\u001b[39;49m\u001b[43m,\u001b[49m\n\u001b[1;32m      8\u001b[0m \u001b[43m    \u001b[49m\u001b[43mmetric_fn\u001b[49m\u001b[38;5;241;43m=\u001b[39;49m\u001b[43mtorchmetrics\u001b[49m\u001b[38;5;241;43m.\u001b[39;49m\u001b[43mclassification\u001b[49m\u001b[38;5;241;43m.\u001b[39;49m\u001b[43mMulticlassAccuracy\u001b[49m\u001b[43m(\u001b[49m\u001b[43mnum_classes\u001b[49m\u001b[38;5;241;43m=\u001b[39;49m\u001b[38;5;241;43m100\u001b[39;49m\u001b[43m)\u001b[49m\u001b[43m,\u001b[49m\n\u001b[1;32m      9\u001b[0m \u001b[43m)\u001b[49m\n",
      "File \u001b[0;32m~/Projects/aprendizaje-profundo/Notebooks/utils.py:48\u001b[0m, in \u001b[0;36mtrain\u001b[0;34m(model, train_loader, n_epochs, criterion, optimizer, validation_split, metric_fn, verbose)\u001b[0m\n\u001b[1;32m     46\u001b[0m outputs \u001b[38;5;241m=\u001b[39m model(images)\n\u001b[1;32m     47\u001b[0m loss \u001b[38;5;241m=\u001b[39m criterion(outputs, labels)\n\u001b[0;32m---> 48\u001b[0m \u001b[43mloss\u001b[49m\u001b[38;5;241;43m.\u001b[39;49m\u001b[43mbackward\u001b[49m\u001b[43m(\u001b[49m\u001b[43m)\u001b[49m\n\u001b[1;32m     49\u001b[0m optimizer\u001b[38;5;241m.\u001b[39mstep()\n\u001b[1;32m     51\u001b[0m batch_size \u001b[38;5;241m=\u001b[39m images\u001b[38;5;241m.\u001b[39msize(\u001b[38;5;241m0\u001b[39m)\n",
      "File \u001b[0;32m~/Projects/aprendizaje-profundo/.venv/lib/python3.12/site-packages/torch/_tensor.py:626\u001b[0m, in \u001b[0;36mTensor.backward\u001b[0;34m(self, gradient, retain_graph, create_graph, inputs)\u001b[0m\n\u001b[1;32m    616\u001b[0m \u001b[38;5;28;01mif\u001b[39;00m has_torch_function_unary(\u001b[38;5;28mself\u001b[39m):\n\u001b[1;32m    617\u001b[0m     \u001b[38;5;28;01mreturn\u001b[39;00m handle_torch_function(\n\u001b[1;32m    618\u001b[0m         Tensor\u001b[38;5;241m.\u001b[39mbackward,\n\u001b[1;32m    619\u001b[0m         (\u001b[38;5;28mself\u001b[39m,),\n\u001b[0;32m   (...)\u001b[0m\n\u001b[1;32m    624\u001b[0m         inputs\u001b[38;5;241m=\u001b[39minputs,\n\u001b[1;32m    625\u001b[0m     )\n\u001b[0;32m--> 626\u001b[0m \u001b[43mtorch\u001b[49m\u001b[38;5;241;43m.\u001b[39;49m\u001b[43mautograd\u001b[49m\u001b[38;5;241;43m.\u001b[39;49m\u001b[43mbackward\u001b[49m\u001b[43m(\u001b[49m\n\u001b[1;32m    627\u001b[0m \u001b[43m    \u001b[49m\u001b[38;5;28;43mself\u001b[39;49m\u001b[43m,\u001b[49m\u001b[43m \u001b[49m\u001b[43mgradient\u001b[49m\u001b[43m,\u001b[49m\u001b[43m \u001b[49m\u001b[43mretain_graph\u001b[49m\u001b[43m,\u001b[49m\u001b[43m \u001b[49m\u001b[43mcreate_graph\u001b[49m\u001b[43m,\u001b[49m\u001b[43m \u001b[49m\u001b[43minputs\u001b[49m\u001b[38;5;241;43m=\u001b[39;49m\u001b[43minputs\u001b[49m\n\u001b[1;32m    628\u001b[0m \u001b[43m\u001b[49m\u001b[43m)\u001b[49m\n",
      "File \u001b[0;32m~/Projects/aprendizaje-profundo/.venv/lib/python3.12/site-packages/torch/autograd/__init__.py:347\u001b[0m, in \u001b[0;36mbackward\u001b[0;34m(tensors, grad_tensors, retain_graph, create_graph, grad_variables, inputs)\u001b[0m\n\u001b[1;32m    342\u001b[0m     retain_graph \u001b[38;5;241m=\u001b[39m create_graph\n\u001b[1;32m    344\u001b[0m \u001b[38;5;66;03m# The reason we repeat the same comment below is that\u001b[39;00m\n\u001b[1;32m    345\u001b[0m \u001b[38;5;66;03m# some Python versions print out the first line of a multi-line function\u001b[39;00m\n\u001b[1;32m    346\u001b[0m \u001b[38;5;66;03m# calls in the traceback and some print out the last line\u001b[39;00m\n\u001b[0;32m--> 347\u001b[0m \u001b[43m_engine_run_backward\u001b[49m\u001b[43m(\u001b[49m\n\u001b[1;32m    348\u001b[0m \u001b[43m    \u001b[49m\u001b[43mtensors\u001b[49m\u001b[43m,\u001b[49m\n\u001b[1;32m    349\u001b[0m \u001b[43m    \u001b[49m\u001b[43mgrad_tensors_\u001b[49m\u001b[43m,\u001b[49m\n\u001b[1;32m    350\u001b[0m \u001b[43m    \u001b[49m\u001b[43mretain_graph\u001b[49m\u001b[43m,\u001b[49m\n\u001b[1;32m    351\u001b[0m \u001b[43m    \u001b[49m\u001b[43mcreate_graph\u001b[49m\u001b[43m,\u001b[49m\n\u001b[1;32m    352\u001b[0m \u001b[43m    \u001b[49m\u001b[43minputs\u001b[49m\u001b[43m,\u001b[49m\n\u001b[1;32m    353\u001b[0m \u001b[43m    \u001b[49m\u001b[43mallow_unreachable\u001b[49m\u001b[38;5;241;43m=\u001b[39;49m\u001b[38;5;28;43;01mTrue\u001b[39;49;00m\u001b[43m,\u001b[49m\n\u001b[1;32m    354\u001b[0m \u001b[43m    \u001b[49m\u001b[43maccumulate_grad\u001b[49m\u001b[38;5;241;43m=\u001b[39;49m\u001b[38;5;28;43;01mTrue\u001b[39;49;00m\u001b[43m,\u001b[49m\n\u001b[1;32m    355\u001b[0m \u001b[43m\u001b[49m\u001b[43m)\u001b[49m\n",
      "File \u001b[0;32m~/Projects/aprendizaje-profundo/.venv/lib/python3.12/site-packages/torch/autograd/graph.py:823\u001b[0m, in \u001b[0;36m_engine_run_backward\u001b[0;34m(t_outputs, *args, **kwargs)\u001b[0m\n\u001b[1;32m    821\u001b[0m     unregister_hooks \u001b[38;5;241m=\u001b[39m _register_logging_hooks_on_whole_graph(t_outputs)\n\u001b[1;32m    822\u001b[0m \u001b[38;5;28;01mtry\u001b[39;00m:\n\u001b[0;32m--> 823\u001b[0m     \u001b[38;5;28;01mreturn\u001b[39;00m \u001b[43mVariable\u001b[49m\u001b[38;5;241;43m.\u001b[39;49m\u001b[43m_execution_engine\u001b[49m\u001b[38;5;241;43m.\u001b[39;49m\u001b[43mrun_backward\u001b[49m\u001b[43m(\u001b[49m\u001b[43m  \u001b[49m\u001b[38;5;66;43;03m# Calls into the C++ engine to run the backward pass\u001b[39;49;00m\n\u001b[1;32m    824\u001b[0m \u001b[43m        \u001b[49m\u001b[43mt_outputs\u001b[49m\u001b[43m,\u001b[49m\u001b[43m \u001b[49m\u001b[38;5;241;43m*\u001b[39;49m\u001b[43margs\u001b[49m\u001b[43m,\u001b[49m\u001b[43m \u001b[49m\u001b[38;5;241;43m*\u001b[39;49m\u001b[38;5;241;43m*\u001b[39;49m\u001b[43mkwargs\u001b[49m\n\u001b[1;32m    825\u001b[0m \u001b[43m    \u001b[49m\u001b[43m)\u001b[49m  \u001b[38;5;66;03m# Calls into the C++ engine to run the backward pass\u001b[39;00m\n\u001b[1;32m    826\u001b[0m \u001b[38;5;28;01mfinally\u001b[39;00m:\n\u001b[1;32m    827\u001b[0m     \u001b[38;5;28;01mif\u001b[39;00m attach_logging_hooks:\n",
      "\u001b[0;31mKeyboardInterrupt\u001b[0m: "
     ]
    }
   ],
   "source": [
    "history_alexnet = utils.train(\n",
    "    model=alexnet,\n",
    "    train_loader=train_loader,\n",
    "    n_epochs=TRAIN_EPOCHS,\n",
    "    criterion=torch.nn.CrossEntropyLoss(),\n",
    "    optimizer=torch.optim.Adam(alexnet.parameters()),\n",
    "    validation_split=0.1,\n",
    "    metric_fn=torchmetrics.classification.MulticlassAccuracy(num_classes=100),\n",
    ")"
   ]
  },
  {
   "cell_type": "markdown",
   "id": "dd8f862d",
   "metadata": {},
   "source": [
    "Gráficamente, la evolución queda como sigue:"
   ]
  },
  {
   "cell_type": "code",
   "execution_count": 30,
   "id": "b81414ba",
   "metadata": {},
   "outputs": [
    {
     "ename": "NameError",
     "evalue": "name 'history_alexnet' is not defined",
     "output_type": "error",
     "traceback": [
      "\u001b[0;31m---------------------------------------------------------------------------\u001b[0m",
      "\u001b[0;31mNameError\u001b[0m                                 Traceback (most recent call last)",
      "Cell \u001b[0;32mIn[30], line 1\u001b[0m\n\u001b[0;32m----> 1\u001b[0m pd\u001b[38;5;241m.\u001b[39mDataFrame(\u001b[43mhistory_alexnet\u001b[49m)\u001b[38;5;241m.\u001b[39mplot()\n\u001b[1;32m      2\u001b[0m plt\u001b[38;5;241m.\u001b[39mxlabel(\u001b[38;5;124m'\u001b[39m\u001b[38;5;124mEpoch num.\u001b[39m\u001b[38;5;124m'\u001b[39m)\n\u001b[1;32m      3\u001b[0m plt\u001b[38;5;241m.\u001b[39mshow()\n",
      "\u001b[0;31mNameError\u001b[0m: name 'history_alexnet' is not defined"
     ]
    }
   ],
   "source": [
    "pd.DataFrame(history_alexnet).plot()\n",
    "plt.xlabel('Epoch num.')\n",
    "plt.show()"
   ]
  },
  {
   "cell_type": "markdown",
   "id": "3611aa0a",
   "metadata": {},
   "source": [
    "Veamos una comparativa entre todos los modelos:"
   ]
  },
  {
   "cell_type": "code",
   "execution_count": 31,
   "id": "54fb114c",
   "metadata": {},
   "outputs": [
    {
     "ename": "NameError",
     "evalue": "name 'model_lenet' is not defined",
     "output_type": "error",
     "traceback": [
      "\u001b[0;31m---------------------------------------------------------------------------\u001b[0m",
      "\u001b[0;31mNameError\u001b[0m                                 Traceback (most recent call last)",
      "Cell \u001b[0;32mIn[31], line 2\u001b[0m\n\u001b[1;32m      1\u001b[0m eval_lenet \u001b[38;5;241m=\u001b[39m utils\u001b[38;5;241m.\u001b[39mevaluate(\n\u001b[0;32m----> 2\u001b[0m     model\u001b[38;5;241m=\u001b[39m\u001b[43mmodel_lenet\u001b[49m,\n\u001b[1;32m      3\u001b[0m     data_loader\u001b[38;5;241m=\u001b[39mtest_loader,\n\u001b[1;32m      4\u001b[0m     criterion\u001b[38;5;241m=\u001b[39mtorch\u001b[38;5;241m.\u001b[39mnn\u001b[38;5;241m.\u001b[39mCrossEntropyLoss(),\n\u001b[1;32m      5\u001b[0m     metric_fn\u001b[38;5;241m=\u001b[39mtorchmetrics\u001b[38;5;241m.\u001b[39mclassification\u001b[38;5;241m.\u001b[39mMulticlassAccuracy(num_classes\u001b[38;5;241m=\u001b[39m\u001b[38;5;241m100\u001b[39m),\n\u001b[1;32m      6\u001b[0m )\n\u001b[1;32m      7\u001b[0m eval_alexnet \u001b[38;5;241m=\u001b[39m utils\u001b[38;5;241m.\u001b[39mevaluate(\n\u001b[1;32m      8\u001b[0m     model\u001b[38;5;241m=\u001b[39mmodel_alexnet,\n\u001b[1;32m      9\u001b[0m     data_loader\u001b[38;5;241m=\u001b[39mtest_loader,\n\u001b[1;32m     10\u001b[0m     criterion\u001b[38;5;241m=\u001b[39mtorch\u001b[38;5;241m.\u001b[39mnn\u001b[38;5;241m.\u001b[39mCrossEntropyLoss(),\n\u001b[1;32m     11\u001b[0m     metric_fn\u001b[38;5;241m=\u001b[39mtorchmetrics\u001b[38;5;241m.\u001b[39mclassification\u001b[38;5;241m.\u001b[39mMulticlassAccuracy(num_classes\u001b[38;5;241m=\u001b[39m\u001b[38;5;241m100\u001b[39m),\n\u001b[1;32m     12\u001b[0m )\n\u001b[1;32m     14\u001b[0m \u001b[38;5;28mprint\u001b[39m(\u001b[38;5;124mf\u001b[39m\u001b[38;5;124m'\u001b[39m\u001b[38;5;124mResults for AlexNet: Loss: \u001b[39m\u001b[38;5;132;01m{\u001b[39;00meval_alexnet\u001b[38;5;241m.\u001b[39mget(\u001b[38;5;124m\"\u001b[39m\u001b[38;5;124mloss\u001b[39m\u001b[38;5;124m\"\u001b[39m)\u001b[38;5;132;01m}\u001b[39;00m\u001b[38;5;124m, Acc: \u001b[39m\u001b[38;5;132;01m{\u001b[39;00meval_alexnet\u001b[38;5;241m.\u001b[39mget(\u001b[38;5;124m\"\u001b[39m\u001b[38;5;124mmetric\u001b[39m\u001b[38;5;124m\"\u001b[39m)\u001b[38;5;132;01m}\u001b[39;00m\u001b[38;5;124m'\u001b[39m)\n",
      "\u001b[0;31mNameError\u001b[0m: name 'model_lenet' is not defined"
     ]
    }
   ],
   "source": [
    "eval_lenet = utils.evaluate(\n",
    "    model=model_lenet,\n",
    "    data_loader=test_loader,\n",
    "    criterion=torch.nn.CrossEntropyLoss(),\n",
    "    metric_fn=torchmetrics.classification.MulticlassAccuracy(num_classes=100),\n",
    ")\n",
    "eval_alexnet = utils.evaluate(\n",
    "    model=model_alexnet,\n",
    "    data_loader=test_loader,\n",
    "    criterion=torch.nn.CrossEntropyLoss(),\n",
    "    metric_fn=torchmetrics.classification.MulticlassAccuracy(num_classes=100),\n",
    ")\n",
    "\n",
    "print(f'Results for AlexNet: Loss: {eval_alexnet.get(\"loss\")}, Acc: {eval_alexnet.get(\"metric\")}')\n",
    "print(f'Results for LeNet:   Loss: {eval_lenet.get(\"loss\")}, Acc: {eval_lenet.get(\"metric\")}')\n",
    "print(f'Results for CNN 2.0: Loss: {eval_cnn_2.get(\"loss\")}, Acc: {eval_cnn_2.get(\"metric\")}')\n",
    "print(f'Results for CNN:     Loss: {eval_cnn.get(\"loss\")}, Acc: {eval_cnn.get(\"metric\")}')\n",
    "print(f'Results for MLP:     Loss: {eval_mlp.get(\"loss\")}, Acc: {eval_mlp.get(\"metric\")}')"
   ]
  },
  {
   "cell_type": "markdown",
   "id": "ebcbf5bb",
   "metadata": {},
   "source": [
    "Quizá en este ejemplo no es apreciable la potencia de estos modelos respecto a los anteriores, pero lo cierto es que los superan su desempeño en varios órdenes de magnitud en problemas más complejos... y también en tiempo de entrenamiento."
   ]
  },
  {
   "cell_type": "code",
   "execution_count": 32,
   "id": "a68fe435-6f66-4a03-8b2b-d0dec2a69676",
   "metadata": {},
   "outputs": [
    {
     "ename": "NameError",
     "evalue": "name 'history_alexnet' is not defined",
     "output_type": "error",
     "traceback": [
      "\u001b[0;31m---------------------------------------------------------------------------\u001b[0m",
      "\u001b[0;31mNameError\u001b[0m                                 Traceback (most recent call last)",
      "Cell \u001b[0;32mIn[32], line 4\u001b[0m\n\u001b[1;32m      1\u001b[0m fig, axs \u001b[38;5;241m=\u001b[39m plt\u001b[38;5;241m.\u001b[39msubplots(\u001b[38;5;241m1\u001b[39m, \u001b[38;5;241m2\u001b[39m)\n\u001b[1;32m      3\u001b[0m pd\u001b[38;5;241m.\u001b[39mDataFrame({\n\u001b[0;32m----> 4\u001b[0m     \u001b[38;5;124m\"\u001b[39m\u001b[38;5;124mAlexnet\u001b[39m\u001b[38;5;124m\"\u001b[39m: \u001b[43mhistory_alexnet\u001b[49m[\u001b[38;5;124m'\u001b[39m\u001b[38;5;124mval_metric\u001b[39m\u001b[38;5;124m'\u001b[39m],\n\u001b[1;32m      5\u001b[0m     \u001b[38;5;124m\"\u001b[39m\u001b[38;5;124mLeNet\u001b[39m\u001b[38;5;124m\"\u001b[39m: history_lenet[\u001b[38;5;124m'\u001b[39m\u001b[38;5;124mval_metric\u001b[39m\u001b[38;5;124m'\u001b[39m],\n\u001b[1;32m      6\u001b[0m     \u001b[38;5;124m\"\u001b[39m\u001b[38;5;124mCNN 2.0\u001b[39m\u001b[38;5;124m\"\u001b[39m: history_cnn_2[\u001b[38;5;124m'\u001b[39m\u001b[38;5;124mval_metric\u001b[39m\u001b[38;5;124m'\u001b[39m],\n\u001b[1;32m      7\u001b[0m     \u001b[38;5;124m\"\u001b[39m\u001b[38;5;124mCNN\u001b[39m\u001b[38;5;124m\"\u001b[39m: history_cnn[\u001b[38;5;124m'\u001b[39m\u001b[38;5;124mval_metric\u001b[39m\u001b[38;5;124m'\u001b[39m],\n\u001b[1;32m      8\u001b[0m     \u001b[38;5;124m\"\u001b[39m\u001b[38;5;124mMLP\u001b[39m\u001b[38;5;124m\"\u001b[39m: history_mlp[\u001b[38;5;124m'\u001b[39m\u001b[38;5;124mval_metric\u001b[39m\u001b[38;5;124m'\u001b[39m],\n\u001b[1;32m      9\u001b[0m })\u001b[38;5;241m.\u001b[39mplot(ax\u001b[38;5;241m=\u001b[39maxs[\u001b[38;5;241m0\u001b[39m])\n\u001b[1;32m     10\u001b[0m axs[\u001b[38;5;241m0\u001b[39m]\u001b[38;5;241m.\u001b[39mset_xlabel(\u001b[38;5;124m'\u001b[39m\u001b[38;5;124mEpoch num.\u001b[39m\u001b[38;5;124m'\u001b[39m)\n\u001b[1;32m     11\u001b[0m axs[\u001b[38;5;241m0\u001b[39m]\u001b[38;5;241m.\u001b[39mset_title(\u001b[38;5;124m'\u001b[39m\u001b[38;5;124mValidation accuracy\u001b[39m\u001b[38;5;124m'\u001b[39m)\n",
      "\u001b[0;31mNameError\u001b[0m: name 'history_alexnet' is not defined"
     ]
    },
    {
     "data": {
      "image/png": "[encoded data removed]",
      "text/plain": [
       "<Figure size 1280x384 with 2 Axes>"
      ]
     },
     "metadata": {},
     "output_type": "display_data"
    }
   ],
   "source": [
    "fig, axs = plt.subplots(1, 2)\n",
    "\n",
    "pd.DataFrame({\n",
    "    \"Alexnet\": history_alexnet['val_metric'],\n",
    "    \"LeNet\": history_lenet['val_metric'],\n",
    "    \"CNN 2.0\": history_cnn_2['val_metric'],\n",
    "    \"CNN\": history_cnn['val_metric'],\n",
    "    \"MLP\": history_mlp['val_metric'],\n",
    "}).plot(ax=axs[0])\n",
    "axs[0].set_xlabel('Epoch num.')\n",
    "axs[0].set_title('Validation accuracy')\n",
    "\n",
    "pd.DataFrame({\n",
    "    \"Alexnet\": history_alexnet['val_loss'],\n",
    "    \"LeNet\": history_lenet['val_loss'],\n",
    "    \"CNN 2.0\": history_cnn_2['val_loss'],\n",
    "    \"CNN\": history_cnn['val_loss'],\n",
    "    \"MLP\": history_mlp['val_loss'],\n",
    "}).plot(ax=axs[1])\n",
    "axs[1].set_xlabel('Epoch num.')\n",
    "axs[1].set_title('Validation loss')\n",
    "\n",
    "plt.tight_layout()\n",
    "plt.show()"
   ]
  },
  {
   "cell_type": "markdown",
   "id": "b05096b5",
   "metadata": {},
   "source": [
    "## Conclusiones"
   ]
  },
  {
   "cell_type": "markdown",
   "id": "bd65fcd4",
   "metadata": {},
   "source": [
    "Las redes convolucionales son una arquitectura de red neuronal que aprovecha las características de la entrada para aprender las relaciones existentes. Es equivalente a aproximar un problema de forma más inteligente que la fuerza bruta.\n",
    "\n",
    "Su principal desventaja es la velocidad de entrenamiento, pero superan con creces la capacidad de resolución de problemas cuando tratamos con elementos como imágenes.\n",
    "\n",
    "Más adelante veremos otros tipos de redes que solucionan ciertos problemas o que permiten que éstas sean todavía más grandes."
   ]
  },
  {
   "cell_type": "markdown",
   "id": "582efec2",
   "metadata": {},
   "source": [
    "***\n",
    "\n",
    "<div><img style=\"float: right; width: 120px; vertical-align:top\" src=\"https://mirrors.creativecommons.org/presskit/buttons/88x31/png/by-nc-sa.png\" alt=\"Creative Commons by-nc-sa logo\" />\n",
    "\n",
    "[Volver al inicio](#top)\n",
    "\n",
    "</div>"
   ]
  }
 ],
 "metadata": {
  "kernelspec": {
   "display_name": "Python 3 (ipykernel)",
   "language": "python",
   "name": "python3"
  },
  "language_info": {
   "codemirror_mode": {
    "name": "ipython",
    "version": 3
   },
   "file_extension": ".py",
   "mimetype": "text/x-python",
   "name": "python",
   "nbconvert_exporter": "python",
   "pygments_lexer": "ipython3",
   "version": "3.12.3"
  }
 },
 "nbformat": 4,
 "nbformat_minor": 5
}
