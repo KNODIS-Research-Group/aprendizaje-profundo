{
 "cells": [
  {
   "attachments": {},
   "cell_type": "markdown",
   "id": "4480ff39",
   "metadata": {},
   "source": [
    "<div><a href=\"https://knodis-research-group.github.io/\"><img style=\"float: right; width: 128px; vertical-align:middle\" src=\"https://knodis-research-group.github.io/knodis-logo_horizontal.png\" alt=\"KNODIS logo\" /></a>\n",
    "\n",
    "# Clasificación de texto con CNN<a id=\"top\"></a>\n",
    "\n",
    "<i><small>Última actualización: 2025-03-14</small></i></div>\n",
    "\n",
    "***"
   ]
  },
  {
   "attachments": {},
   "cell_type": "markdown",
   "id": "d2489222",
   "metadata": {},
   "source": [
    "## Introducción"
   ]
  },
  {
   "attachments": {},
   "cell_type": "markdown",
   "id": "e17030ba",
   "metadata": {},
   "source": [
    "En el procesamiento del lenguaje natural (NLP, del inglés _natural language processing_), una tarea muy típica es la clasificación de textos. En esta tarea, un texto dado se clasifica según su significado. A menudo se utiliza, por ejemplo, para el problema del análisis de sentimientos.\n",
    "\n",
    "Se trata de un problema denominado _many-to-one_, es decir, uno en el que el tamaño de la secuencia de entrada es $T_X = 1$, pero el tamaño de la secuencia de salida es $T_Y = 1$."
   ]
  },
  {
   "attachments": {},
   "cell_type": "markdown",
   "id": "fc7d1e17",
   "metadata": {},
   "source": [
    "## Objetivos"
   ]
  },
  {
   "attachments": {},
   "cell_type": "markdown",
   "id": "d0b9e324",
   "metadata": {},
   "source": [
    "Vamos a hacer un experimento en el que utilizaremos el conjunto de datos de reseñas de amazon para una tarea de análisis de sentimiento. A partir de los datos de reseñas y valoraciones, identificaremos si una reseña es positiva, neutra o negativa, y para ello utilizaremos una primera aproximación utilizando un modelo de redes neuronales convolucionales."
   ]
  },
  {
   "attachments": {},
   "cell_type": "markdown",
   "id": "5d401eac",
   "metadata": {},
   "source": [
    "## Bibliotecas y configuración"
   ]
  },
  {
   "attachments": {},
   "cell_type": "markdown",
   "id": "fa528aec",
   "metadata": {},
   "source": [
    "A continuación importaremos las bibliotecas que se utilizarán a lo largo del cuaderno."
   ]
  },
  {
   "cell_type": "code",
   "execution_count": 1,
   "id": "00a8c29f",
   "metadata": {},
   "outputs": [
    {
     "name": "stdout",
     "output_type": "stream",
     "text": [
      "Using device: cuda\n"
     ]
    }
   ],
   "source": [
    "import collections\n",
    "import gzip\n",
    "import re\n",
    "import requests\n",
    "import shutil\n",
    "\n",
    "import matplotlib.pyplot as plt\n",
    "import numpy as np\n",
    "import pandas as pd\n",
    "import pathlib\n",
    "import torch\n",
    "import torchmetrics\n",
    "\n",
    "import utils"
   ]
  },
  {
   "attachments": {},
   "cell_type": "markdown",
   "id": "ff3a5f84",
   "metadata": {},
   "source": [
    "También configuraremos algunos parámetros para adaptar la presentación gráfica."
   ]
  },
  {
   "cell_type": "code",
   "execution_count": 2,
   "id": "d522d503",
   "metadata": {},
   "outputs": [],
   "source": [
    "plt.style.use('ggplot')\n",
    "plt.rcParams.update({'figure.figsize': (20, 6),'figure.dpi': 64})"
   ]
  },
  {
   "attachments": {},
   "cell_type": "markdown",
   "id": "8ea7481e",
   "metadata": {},
   "source": [
    "Comprobamos y creamos los directorios necesarios para almacenar los datos y resultados."
   ]
  },
  {
   "cell_type": "code",
   "execution_count": 3,
   "id": "64979a54",
   "metadata": {},
   "outputs": [],
   "source": [
    "TEMP_PATH = pathlib.Path('tmp')\n",
    "TEMP_PATH.mkdir(exist_ok=True)"
   ]
  },
  {
   "attachments": {},
   "cell_type": "markdown",
   "id": "ee4fec89",
   "metadata": {},
   "source": [
    "***"
   ]
  },
  {
   "attachments": {},
   "cell_type": "markdown",
   "id": "b6d22a2c",
   "metadata": {},
   "source": [
    "## Parámetros globales"
   ]
  },
  {
   "attachments": {},
   "cell_type": "markdown",
   "id": "231d1a4e",
   "metadata": {},
   "source": [
    "Comenzaremos definiendo los parámetros que utilizaremos, como la longitud máxima de las secuencias y la dimensión de los vectores de palabras, para que  el _notebook_ se adapte lo más fácilmente posible."
   ]
  },
  {
   "cell_type": "code",
   "execution_count": 4,
   "id": "51a1ad15",
   "metadata": {},
   "outputs": [],
   "source": [
    "N_EPOCHS = 20           # Número de iteraciones de entrenamiento\n",
    "BATCH_SIZE = 32768      # Número de ejemplos por batch\n",
    "EMBEDDING_DIM = 50      # Dimensiones de nuestro embedding (50, 100, 200 o 300)\n",
    "MAX_VOCAB_SIZE = 20000  # Tamaño máximo de nuestro vocabulario\n",
    "MAX_SEQUENCE_LEN = 128  # Longitud máxima de las secuencias de palabras"
   ]
  },
  {
   "attachments": {},
   "cell_type": "markdown",
   "id": "e86b03b1",
   "metadata": {},
   "source": [
    "## Preprocesamiento de datos"
   ]
  },
  {
   "attachments": {},
   "cell_type": "markdown",
   "id": "9b1ff85c",
   "metadata": {},
   "source": [
    "Vamos a cargar los datos de entrenamiento, que consistirán en los datos de reseñas de Amazon de la categoría «Música digital». Estos datos se utilizarán para entrenar nuestro modelo de clasificación."
   ]
  },
  {
   "cell_type": "code",
   "execution_count": 5,
   "id": "564710a9",
   "metadata": {},
   "outputs": [
    {
     "name": "stdout",
     "output_type": "stream",
     "text": [
      "Downloading dataset to /home/blazaid/Projects/aprendizaje-profundo/Notebooks/tmp/Digital_Music_5.json\n",
      "File already exists! Nice\n",
      "Loading text corpus\n",
      "Done\n"
     ]
    }
   ],
   "source": [
    "DATASET_URL = 'https://github.com/blazaid/aprendizaje-profundo/raw/refs/heads/gh-pages/Datasets/Digital_Music_5.json.gz'\n",
    "DATASET = pathlib.Path('tmp/Digital_Music_5.json')\n",
    "\n",
    "print(f\"Downloading dataset to {DATASET.resolve()}\")\n",
    "if not DATASET.exists():\n",
    "    with requests.get(DATASET_URL, stream=True) as response:\n",
    "        response.raise_for_status()\n",
    "        with gzip.GzipFile(fileobj=response.raw) as f_gz:\n",
    "            with DATASET.open(\"wb\") as f:\n",
    "                shutil.copyfileobj(f_gz, f)\n",
    "else:\n",
    "    print(\"File already exists! Nice\")\n",
    "\n",
    "print(\"Loading text corpus\")\n",
    "corpus = pd.read_json(DATASET, lines=True)\n",
    "corpus.dropna(subset=['overall', 'reviewText'], inplace=True)\n",
    "corpus.head()\n",
    "\n",
    "print(\"Done\")"
   ]
  },
  {
   "attachments": {},
   "cell_type": "markdown",
   "id": "bace8799",
   "metadata": {},
   "source": [
    "Aquí nos centraremos en construir y entrenar un modelo basado en CNN para clasificar textos. Aunque aquí utilizamos solo un conjunto de entrenamiento, en una aplicación real sería fundamental contar con conjuntos de validación y prueba para evaluar correctamente el rendimiento del modelo."
   ]
  },
  {
   "attachments": {},
   "cell_type": "markdown",
   "id": "5719ffd0",
   "metadata": {},
   "source": [
    "### Preparando la entrada a nuestro modelo"
   ]
  },
  {
   "attachments": {},
   "cell_type": "markdown",
   "id": "074e95f9",
   "metadata": {},
   "source": [
    "Utilizaremos las reseñas de texto como entrada del modelo. Para ello, extraeremos las reseñas y transformaremos las valoraciones en etiquetas numéricas: asignaremos $0$ a reseñas con valoraciones bajas, $1$ a las intermedias y $2$ a las altas. Este paso permitirá que el modelo aprenda a distinguir entre opiniones positivas, negativas y neutrales."
   ]
  },
  {
   "cell_type": "code",
   "execution_count": 6,
   "id": "32f62d62",
   "metadata": {},
   "outputs": [
    {
     "name": "stdout",
     "output_type": "stream",
     "text": [
      "Training input shape:  (169623,)\n",
      "Training output shape: (169623,)\n",
      "No. of classes:        3\n"
     ]
    }
   ],
   "source": [
    "x_train = corpus['reviewText'].astype(str).str.strip()\n",
    "y_train = corpus['overall'].astype(int).replace({\n",
    "    1: 0,\n",
    "    2: 0,\n",
    "    3: 1,\n",
    "    4: 2,\n",
    "    5: 2,\n",
    "})\n",
    "num_classes = len(set(y_train))\n",
    "\n",
    "print(f\"Training input shape:  {x_train.shape}\")\n",
    "print(f\"Training output shape: {y_train.shape}\")\n",
    "print(f\"No. of classes:        {num_classes}\")"
   ]
  },
  {
   "attachments": {},
   "cell_type": "markdown",
   "id": "6464895c",
   "metadata": {},
   "source": [
    "A continuación, ya que trabajamos con texto, crearemos una función un poco más compleja que las anteriores que pasará a minúscula y extraerá palabras, separando la puntuación. Esta función nos ayudará a construir un vocabulario a partir del conjunto de entrenamiento."
   ]
  },
  {
   "cell_type": "code",
   "execution_count": 7,
   "id": "0c3221f0",
   "metadata": {},
   "outputs": [],
   "source": [
    "def tokenizer(text):\n",
    "    text = text.lower()\n",
    "    tokens = re.findall(r'\\b\\w+\\b|[^\\w\\s]', text, re.UNICODE)\n",
    "    return tokens\n",
    "\n",
    "counter = collections.Counter()\n",
    "for text in x_train:\n",
    "    counter.update(tokenizer(text))"
   ]
  },
  {
   "cell_type": "markdown",
   "id": "7238ebee-aef6-45ca-a068-f7453ac94d77",
   "metadata": {},
   "source": [
    "De entre todas las palabras, seleccionamos las más frecuentes hasta alcanzar un límite definido. Reservamos _tokens_ especiales para el relleno (`<PAD>`) y para palabras desconocidas (`<UNK>`), lo cual es importante para el manejo de entradas de longitud fija."
   ]
  },
  {
   "cell_type": "code",
   "execution_count": 8,
   "id": "f1c07e93-baec-4e90-9202-8db4d19c8683",
   "metadata": {},
   "outputs": [
    {
     "name": "stdout",
     "output_type": "stream",
     "text": [
      "Tamaño del vocabulario: 20000\n"
     ]
    }
   ],
   "source": [
    "special_tokens = ['<PAD>', '<UNK>']\n",
    "\n",
    "most_common = counter.most_common(MAX_VOCAB_SIZE - len(special_tokens))\n",
    "vocab_words = [word for word, _ in most_common]\n",
    "\n",
    "vocab = {token: i for i, token in enumerate(special_tokens)}\n",
    "for i, word in enumerate(vocab_words, start=len(special_tokens)):\n",
    "    vocab[word] = i\n",
    "\n",
    "vocab_size = len(vocab)\n",
    "print(f'Tamaño del vocabulario: {vocab_size}')"
   ]
  },
  {
   "cell_type": "markdown",
   "id": "ec9c08a4-22e8-4e03-9c48-8aeda4a7cbe6",
   "metadata": {},
   "source": [
    "Con la relación token$\\rightarrow$índice creada, definiremos una función que transforma cada texto en una secuencia de índices. Se aplicará relleno o truncado para que todas las secuencias tengan la misma longitud."
   ]
  },
  {
   "cell_type": "code",
   "execution_count": 9,
   "id": "cc878708-089c-48bc-b3c1-ade336e17d81",
   "metadata": {},
   "outputs": [],
   "source": [
    "def text_to_sequence(text, vocab, max_len=MAX_SEQUENCE_LEN):\n",
    "    tokens = tokenizer(text)\n",
    "    seq = [vocab.get(token, vocab['<UNK>']) for token in tokens]\n",
    "    if len(seq) > max_len:\n",
    "        seq = seq[:max_len]\n",
    "    else:\n",
    "        seq = seq + [vocab['<PAD>']] * (max_len - len(seq))\n",
    "    return seq"
   ]
  },
  {
   "cell_type": "markdown",
   "id": "ce3ccb03-4495-4636-b3ca-6b032e25a854",
   "metadata": {},
   "source": [
    "Por último, implementamos un nuevo `Dataset`, que se encargará de gestionar y transformar los datos de las reseñas en secuencias numéricas, asociándolas con sus respectivas etiquetas. Este objeto será usado por el `DataLoader` para el proceso de entrenamiento."
   ]
  },
  {
   "cell_type": "code",
   "execution_count": 10,
   "id": "47ebe517-cee3-479d-8919-5173b72e24d9",
   "metadata": {},
   "outputs": [],
   "source": [
    "class TextDataset(torch.utils.data.Dataset):\n",
    "    def __init__(self, texts, labels, vocab, max_len=MAX_SEQUENCE_LEN):\n",
    "        self.texts = texts.tolist()\n",
    "        self.labels = labels.tolist()\n",
    "        self.vocab = vocab\n",
    "        self.max_len = max_len\n",
    "        \n",
    "    def __len__(self):\n",
    "        return len(self.texts)\n",
    "    \n",
    "    def __getitem__(self, idx):\n",
    "        seq = text_to_sequence(self.texts[idx], self.vocab, self.max_len)\n",
    "        return torch.tensor(seq, dtype=torch.long), torch.tensor(self.labels[idx], dtype=torch.long)\n",
    "\n",
    "\n",
    "dataset = TextDataset(x_train, y_train, vocab, MAX_SEQUENCE_LEN)\n",
    "train_loader = torch.utils.data.DataLoader(dataset, batch_size=BATCH_SIZE, shuffle=True, num_workers=2)"
   ]
  },
  {
   "attachments": {},
   "cell_type": "markdown",
   "id": "d7223928",
   "metadata": {},
   "source": [
    "## Uso de _embeddings_ preentrenados en nuestro modelo"
   ]
  },
  {
   "attachments": {},
   "cell_type": "markdown",
   "id": "d9977840",
   "metadata": {},
   "source": [
    "Ya hemos visto que, a la hora de construir un modelo lingüístico, un aspecto importante es la representación de las palabras. Para captar el significado semántico de las palabras, utilizamos _embeddings_ de palabras, que son representaciones vectoriales de palabras en un espacio donde cada una de las muchas dimensiones representan una característica semántica.\n",
    "\n",
    "Esta vez, en lugar de entrenar nuestros _embeddings_ desde cero, aprovecharemos uno preentrenado, _Global Vectors for Word Representation_ (GLoVe), entrenado con un conjunto de datos de más de 6.000 millones de tokens. Cuenta con varios vectores de palabras preentrenados, por lo que los utilizaremos en <http://nlp.stanford.edu/data/glove.6B.zip>."
   ]
  },
  {
   "cell_type": "code",
   "execution_count": 11,
   "id": "67b5594b",
   "metadata": {},
   "outputs": [
    {
     "name": "stdout",
     "output_type": "stream",
     "text": [
      "Unpacking ...OK\n"
     ]
    }
   ],
   "source": [
    "GLOVE_URL = 'http://nlp.stanford.edu/data/glove.6B.zip'\n",
    "GLOVE_FILE = pathlib.Path('tmp/glove.6B.zip')\n",
    "\n",
    "# Download the compressed GloVe dataset (if you don't already have it)\n",
    "if not GLOVE_FILE.exists():\n",
    "    print('Downloading GloVe ...', end='')\n",
    "    with open(GLOVE_FILE, 'wb') as f:\n",
    "        r = requests.get(GLOVE_URL, allow_redirects=True)\n",
    "        f.write(r.content)\n",
    "    print('OK')\n",
    "\n",
    "# Unzip it in the directory 'glove'.\n",
    "print('Unpacking ...', end='')\n",
    "shutil.unpack_archive(GLOVE_FILE, 'tmp')\n",
    "print('OK')"
   ]
  },
  {
   "attachments": {},
   "cell_type": "markdown",
   "id": "39fc8ea3",
   "metadata": {},
   "source": [
    "Mediante su uso podemos aprovechar la gran cantidad de conocimiento codificado en estos _embeddings_, lo que seguramente mejore (y mucho)el rendimiento de nuestro modelo lingüístico.\n",
    "\n",
    "Ahora carguemos el _embedding_ de la dimensión especificada en la configuración. El archivo se compone de líneas de tuplas, donde el primer elemento es la palabra (en texto) y el segundo es ese vector de palabras"
   ]
  },
  {
   "cell_type": "code",
   "execution_count": 12,
   "id": "98b853ed",
   "metadata": {},
   "outputs": [
    {
     "name": "stdout",
     "output_type": "stream",
     "text": [
      "Loading GloVe 50-d embedding... done (400000 word vectors loaded)\n"
     ]
    }
   ],
   "source": [
    "print(f'Loading GloVe {EMBEDDING_DIM}-d embedding... ', end='')\n",
    "word2vec = {}\n",
    "with open(f'tmp/glove.6B.{EMBEDDING_DIM}d.txt') as f:\n",
    "    for line in f:\n",
    "        word, vector = line.split(maxsplit=1)\n",
    "        word2vec[word] = np.fromstring(vector,'f', sep=' ')\n",
    "print(f'done ({len(word2vec)} word vectors loaded)')"
   ]
  },
  {
   "attachments": {},
   "cell_type": "markdown",
   "id": "5c6ece6e",
   "metadata": {},
   "source": [
    "Bueno, $400.000$ _tokens_ son bastantes. Como nuestro vocabulario es menor, vamos a crear una capa de incrustación más pequeña, del tamaño de nuestro vocabulario. Para ello, incluiremos en ésta sólo los vectores de las palabras que nos devolverá la capa `TextVectorization`.\n",
    "\n",
    "Comenzaremos creando la matriz de incrustación con los vectores del guante"
   ]
  },
  {
   "cell_type": "code",
   "execution_count": 18,
   "id": "f3344464",
   "metadata": {},
   "outputs": [
    {
     "name": "stdout",
     "output_type": "stream",
     "text": [
      "Creating embedding matrix with GloVe vectors... done (736 out of 20000 words unassigned)\n",
      "Embedding matrix shape (20000, 50)\n"
     ]
    }
   ],
   "source": [
    "print('Creating embedding matrix with GloVe vectors... ', end='')\n",
    "\n",
    "# Our newly created embedding: a matrix of zeros\n",
    "embedding_matrix = np.zeros((vocab_size, EMBEDDING_DIM))\n",
    "\n",
    "ko_words = 0\n",
    "for word, idx in vocab.items():\n",
    "    word_glove = 'unk' if word == '<UNK>' else word\n",
    "    vector = word2vec.get(word_glove)\n",
    "    if vector is not None:\n",
    "        embedding_matrix[idx] = vector\n",
    "    else:\n",
    "        ko_words += 1\n",
    "\n",
    "print(f'done ({ko_words} out of {len(vocab)} words unassigned)')\n",
    "print(f'Embedding matrix shape {embedding_matrix.shape}')"
   ]
  },
  {
   "attachments": {},
   "cell_type": "markdown",
   "id": "f9f9bae0",
   "metadata": {},
   "source": [
    "Bueno, al parecer hay muchas palabras que no tienen correspondencia en el _embedding_ descargada. Después de todo $400000$ _tokens_ igual no eran tantos después de todo."
   ]
  },
  {
   "attachments": {},
   "cell_type": "markdown",
   "id": "9b6eedd5",
   "metadata": {},
   "source": [
    "## Clasificación basada en redes neuronales convolucionales"
   ]
  },
  {
   "attachments": {},
   "cell_type": "markdown",
   "id": "8ee0758b",
   "metadata": {},
   "source": [
    "Utilizaremos una CNN para extraer características relevantes de las reseñas. Al representar cada texto como una «imagen» de una sola fila, la CNN puede identificar patrones y relaciones importantes entre las palabras, lo que (esperamos) ayude a la capacidad de clasificación."
   ]
  },
  {
   "cell_type": "code",
   "execution_count": 14,
   "id": "50554551",
   "metadata": {},
   "outputs": [
    {
     "name": "stdout",
     "output_type": "stream",
     "text": [
      "CNNClassifier(\n",
      "  (embedding): Embedding(20000, 50)\n",
      "  (convs): ModuleList(\n",
      "    (0): LazyConv1d(0, 32, kernel_size=(3,), stride=(1,))\n",
      "    (1): LazyConv1d(0, 32, kernel_size=(4,), stride=(1,))\n",
      "    (2): LazyConv1d(0, 32, kernel_size=(5,), stride=(1,))\n",
      "  )\n",
      "  (dropout): Dropout(p=0.5, inplace=False)\n",
      "  (fc): LazyLinear(in_features=0, out_features=3, bias=True)\n",
      ")\n"
     ]
    }
   ],
   "source": [
    "class CNNClassifier(torch.nn.Module):\n",
    "    def __init__(self, vocab_size, embedding_dim, n_filters, filter_sizes, n_classes, embedding_matrix, dropout=0.5):\n",
    "        super().__init__()\n",
    "\n",
    "        # Capa de embedding con los vectores de palabras ya preentrenados\n",
    "        self.embedding = torch.nn.Embedding(vocab_size, embedding_dim)\n",
    "        self.embedding.weight = torch.nn.Parameter(\n",
    "            torch.tensor(embedding_matrix),\n",
    "            requires_grad=False,  # Al ser False estos parámetros no se entrenan\n",
    "        )\n",
    "        \n",
    "        self.convs = torch.nn.ModuleList([\n",
    "            torch.nn.LazyConv1d(out_channels=n_filters, kernel_size=fs)\n",
    "            for fs in filter_sizes\n",
    "        ])\n",
    "        \n",
    "        self.dropout = torch.nn.Dropout(dropout)\n",
    "        self.fc = torch.nn.LazyLinear(out_features=n_classes)\n",
    "        \n",
    "    def forward(self, x):\n",
    "        x = self.embedding(x)          # (B, seq_len, embedding_dim)\n",
    "        x = x.float().transpose(1, 2)  # (B, embedding_dim, seq_len)\n",
    "\n",
    "        conv_outs = [torch.relu(conv(x)) for conv in self.convs]\n",
    "        pool_outs = [\n",
    "            torch.nn.functional.adaptive_max_pool1d(conv_out, 1).squeeze(2) \n",
    "            for conv_out in conv_outs\n",
    "        ]\n",
    "\n",
    "        x = torch.cat(pool_outs, dim=1)  # (B, n_filters*len(filter_sizes))\n",
    "        x = self.dropout(x)\n",
    "        logits = self.fc(x)                   # (B, n_classes)\n",
    "        return logits\n",
    "\n",
    "cnn_model = CNNClassifier(\n",
    "    vocab_size,\n",
    "    EMBEDDING_DIM,\n",
    "    n_filters=32,\n",
    "    filter_sizes = [3, 4, 5],\n",
    "    n_classes=num_classes,\n",
    "    embedding_matrix=embedding_matrix,\n",
    ")\n",
    "print(cnn_model)"
   ]
  },
  {
   "attachments": {},
   "cell_type": "markdown",
   "id": "f4550806",
   "metadata": {},
   "source": [
    "Ahora pasamos a entrenar el modelo. Esperemos que todo salga bien."
   ]
  },
  {
   "cell_type": "code",
   "execution_count": 15,
   "id": "ccda9aa9",
   "metadata": {},
   "outputs": [
    {
     "name": "stdout",
     "output_type": "stream",
     "text": [
      "Epoch 1/20 (36.01s), Train loss: 1.0769, Train metric: 0.3386\n",
      "Epoch 2/20 (36.80s), Train loss: 0.4601, Train metric: 0.3339\n",
      "Epoch 3/20 (37.42s), Train loss: 0.3701, Train metric: 0.3333\n",
      "Epoch 4/20 (37.46s), Train loss: 0.3727, Train metric: 0.3333\n",
      "Epoch 5/20 (37.79s), Train loss: 0.3709, Train metric: 0.3333\n",
      "Epoch 6/20 (37.92s), Train loss: 0.3552, Train metric: 0.3337\n",
      "Epoch 7/20 (38.08s), Train loss: 0.3371, Train metric: 0.3337\n",
      "Epoch 8/20 (38.83s), Train loss: 0.3221, Train metric: 0.3337\n",
      "Epoch 9/20 (38.46s), Train loss: 0.3140, Train metric: 0.3334\n",
      "Epoch 10/20 (38.40s), Train loss: 0.3082, Train metric: 0.3335\n",
      "Epoch 11/20 (38.35s), Train loss: 0.3014, Train metric: 0.3338\n",
      "Epoch 12/20 (38.49s), Train loss: 0.2961, Train metric: 0.3338\n",
      "Epoch 13/20 (38.58s), Train loss: 0.2916, Train metric: 0.3334\n",
      "Epoch 14/20 (38.18s), Train loss: 0.2873, Train metric: 0.3336\n",
      "Epoch 15/20 (38.50s), Train loss: 0.2844, Train metric: 0.3336\n",
      "Epoch 16/20 (39.05s), Train loss: 0.2818, Train metric: 0.3335\n",
      "Epoch 17/20 (39.08s), Train loss: 0.2777, Train metric: 0.3339\n",
      "Epoch 18/20 (38.82s), Train loss: 0.2754, Train metric: 0.3337\n",
      "Epoch 19/20 (39.00s), Train loss: 0.2739, Train metric: 0.3336\n",
      "Epoch 20/20 (39.12s), Train loss: 0.2724, Train metric: 0.3336\n"
     ]
    }
   ],
   "source": [
    "history = utils.train(\n",
    "    cnn_model,\n",
    "    train_loader,\n",
    "    n_epochs=N_EPOCHS,\n",
    "    criterion=torch.nn.CrossEntropyLoss(),\n",
    "    optimizer=torch.optim.Adam(cnn_model.parameters()),\n",
    "    metric_fn=torchmetrics.classification.MulticlassAccuracy(num_classes=num_classes),\n",
    ")"
   ]
  },
  {
   "attachments": {},
   "cell_type": "markdown",
   "id": "b2d17311",
   "metadata": {},
   "source": [
    "Echemos un vistazo al progreso del entrenamiento:"
   ]
  },
  {
   "cell_type": "code",
   "execution_count": 16,
   "id": "8ddec59a",
   "metadata": {},
   "outputs": [
    {
     "data": {
      "image/png": "[encoded data removed]",
      "text/plain": [
       "<Figure size 1280x384 with 1 Axes>"
      ]
     },
     "metadata": {},
     "output_type": "display_data"
    }
   ],
   "source": [
    "pd.DataFrame(history).plot()\n",
    "plt.yscale('log')\n",
    "plt.xlabel('Epoch num.')\n",
    "plt.show()"
   ]
  },
  {
   "cell_type": "markdown",
   "id": "0a778539-1c5d-47d8-8bbd-b4468b3826c8",
   "metadata": {},
   "source": [
    "## Evaluación de nuestro modelo"
   ]
  },
  {
   "attachments": {},
   "cell_type": "markdown",
   "id": "b16b83b4",
   "metadata": {},
   "source": [
    "Veamos ahora cómo interpreta el sentimiento de una reseña buena, regular y mala extraída del sitio web de amazon."
   ]
  },
  {
   "cell_type": "code",
   "execution_count": 17,
   "id": "6f0fc59e",
   "metadata": {},
   "outputs": [
    {
     "name": "stdout",
     "output_type": "stream",
     "text": [
      "Good was classified as 2\n",
      "Poor was classified as 2\n",
      "Evil was classified as 2\n"
     ]
    }
   ],
   "source": [
    "good = (\"My nephew is on the autism spectrum and likes to fidget with things so I knew this toy would be a hit. \"\n",
    "        \"Was concerned that it may not be \\\"complex\\\" enough for his very advanced brain but he really took to it. \"\n",
    "        \"Both him (14 yrs) and his little brother (8 yrs) both enjoyed playing with it throughout Christmas morning. \"\n",
    "        \"I'm always happy when I can find them something unique and engaging.\")\n",
    "\n",
    "poor = (\"I wasn't sure about this as it's really small. I bought it for my 9 year old grandson. \"\n",
    "        \"I was ready to send it back but my daughter decided it was a good gift so I'm hoping he likes it. \"\n",
    "        \"Seems expensive for the price though to me.\")\n",
    "\n",
    "evil = (\"I just wanted to follow up to say that I reported this directly to the company and had no response. \"\n",
    "        \"I have not gotten any response from my review. The level of customer service goes a long way when an item \"\n",
    "        \"you purchase is defective and this company didn’t care to respond. No I am even more Leary about ordering \"\n",
    "        \"anything from this company. I never asked for a refund or replacement since I am not able to return it. \"\n",
    "        \"I’m just wanted to let them know that this was a high dollar item and I expected it to be a quality item. \"\n",
    "        \"Very disappointed! I bought this for my grandson for Christmas. He loved it and played with it a lot. \"\n",
    "        \"My daughter called to say that the stickers were peeling on the corners. I am not able to take it from my \"\n",
    "        \"grandson because he is autistic and wouldn’t understand. I just wanted to warn others who are wanting to get \"\n",
    "        \"this. Please know that this is a cool toy and it may not happen to yours so it is up to you.\")\n",
    "\n",
    "def predict_text(text, model, vocab):\n",
    "    model.eval()\n",
    "    seq = text_to_sequence(text, vocab, MAX_SEQUENCE_LEN)\n",
    "    seq_tensor = torch.tensor(seq, dtype=torch.long).unsqueeze(0)  # crear batch de 1\n",
    "    with torch.no_grad():\n",
    "        logits = model(seq_tensor)\n",
    "        pred = logits.argmax(dim=1).item()\n",
    "    return pred\n",
    "\n",
    "print(f'Good was classified as {predict_text(good, cnn_model, vocab)}')\n",
    "print(f'Poor was classified as {predict_text(poor, cnn_model, vocab)}')\n",
    "print(f'Evil was classified as {predict_text(evil, cnn_model, vocab)}')"
   ]
  },
  {
   "attachments": {},
   "cell_type": "markdown",
   "id": "43585490",
   "metadata": {},
   "source": [
    "## Conclusiones"
   ]
  },
  {
   "attachments": {},
   "cell_type": "markdown",
   "id": "e7defd88",
   "metadata": {},
   "source": [
    "Hemos demostrado cómo utilizar una red neuronal convolucional para clasificar texto, en concreto, reseñas de productos como buenas, medias o malas. También hemos analizado las ventajas de utilizar incrustaciones de palabras preentrenadas, que pueden ayudar a mejorar el rendimiento del modelo aprovechando las relaciones semánticas entre las palabras del corpus preentrenado. También exploramos la capa TextVectorization, que proporciona una forma flexible de preprocesar datos de texto y convertirlos en vectores numéricos.\n",
    "\n",
    "Se trata de un ejemplo que puede servir de punto de partida para multitud de proyectos de NLP."
   ]
  },
  {
   "attachments": {},
   "cell_type": "markdown",
   "id": "33005bde",
   "metadata": {},
   "source": [
    "***\n",
    "\n",
    "<div><img style=\"float: right; width: 120px; vertical-align:top\" src=\"https://mirrors.creativecommons.org/presskit/buttons/88x31/png/by-nc-sa.png\" alt=\"Creative Commons by-nc-sa logo\" />\n",
    "\n",
    "[Volver al inicio](#top)\n",
    "\n",
    "</div>"
   ]
  }
 ],
 "metadata": {
  "kernelspec": {
   "display_name": "Python 3 (ipykernel)",
   "language": "python",
   "name": "python3"
  },
  "language_info": {
   "codemirror_mode": {
    "name": "ipython",
    "version": 3
   },
   "file_extension": ".py",
   "mimetype": "text/x-python",
   "name": "python",
   "nbconvert_exporter": "python",
   "pygments_lexer": "ipython3",
   "version": "3.12.3"
  }
 },
 "nbformat": 4,
 "nbformat_minor": 5
}
