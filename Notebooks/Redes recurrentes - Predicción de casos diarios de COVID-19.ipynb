{
 "cells": [
  {
   "cell_type": "markdown",
   "metadata": {
    "slideshow": {
     "slide_type": "slide"
    }
   },
   "source": [
    "<div><img style=\"float: right; width: 120px; vertical-align:middle\" src=\"https://www.upm.es/sfs/Rectorado/Gabinete%20del%20Rector/Logos/EU_Informatica/ETSI%20SIST_INFORM_COLOR.png\" alt=\"ETSISI logo\" />\n",
    "\n",
    "# Predicción de casos diarios de COVID-19<a id=\"top\"></a>\n",
    "\n",
    "<i>Última actualización: 2025-03-05</small></i></div>\n",
    "\n",
    "***"
   ]
  },
  {
   "cell_type": "markdown",
   "metadata": {},
   "source": [
    "## Introducción"
   ]
  },
  {
   "cell_type": "markdown",
   "metadata": {
    "slideshow": {
     "slide_type": "slide"
    }
   },
   "source": [
    "## Nuevo Coronavirus (COVID-19)\n",
    "\n",
    "La Covid-19 fue una enfermedad respiratoria muy infecciosa que se extendió por todo el planeta desde finales de 2019. A mediados de 2023, la el número adcumulado de casos de casos de coronavirus es una enfermedad se ha extendido rápidamente por todo el mundo. En el periodo de estudio del 22 de enero de 2020 al 2 de agosto de 2023 [se registraron en el mundo alrededor de 769 millones de casos de SARS-CoV-2](https://es.statista.com/estadisticas/1104227/numero-acumulado-de-casos-de-coronavirus-covid-19-en-el-mundo-enero-marzo/).\n",
    "\n",
    "### ¿Cómo de peligroso era?\n",
    "\n",
    "Pues era una enfermedad muy contagiosa, pero no era especialmente letal. En [worldometers](https://www.worldometers.info/coronavirus/worldwide-graphs/) existe un listado de indicadores con la progresión desde primcippios de 2020 hasta el 13 de abril de 2024 que dejaron de actualizarlo. En general, las personas mayores y las personas con enfermedades crónicas graves tenían más probabilidades de morir a causa de la Covid-19, por ello era importante proteger a estos grupos de riesgo, [aunque en algunas capitales de España no se pensase lo mismo](https://www.imdb.com/es/title/tt35097841/)."
   ]
  },
  {
   "cell_type": "markdown",
   "metadata": {},
   "source": [
    "## Objetivos"
   ]
  },
  {
   "cell_type": "markdown",
   "metadata": {},
   "source": [
    "Crearemos un modelo de regresión para predecir el número de casos diarios de Covid-19 a partir de datos históricos, utilizando redes neuronales recurrentes. Concretamente:\n",
    "\n",
    "- Manipularemos datos de series temporales para adecuarlos a nuestros modelos.\n",
    "- Implementaremos y entrenaremos modelos de regresión basados en `RNN`, `LSTM` y `GRU`.\n",
    "- Los compararemos y evaluaremos sy desempeño utilizando métricas específicas para series temporales."
   ]
  },
  {
   "cell_type": "markdown",
   "metadata": {},
   "source": [
    "## Bibliotecas y configuración"
   ]
  },
  {
   "cell_type": "markdown",
   "metadata": {},
   "source": [
    "A continuación importaremos las librerías que se utilizarán a lo largo del cuaderno."
   ]
  },
  {
   "cell_type": "code",
   "execution_count": 1,
   "metadata": {
    "slideshow": {
     "slide_type": "fragment"
    }
   },
   "outputs": [],
   "source": [
    "import numpy as np\n",
    "import pandas as pd\n",
    "import matplotlib.pyplot as plt\n",
    "import sklearn\n",
    "import torch\n",
    "import torchmetrics\n",
    "\n",
    "import utils"
   ]
  },
  {
   "cell_type": "markdown",
   "metadata": {},
   "source": [
    "También configuraremos algunos parámetros para adaptar la presentación gráfica."
   ]
  },
  {
   "cell_type": "code",
   "execution_count": 2,
   "metadata": {},
   "outputs": [],
   "source": [
    "plt.style.use('ggplot')\n",
    "plt.rcParams.update({'figure.figsize': (20, 6),'figure.dpi': 64})"
   ]
  },
  {
   "cell_type": "markdown",
   "metadata": {},
   "source": [
    "Por último, establecemos las constantes de los recursos comunes."
   ]
  },
  {
   "cell_type": "code",
   "execution_count": 3,
   "metadata": {},
   "outputs": [],
   "source": [
    "BATCH_SIZE = 8192\n",
    "TRAIN_EPOCHS = 256\n",
    "SEQUENCE_LEN = 32"
   ]
  },
  {
   "cell_type": "markdown",
   "metadata": {},
   "source": [
    "***"
   ]
  },
  {
   "cell_type": "markdown",
   "metadata": {},
   "source": [
    "## Carga y preparación de datos"
   ]
  },
  {
   "cell_type": "markdown",
   "metadata": {},
   "source": [
    "Descargaremos todo el dataset, que se encuentra alojado en el repositorio oficial del CSSE de Johns Hopkins."
   ]
  },
  {
   "cell_type": "code",
   "execution_count": 4,
   "metadata": {},
   "outputs": [
    {
     "data": {
      "text/html": [
       "<div>\n",
       "<style scoped>\n",
       "    .dataframe tbody tr th:only-of-type {\n",
       "        vertical-align: middle;\n",
       "    }\n",
       "\n",
       "    .dataframe tbody tr th {\n",
       "        vertical-align: top;\n",
       "    }\n",
       "\n",
       "    .dataframe thead th {\n",
       "        text-align: right;\n",
       "    }\n",
       "</style>\n",
       "<table border=\"1\" class=\"dataframe\">\n",
       "  <thead>\n",
       "    <tr style=\"text-align: right;\">\n",
       "      <th></th>\n",
       "      <th>Province/State</th>\n",
       "      <th>Country/Region</th>\n",
       "      <th>Lat</th>\n",
       "      <th>Long</th>\n",
       "      <th>1/22/20</th>\n",
       "      <th>1/23/20</th>\n",
       "      <th>1/24/20</th>\n",
       "      <th>1/25/20</th>\n",
       "      <th>1/26/20</th>\n",
       "      <th>1/27/20</th>\n",
       "      <th>...</th>\n",
       "      <th>2/28/23</th>\n",
       "      <th>3/1/23</th>\n",
       "      <th>3/2/23</th>\n",
       "      <th>3/3/23</th>\n",
       "      <th>3/4/23</th>\n",
       "      <th>3/5/23</th>\n",
       "      <th>3/6/23</th>\n",
       "      <th>3/7/23</th>\n",
       "      <th>3/8/23</th>\n",
       "      <th>3/9/23</th>\n",
       "    </tr>\n",
       "  </thead>\n",
       "  <tbody>\n",
       "    <tr>\n",
       "      <th>0</th>\n",
       "      <td>NaN</td>\n",
       "      <td>Afghanistan</td>\n",
       "      <td>33.93911</td>\n",
       "      <td>67.709953</td>\n",
       "      <td>0</td>\n",
       "      <td>0</td>\n",
       "      <td>0</td>\n",
       "      <td>0</td>\n",
       "      <td>0</td>\n",
       "      <td>0</td>\n",
       "      <td>...</td>\n",
       "      <td>209322</td>\n",
       "      <td>209340</td>\n",
       "      <td>209358</td>\n",
       "      <td>209362</td>\n",
       "      <td>209369</td>\n",
       "      <td>209390</td>\n",
       "      <td>209406</td>\n",
       "      <td>209436</td>\n",
       "      <td>209451</td>\n",
       "      <td>209451</td>\n",
       "    </tr>\n",
       "    <tr>\n",
       "      <th>1</th>\n",
       "      <td>NaN</td>\n",
       "      <td>Albania</td>\n",
       "      <td>41.15330</td>\n",
       "      <td>20.168300</td>\n",
       "      <td>0</td>\n",
       "      <td>0</td>\n",
       "      <td>0</td>\n",
       "      <td>0</td>\n",
       "      <td>0</td>\n",
       "      <td>0</td>\n",
       "      <td>...</td>\n",
       "      <td>334391</td>\n",
       "      <td>334408</td>\n",
       "      <td>334408</td>\n",
       "      <td>334427</td>\n",
       "      <td>334427</td>\n",
       "      <td>334427</td>\n",
       "      <td>334427</td>\n",
       "      <td>334427</td>\n",
       "      <td>334443</td>\n",
       "      <td>334457</td>\n",
       "    </tr>\n",
       "    <tr>\n",
       "      <th>2</th>\n",
       "      <td>NaN</td>\n",
       "      <td>Algeria</td>\n",
       "      <td>28.03390</td>\n",
       "      <td>1.659600</td>\n",
       "      <td>0</td>\n",
       "      <td>0</td>\n",
       "      <td>0</td>\n",
       "      <td>0</td>\n",
       "      <td>0</td>\n",
       "      <td>0</td>\n",
       "      <td>...</td>\n",
       "      <td>271441</td>\n",
       "      <td>271448</td>\n",
       "      <td>271463</td>\n",
       "      <td>271469</td>\n",
       "      <td>271469</td>\n",
       "      <td>271477</td>\n",
       "      <td>271477</td>\n",
       "      <td>271490</td>\n",
       "      <td>271494</td>\n",
       "      <td>271496</td>\n",
       "    </tr>\n",
       "    <tr>\n",
       "      <th>3</th>\n",
       "      <td>NaN</td>\n",
       "      <td>Andorra</td>\n",
       "      <td>42.50630</td>\n",
       "      <td>1.521800</td>\n",
       "      <td>0</td>\n",
       "      <td>0</td>\n",
       "      <td>0</td>\n",
       "      <td>0</td>\n",
       "      <td>0</td>\n",
       "      <td>0</td>\n",
       "      <td>...</td>\n",
       "      <td>47866</td>\n",
       "      <td>47875</td>\n",
       "      <td>47875</td>\n",
       "      <td>47875</td>\n",
       "      <td>47875</td>\n",
       "      <td>47875</td>\n",
       "      <td>47875</td>\n",
       "      <td>47875</td>\n",
       "      <td>47890</td>\n",
       "      <td>47890</td>\n",
       "    </tr>\n",
       "    <tr>\n",
       "      <th>4</th>\n",
       "      <td>NaN</td>\n",
       "      <td>Angola</td>\n",
       "      <td>-11.20270</td>\n",
       "      <td>17.873900</td>\n",
       "      <td>0</td>\n",
       "      <td>0</td>\n",
       "      <td>0</td>\n",
       "      <td>0</td>\n",
       "      <td>0</td>\n",
       "      <td>0</td>\n",
       "      <td>...</td>\n",
       "      <td>105255</td>\n",
       "      <td>105277</td>\n",
       "      <td>105277</td>\n",
       "      <td>105277</td>\n",
       "      <td>105277</td>\n",
       "      <td>105277</td>\n",
       "      <td>105277</td>\n",
       "      <td>105277</td>\n",
       "      <td>105288</td>\n",
       "      <td>105288</td>\n",
       "    </tr>\n",
       "  </tbody>\n",
       "</table>\n",
       "<p>5 rows × 1147 columns</p>\n",
       "</div>"
      ],
      "text/plain": [
       "  Province/State Country/Region       Lat       Long  1/22/20  1/23/20  \\\n",
       "0            NaN    Afghanistan  33.93911  67.709953        0        0   \n",
       "1            NaN        Albania  41.15330  20.168300        0        0   \n",
       "2            NaN        Algeria  28.03390   1.659600        0        0   \n",
       "3            NaN        Andorra  42.50630   1.521800        0        0   \n",
       "4            NaN         Angola -11.20270  17.873900        0        0   \n",
       "\n",
       "   1/24/20  1/25/20  1/26/20  1/27/20  ...  2/28/23  3/1/23  3/2/23  3/3/23  \\\n",
       "0        0        0        0        0  ...   209322  209340  209358  209362   \n",
       "1        0        0        0        0  ...   334391  334408  334408  334427   \n",
       "2        0        0        0        0  ...   271441  271448  271463  271469   \n",
       "3        0        0        0        0  ...    47866   47875   47875   47875   \n",
       "4        0        0        0        0  ...   105255  105277  105277  105277   \n",
       "\n",
       "   3/4/23  3/5/23  3/6/23  3/7/23  3/8/23  3/9/23  \n",
       "0  209369  209390  209406  209436  209451  209451  \n",
       "1  334427  334427  334427  334427  334443  334457  \n",
       "2  271469  271477  271477  271490  271494  271496  \n",
       "3   47875   47875   47875   47875   47890   47890  \n",
       "4  105277  105277  105277  105277  105288  105288  \n",
       "\n",
       "[5 rows x 1147 columns]"
      ]
     },
     "execution_count": 4,
     "metadata": {},
     "output_type": "execute_result"
    }
   ],
   "source": [
    "repo = \"https://raw.githubusercontent.com/CSSEGISandData/COVID-19\"\n",
    "dataset = \"csse_covid_19_data/csse_covid_19_time_series/time_series_covid19_confirmed_global.csv\"\n",
    "df = pd.read_csv(f\"{repo}/refs/heads/master/{dataset}\")\n",
    "df.head()"
   ]
  },
  {
   "cell_type": "markdown",
   "metadata": {},
   "source": [
    "Para este ejemplo vamos a prescindir de la información relacionada con la localización (las cuatro primeras columnas)."
   ]
  },
  {
   "cell_type": "code",
   "execution_count": 5,
   "metadata": {},
   "outputs": [],
   "source": [
    "df = df.iloc[:, 4:]  # Off with the first 4 columns"
   ]
  },
  {
   "cell_type": "markdown",
   "metadata": {},
   "source": [
    " También, dado que lo que queremos predecir es el número de casos diarios y que la información que aparece es el acumulado, debemos calcular la diferencia entre días consecutivos. Para ello primero debemos asegurarnos de que no hay valores nulos en el dataset. Así que comprobaremos que no los hay y sacaremos los valores acumulados."
   ]
  },
  {
   "cell_type": "code",
   "execution_count": 6,
   "metadata": {},
   "outputs": [
    {
     "name": "stdout",
     "output_type": "stream",
     "text": [
      "2020-01-22     557\n",
      "2020-01-23     657\n",
      "2020-01-24     944\n",
      "2020-01-25    1437\n",
      "2020-01-26    2120\n",
      "dtype: int64\n"
     ]
    },
    {
     "data": {
      "image/png": "[encoded data removed]",
      "text/plain": [
       "<Figure size 1280x384 with 1 Axes>"
      ]
     },
     "metadata": {},
     "output_type": "display_data"
    }
   ],
   "source": [
    "assert df.isnull().sum().sum() == 0  # No null values, please\n",
    "\n",
    "serie = df.sum(axis=0)\n",
    "serie.index = pd.to_datetime(serie.index, format='mixed')\n",
    "print(serie.head())\n",
    "serie.plot();"
   ]
  },
  {
   "cell_type": "markdown",
   "metadata": {
    "slideshow": {
     "slide_type": "slide"
    }
   },
   "source": [
    "Ahora, este conjunto de datos acumulados por día se lo restaremos a nuestro conjunto de datos para que nos quede la diferencia entre días consecutivos, que es lo que queremos predecir. Nos quedamos con el primer valor de la  secuencia porque no tenemos el valor anterior para calcular la diferencia."
   ]
  },
  {
   "cell_type": "code",
   "execution_count": 7,
   "metadata": {},
   "outputs": [
    {
     "name": "stdout",
     "output_type": "stream",
     "text": [
      "2020-01-22    557\n",
      "2020-01-23    100\n",
      "2020-01-24    287\n",
      "2020-01-25    493\n",
      "2020-01-26    683\n",
      "dtype: int64\n"
     ]
    },
    {
     "name": "stderr",
     "output_type": "stream",
     "text": [
      "/tmp/ipykernel_48991/2166223940.py:1: FutureWarning: Series.__getitem__ treating keys as positions is deprecated. In a future version, integer keys will always be treated as labels (consistent with DataFrame behavior). To access a value by position, use `ser.iloc[pos]`\n",
      "  serie = serie.diff().fillna(serie[0]).astype(np.int64)\n"
     ]
    },
    {
     "data": {
      "image/png": "[encoded data removed]",
      "text/plain": [
       "<Figure size 1280x384 with 1 Axes>"
      ]
     },
     "metadata": {},
     "output_type": "display_data"
    }
   ],
   "source": [
    "serie = serie.diff().fillna(serie[0]).astype(np.int64)\n",
    "print(serie.head())\n",
    "serie.plot();"
   ]
  },
  {
   "cell_type": "markdown",
   "metadata": {},
   "source": [
    "Ya tenemos la serie temporal con la que vamos a trabajar. Ahora vamos a dividir los datos en entrenamiento y test. Para ello vamos a utilizar los datos de los primeros $80\\%$ días para entrenar y el resto para test."
   ]
  },
  {
   "cell_type": "code",
   "execution_count": 8,
   "metadata": {},
   "outputs": [
    {
     "name": "stdout",
     "output_type": "stream",
     "text": [
      "Train data shape: (915,)\n",
      "Test data shape:  (228,)\n"
     ]
    }
   ],
   "source": [
    "test_size = int(len(serie) * .2)\n",
    "\n",
    "train_data = serie[:-test_size]\n",
    "test_data  = serie[-test_size:]\n",
    "\n",
    "print(f\"Train data shape: {train_data.shape}\")\n",
    "print(f\"Test data shape:  {test_data.shape}\")"
   ]
  },
  {
   "cell_type": "markdown",
   "metadata": {},
   "source": [
    "Estos datos los estandarizaremos para que tengan media $0$ y desviación típica $1$. Para ello utilizaremos `StandardScaler` de `sklearn`."
   ]
  },
  {
   "cell_type": "code",
   "execution_count": 9,
   "metadata": {},
   "outputs": [
    {
     "name": "stdout",
     "output_type": "stream",
     "text": [
      "Train data shape: (915, 1)\n",
      "Test data shape:  (228, 1)\n"
     ]
    }
   ],
   "source": [
    "scaler = sklearn.preprocessing.StandardScaler()\n",
    "scaler = scaler.fit(train_data.to_numpy().reshape(-1, 1))\n",
    "\n",
    "train_data = scaler.transform(train_data.to_numpy().reshape(-1, 1))\n",
    "test_data = scaler.transform(test_data.to_numpy().reshape(-1, 1))\n",
    "\n",
    "print(f\"Train data shape: {train_data.shape}\")\n",
    "print(f\"Test data shape:  {test_data.shape}\")"
   ]
  },
  {
   "cell_type": "markdown",
   "metadata": {},
   "source": [
    "Ahora, toda la secuencia será transformada en secuencias de longitud `n_steps` para que podamos entrenar nuestros modelos. Para ello utilizaremos la función `split_sequence` que definiremos a continuación."
   ]
  },
  {
   "cell_type": "code",
   "execution_count": 10,
   "metadata": {},
   "outputs": [
    {
     "name": "stdout",
     "output_type": "stream",
     "text": [
      "Train data shape -> input: (883, 32, 1), output: (883, 1)\n",
      "Test data shape  -> input: (196, 32, 1), output: (196, 1)\n"
     ]
    }
   ],
   "source": [
    "def split_sequence(data, n_steps):\n",
    "    X, y = [], []\n",
    "\n",
    "    for i in range(len(data) - n_steps):\n",
    "        X.append(data[i:i + n_steps])\n",
    "        y.append(data[i + n_steps])\n",
    "\n",
    "    return np.array(X), np.array(y)\n",
    "\n",
    "x_train, y_train = split_sequence(data=train_data, n_steps=SEQUENCE_LEN)\n",
    "x_test, y_test = split_sequence(data=test_data, n_steps=SEQUENCE_LEN)\n",
    "\n",
    "print(f\"Train data shape -> input: {x_train.shape}, output: {y_train.shape}\")\n",
    "print(f\"Test data shape  -> input: {x_test.shape}, output: {y_test.shape}\")"
   ]
  },
  {
   "cell_type": "markdown",
   "metadata": {},
   "source": [
    "Para finalizar, trabajaremos similar a  como trabajábamos en el resto de ejemplos, así que crearemos una subclase de `torch.utils.data.Dataset` iterar sobre los datos de entrenamiento y test."
   ]
  },
  {
   "cell_type": "code",
   "execution_count": 11,
   "metadata": {},
   "outputs": [],
   "source": [
    "class TimeSeriesDataset(torch.utils.data.Dataset):\n",
    "    def __init__(self, sequences, targets):\n",
    "        self.sequences = torch.tensor(sequences, dtype=torch.float32)\n",
    "        self.targets = torch.tensor(targets, dtype=torch.float32)\n",
    "\n",
    "    def __len__(self):\n",
    "        return len(self.sequences)\n",
    "\n",
    "    def __getitem__(self, idx):\n",
    "        return self.sequences[idx], self.targets[idx]\n",
    "\n",
    "train_dataset = TimeSeriesDataset(x_train, y_train)\n",
    "test_dataset = TimeSeriesDataset(x_test, y_test)\n",
    "\n",
    "train_loader = torch.utils.data.DataLoader(\n",
    "    dataset=train_dataset, batch_size=BATCH_SIZE, shuffle=True\n",
    ")\n",
    "test_loader = torch.utils.data.DataLoader(\n",
    "    dataset=test_dataset, batch_size=BATCH_SIZE, shuffle=False\n",
    ")"
   ]
  },
  {
   "cell_type": "markdown",
   "metadata": {},
   "source": [
    "## Definición de los modelos"
   ]
  },
  {
   "cell_type": "markdown",
   "metadata": {
    "slideshow": {
     "slide_type": "fragment"
    }
   },
   "source": [
    "Ahora pasaremos a definir nuestros modelos. Concretamente, implementaremos tres modelos basados en redes neuronales recurrentes: `RNN`, `LSTM` y `GRU`."
   ]
  },
  {
   "cell_type": "code",
   "execution_count": 12,
   "metadata": {},
   "outputs": [],
   "source": [
    "class RNNModel(torch.nn.Module):\n",
    "    def __init__(self, n_in, n_hid, n_layers, n_out, rnn_cls, *args, **kwargs):\n",
    "        super().__init__(*args, **kwargs)\n",
    "        self.rnn = rnn_cls(\n",
    "            input_size=n_in,\n",
    "            hidden_size=n_hid,\n",
    "            num_layers=n_layers,  # Esto es otra forma de apilar varias RNN\n",
    "            batch_first=True,\n",
    "        )\n",
    "        self.fc = torch.nn.Linear(in_features=n_hid, out_features=n_out)\n",
    "        \n",
    "    def forward(self, x):\n",
    "        out, _ = self.rnn(x)\n",
    "        out = out[:, -1, :]\n",
    "        out = self.fc(out)\n",
    "        return out\n",
    "\n",
    "input_features = 1\n",
    "hidden_units = 16\n",
    "num_layers = 2\n",
    "output_size = 1\n",
    "\n",
    "rnn_model = RNNModel(\n",
    "    n_in=input_features,\n",
    "    n_hid=hidden_units,\n",
    "    n_layers=num_layers,\n",
    "    n_out=output_size,\n",
    "    rnn_cls=torch.nn.RNN,\n",
    ")\n",
    "\n",
    "gru_model = RNNModel(\n",
    "    n_in=input_features,\n",
    "    n_hid=hidden_units,\n",
    "    n_layers=num_layers,\n",
    "    n_out=output_size,\n",
    "    rnn_cls=torch.nn.GRU,\n",
    ")\n",
    "\n",
    "lstm_model = RNNModel(\n",
    "    n_in=input_features,\n",
    "    n_hid=hidden_units,\n",
    "    n_layers=num_layers,\n",
    "    n_out=output_size,\n",
    "    rnn_cls=torch.nn.LSTM,\n",
    ")"
   ]
  },
  {
   "cell_type": "markdown",
   "metadata": {
    "slideshow": {
     "slide_type": "slide"
    }
   },
   "source": [
    "Ahora, entrenaremos el modelo con los datos de entrenamiento que hemos preparado."
   ]
  },
  {
   "cell_type": "code",
   "execution_count": null,
   "metadata": {},
   "outputs": [
    {
     "name": "stdout",
     "output_type": "stream",
     "text": [
      "Training RNN model ... "
     ]
    },
    {
     "name": "stderr",
     "output_type": "stream",
     "text": [
      "/home/blazaid/Projects/aprendizaje-profundo/.venv/lib/python3.12/site-packages/torch/autograd/graph.py:823: UserWarning: CUDA initialization: CUDA unknown error - this may be due to an incorrectly set up environment, e.g. changing env variable CUDA_VISIBLE_DEVICES after program start. Setting the available devices to be zero. (Triggered internally at /pytorch/c10/cuda/CUDAFunctions.cpp:109.)\n",
      "  return Variable._execution_engine.run_backward(  # Calls into the C++ engine to run the backward pass\n"
     ]
    }
   ],
   "source": [
    "print(\"Training RNN model ... \", end=\"\")\n",
    "history_rnn = utils.train(\n",
    "    model=rnn_model,\n",
    "    train_loader=train_loader,\n",
    "    n_epochs=TRAIN_EPOCHS,\n",
    "    criterion=torch.nn.MSELoss(),\n",
    "    optimizer=torch.optim.Adam(rnn_model.parameters()),\n",
    "    validation_split=0.1,\n",
    "    metric_fn=torchmetrics.MeanAbsoluteError(),\n",
    "    verbose=False,\n",
    ")\n",
    "print(\"Results:\")\n",
    "avg_trn_loss = np.mean(history_rnn.get(\"train_loss\"))\n",
    "avg_val_loss = np.mean(history_rnn.get(\"val_loss\"))\n",
    "avg_trn_metr = scaler.inverse_transform([[    # Los datos vienen estandarizados,\n",
    "    np.mean(history_rnn.get(\"train_metric\"))  #  así que tenemos que pasarlos a\n",
    "]])                                           #  su escala original\n",
    "avg_val_metr = scaler.inverse_transform([[\n",
    "    np.mean(history_rnn.get(\"val_metric\"))\n",
    "]])\n",
    "print(f\"- Train loss: {avg_trn_loss} - Validation loss: {avg_val_loss}\")\n",
    "print(f\"- Train metric: {avg_trn_metr} - Validation metric: {avg_val_metr}\")\n",
    "\n",
    "print(\"Training GRU model ...\", end=\"\")\n",
    "history_gru = utils.train(\n",
    "    model=gru_model,\n",
    "    train_loader=train_loader,\n",
    "    n_epochs=TRAIN_EPOCHS,\n",
    "    criterion=torch.nn.MSELoss(),\n",
    "    optimizer=torch.optim.Adam(gru_model.parameters()),\n",
    "    validation_split=0.1,\n",
    "    metric_fn=torchmetrics.MeanAbsoluteError(),\n",
    "    verbose=False,\n",
    ")\n",
    "print(\"Results:\")\n",
    "avg_trn_loss = np.mean(history_gru.get(\"train_loss\"))\n",
    "avg_val_loss = np.mean(history_gru.get(\"val_loss\"))\n",
    "avg_trn_metr = scaler.inverse_transform([[\n",
    "    np.mean(history_gru.get(\"train_metric\"))\n",
    "]])\n",
    "avg_val_metr = scaler.inverse_transform([[\n",
    "    np.mean(history_gru.get(\"val_metric\"))\n",
    "]])\n",
    "print(f\"- Train loss: {avg_trn_loss} - Validation loss: {avg_val_loss}\")\n",
    "print(f\"- Train metric: {avg_trn_metr} - Validation metric: {avg_val_metr}\")\n",
    "\n",
    "print(\"Training LSTM model ...\", end=\"\")\n",
    "history_lstm = utils.train(\n",
    "    model=lstm_model,\n",
    "    train_loader=train_loader,\n",
    "    n_epochs=TRAIN_EPOCHS,\n",
    "    criterion=torch.nn.MSELoss(),\n",
    "    optimizer=torch.optim.Adam(lstm_model.parameters()),\n",
    "    validation_split=0.1,\n",
    "    metric_fn=torchmetrics.MeanAbsoluteError(),\n",
    "    verbose=False,\n",
    ")\n",
    "print(\" OK\")\n",
    "print(\"Results for RNN:\")\n",
    "avg_trn_loss = np.mean(history_lstm.get(\"train_loss\"))\n",
    "avg_val_loss = np.mean(history_lstm.get(\"val_loss\"))\n",
    "avg_trn_metr = scaler.inverse_transform([[\n",
    "    np.mean(history_lstm.get(\"train_metric\"))\n",
    "]])\n",
    "avg_val_metr = scaler.inverse_transform([[\n",
    "    np.mean(history_lstm.get(\"val_metric\"))\n",
    "]])\n",
    "print(f\"- Train loss: {avg_trn_loss} - Validation loss: {avg_val_loss}\")\n",
    "print(f\"- Train metric: {avg_trn_metr} - Validation metric: {avg_val_metr}\")"
   ]
  },
  {
   "cell_type": "markdown",
   "metadata": {},
   "source": [
    "Echemos un vistazo a la evolución del entrenamiento."
   ]
  },
  {
   "cell_type": "code",
   "execution_count": null,
   "metadata": {},
   "outputs": [],
   "source": [
    "pd.DataFrame(history_rnn).plot(\n",
    "    title='RNN model',\n",
    "    subplots=[('train_loss', 'val_loss'), ('train_metric', 'val_metric')],\n",
    "    layout=(1, 2),\n",
    ")\n",
    "plt.xlabel('Epoch num.')\n",
    "plt.show()\n",
    "\n",
    "pd.DataFrame(history_gru).plot(\n",
    "    title='GRU model',\n",
    "    subplots=[('train_loss', 'val_loss'), ('train_metric', 'val_metric')],\n",
    "    layout=(1, 2),\n",
    ")\n",
    "plt.xlabel('Epoch num.')\n",
    "plt.show()\n",
    "\n",
    "pd.DataFrame(history_lstm).plot(\n",
    "    title='LSTM model',\n",
    "    subplots=[('train_loss', 'val_loss'), ('train_metric', 'val_metric')],\n",
    "    layout=(1, 2),\n",
    ")\n",
    "plt.xlabel('Epoch num.')\n",
    "plt.show()"
   ]
  },
  {
   "cell_type": "markdown",
   "metadata": {},
   "source": [
    "## Evaluación del modelo"
   ]
  },
  {
   "cell_type": "markdown",
   "metadata": {},
   "source": [
    "Tras el entrenamiento, ya podemos evaluar el rendimiento de cada modelo sobre el conjunto de prueba."
   ]
  },
  {
   "cell_type": "code",
   "execution_count": null,
   "metadata": {},
   "outputs": [],
   "source": [
    "print(\"Evaluating RNN model ...\", end=\"\")\n",
    "eval_rnn = utils.evaluate(\n",
    "    model=rnn_model,\n",
    "    data_loader=test_loader,\n",
    "    criterion=torch.nn.MSELoss(),\n",
    "    metric_fn=torchmetrics.MeanAbsoluteError(),\n",
    ")\n",
    "print(\" OK\")\n",
    "print(\"Evaluating GRU model ...\", end=\"\")\n",
    "eval_gru = utils.evaluate(\n",
    "    model=gru_model,\n",
    "    data_loader=test_loader,\n",
    "    criterion=torch.nn.MSELoss(),\n",
    "    metric_fn=torchmetrics.MeanAbsoluteError(),\n",
    ")\n",
    "print(\" OK\")\n",
    "print(\"Evaluating LSTM model ...\", end=\"\")\n",
    "eval_lstm = utils.evaluate(\n",
    "    model=lstm_model,\n",
    "    data_loader=test_loader,\n",
    "    criterion=torch.nn.MSELoss(),\n",
    "    metric_fn=torchmetrics.MeanAbsoluteError(),\n",
    ")\n",
    "print(\" OK\")\n",
    "\n",
    "print(f'Results for RNN  -> Loss: {eval_rnn.get(\"loss\")}, metric: {scaler.inverse_transform([[eval_rnn.get(\"metric\")]])}')\n",
    "print(f'Results for GRU  -> Loss: {eval_gru.get(\"loss\")}, metric: {scaler.inverse_transform([[eval_gru.get(\"metric\")]])}')\n",
    "print(f'Results for LSTM -> Loss: {eval_lstm.get(\"loss\")}, metric: {scaler.inverse_transform([[eval_lstm.get(\"metric\")]])}')"
   ]
  },
  {
   "cell_type": "markdown",
   "metadata": {},
   "source": [
    "Al menos no es un comportamiento como el anterior. Pero sigue siendo inútil. Aparentemente no vamos a hacernos ricos, al menos no así."
   ]
  },
  {
   "cell_type": "markdown",
   "metadata": {},
   "source": [
    "## Conclusiones"
   ]
  },
  {
   "cell_type": "markdown",
   "metadata": {},
   "source": [
    "En este notebook hemos desarrollado y entrenado tres modelos de redes neuronales recurrentes utilizando PyTorch, con el objetivo de predecir el número diario de casos confirmados de COVID-19. Hemos visto cómo:\n",
    "\n",
    "- Se pueden preprocesar y transformar datos reales de series temporales para adaptarlos al modelo,\n",
    "- Es posible implementar distintos modelos en PyTorch con el mismo conjunto de datos, y\n",
    "\n",
    "Aunque la predicción de fenómenos epidemiológicos es un desafío debido a la complejidad y la naturaleza cambiante de los datos, al menos este ejercicio nos ha ayudado a la entender de qué manera se puede trabajar con este tipo de modelos."
   ]
  },
  {
   "cell_type": "markdown",
   "metadata": {},
   "source": [
    "***\n",
    "\n",
    "<div><img style=\"float: right; width: 120px; vertical-align:top\" src=\"https://mirrors.creativecommons.org/presskit/buttons/88x31/png/by-nc-sa.png\" alt=\"Creative Commons by-nc-sa logo\" />\n",
    "\n",
    "[Volver al inicio](#top)\n",
    "\n",
    "</div>"
   ]
  }
 ],
 "metadata": {
  "kernelspec": {
   "display_name": "Python 3 (ipykernel)",
   "language": "python",
   "name": "python3"
  },
  "language_info": {
   "codemirror_mode": {
    "name": "ipython",
    "version": 3
   },
   "file_extension": ".py",
   "mimetype": "text/x-python",
   "name": "python",
   "nbconvert_exporter": "python",
   "pygments_lexer": "ipython3",
   "version": "3.12.3"
  }
 },
 "nbformat": 4,
 "nbformat_minor": 4
}
