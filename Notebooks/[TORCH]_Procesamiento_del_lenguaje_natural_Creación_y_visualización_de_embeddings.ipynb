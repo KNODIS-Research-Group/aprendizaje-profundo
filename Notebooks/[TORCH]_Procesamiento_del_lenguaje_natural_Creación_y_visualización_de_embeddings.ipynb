{
  "cells": [
    {
      "cell_type": "markdown",
      "metadata": {
        "id": "7SN5USFEIIK3"
      },
      "source": [
        "<div><img style=\"float: right; width: 120px; vertical-align:middle\" src=\"https://www.upm.es/sfs/Rectorado/Gabinete%20del%20Rector/Logos/EU_Informatica/ETSI%20SIST_INFORM_COLOR.png\" alt=\"ETSISI logo\" />\n",
        "\n",
        "\n",
        "# Creación y visualización de _embeddings_<a id=\"top\"></a>\n",
        "\n",
        "<i><small>Última actualización: 2024-03-12</small></i></div>\n",
        "\n",
        "***"
      ]
    },
    {
      "cell_type": "markdown",
      "metadata": {
        "id": "HxoOhdK76NnB"
      },
      "source": [
        "## Introducción"
      ]
    },
    {
      "cell_type": "markdown",
      "metadata": {
        "id": "aRLl6byZ6NnC"
      },
      "source": [
        "Los _embeddings_ son una técnica utilizada para representar datos de forma más compacta y significativa. En concreto, se utilizan para representar vectores de dimensiones muy grandes (por ejemplo, representaciones de palabras o imágenes) en espacios de mucha menor dimensión (normalmente unas pocas decenas o centenares de ellas).\n",
        "\n",
        "Son muy útiles en aplicaciones de aprendizaje automático relacionadas con el procesamiento del lenguaje natural. Por ejemplo, pueden utilizarse para representar palabras en un espacio vectorial, de modo que las palabras que tienen un significado similar se representen cerca unas de otras. Esto es útil en tareas como la traducción automática, en la que se busca la palabra en la lengua de destino que tenga el significado más parecido a la palabra en la lengua de origen."
      ]
    },
    {
      "cell_type": "markdown",
      "metadata": {
        "id": "OntdsPqR6NnD"
      },
      "source": [
        "## Objetivos"
      ]
    },
    {
      "cell_type": "markdown",
      "metadata": {
        "id": "Q6mJg1g3apaz"
      },
      "source": [
        "En este cuaderno crearemos un Embedding y lo proyectaremos en un espacio bidimensional para probar cómo se pueden relacionar las palabras en un espacio vectorial en un contexto dado (problema).\n",
        "\n",
        "Entrenaremos este embedding para una tarea de clasificación típicamente utilizada para empezar a aprender NLP, la de análisis de sentimiento de los comentarios de IMDb. Sin embargo, nos quedaremos en el punto en el que se entrena el _embedding_, dejando el análisis de sentimiento para más adelante."
      ]
    },
    {
      "cell_type": "markdown",
      "metadata": {
        "id": "fkT5Hlki6NnG"
      },
      "source": [
        "## Bibliotecas y configuración"
      ]
    },
    {
      "cell_type": "markdown",
      "metadata": {
        "id": "ZqF9kxVp6NnH"
      },
      "source": [
        "A continuación importaremos las bibliotecas que se utilizarán a lo largo del cuaderno."
      ]
    },
    {
      "cell_type": "code",
      "execution_count": 43,
      "metadata": {
        "id": "tsJIJK216NnI"
      },
      "outputs": [],
      "source": [
        "import numpy as np\n",
        "import pandas as pd\n",
        "import tensorflow as tf\n",
        "import matplotlib.pyplot as plt\n",
        "import torch\n",
        "import torch.nn as nn\n",
        "from torch.utils.data import DataLoader, TensorDataset\n",
        "import torch.optim as optim\n",
        "\n",
        "from utils import get_device"
      ]
    },
    {
      "cell_type": "markdown",
      "metadata": {
        "id": "vpMIgc7y6NnK"
      },
      "source": [
        "También configuraremos algunos parámetros para adaptar la presentación gráfica."
      ]
    },
    {
      "cell_type": "code",
      "execution_count": 28,
      "metadata": {
        "colab": {
          "base_uri": "https://localhost:8080/"
        },
        "id": "RdpZmXtvjpjy",
        "outputId": "db3dee7c-417c-48c1-863c-1e6d1bcf6e14"
      },
      "outputs": [
        {
          "name": "stdout",
          "output_type": "stream",
          "text": [
            "Using device: cuda\n"
          ]
        }
      ],
      "source": [
        "dev = get_device()\n",
        "print(f\"Using device: {dev}\")"
      ]
    },
    {
      "cell_type": "code",
      "execution_count": 29,
      "metadata": {
        "id": "RutaI-Tpev3T"
      },
      "outputs": [],
      "source": [
        "np.set_printoptions(precision=3)\n",
        "\n",
        "plt.style.use('bmh')\n",
        "plt.rcParams.update({'figure.figsize': (16, 9),'figure.dpi': 100})"
      ]
    },
    {
      "cell_type": "markdown",
      "metadata": {
        "id": "jAuXiKSZ6NnM"
      },
      "source": [
        "***"
      ]
    },
    {
      "cell_type": "markdown",
      "metadata": {
        "id": "SBFctV8-JZOc"
      },
      "source": [
        "## Obteniendo el conjunto de datos de [IMDb](https://www.imdb.com/)"
      ]
    },
    {
      "cell_type": "markdown",
      "metadata": {
        "id": "2U-eVKRF6NnN"
      },
      "source": [
        "Vamos a utilizar el dataset de IMDb como fuente de datos. Afortunadamente, lo tenemos en el módulo `datasets` de Keras, así que podemos cargarlo de la misma forma que hemos hecho con el dataset `mnist`."
      ]
    },
    {
      "cell_type": "code",
      "execution_count": 30,
      "metadata": {
        "id": "aPO4_UmfF0KH"
      },
      "outputs": [],
      "source": [
        "(x_train, y_train), (x_test, y_test) = tf.keras.datasets.imdb.load_data()"
      ]
    },
    {
      "cell_type": "markdown",
      "metadata": {
        "id": "3ovhiTh56NnO"
      },
      "source": [
        "Los comentarios descargados son en realidad índices de palabras. El diccionario `word->index` se obtiene con la función `get_word_index`. Obtendremos el diccionario y haremos el diccionario inverso para realizar la descodificación."
      ]
    },
    {
      "cell_type": "code",
      "execution_count": 31,
      "metadata": {
        "colab": {
          "base_uri": "https://localhost:8080/"
        },
        "id": "dx6a9vZy6NnO",
        "outputId": "75dc8d88-5538-4619-a39d-c79bc676e14d"
      },
      "outputs": [
        {
          "data": {
            "text/plain": [
              "\"the as you with out themselves powerful lets loves their becomes reaching had journalist of lot from anyone to have after out atmosphere never more room titillate it so heart shows to years of every never going villaronga help moments or of every chest visual movie except her was several of enough more with is now current film as you of mine potentially unfortunately of you than him that with out themselves her get for was camp of you movie sometimes movie that with scary but pratfalls to story wonderful that in seeing in character to of 70s musicians with heart had shadows they of here that with her serious to have does when from why what have critics they is you that isn't one will very to as itself with other tricky in of seen over landed for anyone of gilmore's br show's to whether from than out themselves history he name half some br of 'n odd was two most of mean for 1 any an boat she he should is thought frog but of script you not while history he heart to real at barrel but when from one bit then have two of script their with her nobody most that with wasn't to with armed acting watch an for with heartfelt film want an\""
            ]
          },
          "execution_count": 31,
          "metadata": {},
          "output_type": "execute_result"
        }
      ],
      "source": [
        "word_index = tf.keras.datasets.imdb.get_word_index()\n",
        "index_word = {index: word for (word, index) in word_index.items()}\n",
        "\n",
        "' '.join(index_word.get(i, '<UNK>') for i in x_train[0])"
      ]
    },
    {
      "cell_type": "markdown",
      "metadata": {
        "id": "tej6KUy76NnP"
      },
      "source": [
        "No parece que tenga mucho sentido, ¿verdad? Esto es porque este diccionario es un poco tramposo, ya que no se corresponde exactamente con los datos del conjunto de datos:\n",
        "\n",
        "- El primer índice de todos es 1, no 0. El 0 no se utiliza.\n",
        "- Los índices están desplazados 3 enteros porque esos 3 primeros _tokens_ se reservan a palabras especiales (1 a principio de frase, 2 a elemento desconocido y 3 a no utilizado).\n",
        "\n",
        "Por tanto, vamos a rellenar tres posiciones para ejecutar todos los índices y rellenar los valores por defecto. El 0 se utilizará para indicar un relleno (para rellenar las frases que no tienen la longitud fija requerida por los modelos). Por último, generaremos de nuevo el diccionario inverso"
      ]
    },
    {
      "cell_type": "code",
      "execution_count": 32,
      "metadata": {
        "colab": {
          "base_uri": "https://localhost:8080/"
        },
        "id": "of7pc3qW6NnQ",
        "outputId": "ef90fab3-ea88-4e02-d425-29279c91b65b"
      },
      "outputs": [
        {
          "data": {
            "text/plain": [
              "\"<SOS> this film was just brilliant casting location scenery story direction everyone's really suited the part they played and you could just imagine being there robert redford's is an amazing actor and now the same being director norman's father came from the same scottish island as myself so i loved the fact there was a real connection with this film the witty remarks throughout the film were great it was just brilliant so much that i bought the film as soon as it was released for retail and would recommend it to everyone to watch and the fly fishing was amazing really cried at the end it was so sad and you know what they say if you cry at a film it must have been good and this definitely was also congratulations to the two little boy's that played the part's of norman and paul they were just brilliant children are often left out of the praising list i think because the stars that play them all grown up are such a big profile for the whole film but these children are amazing and should be praised for what they have done don't you think the whole story was so lovely because it was true and was someone's life after all that was shared with us all\""
            ]
          },
          "execution_count": 32,
          "metadata": {},
          "output_type": "execute_result"
        }
      ],
      "source": [
        "word_index = {word: (index + 3) for word, index in word_index.items()}\n",
        "word_index['<PAD>'] = 0  # Padding\n",
        "word_index['<SOS>'] = 1  # Start-of-sentence\n",
        "word_index['<UNK>'] = 2  # Unknown\n",
        "word_index['<UNU>'] = 3  # Unused\n",
        "\n",
        "index_word = {index: word for (word, index) in word_index.items()}\n",
        "\n",
        "' '.join(index_word.get(i, '<UNK>') for i in x_train[0])"
      ]
    },
    {
      "cell_type": "markdown",
      "metadata": {
        "id": "eHa6cq0-Ym0g"
      },
      "source": [
        "Vale, esto ya es otra cosa. Ahora, vamos a por el primer problema de todos. Para obtener una entrada de longitud fija, podemos simplemente truncar las reseñas a un número fijo de palabras, digamos 64. Para las reseñas de más de 64 palabras, conservaremos sólo las primeras 64 palabras. En el caso de las opiniones de más de 64 palabras, sólo conservaremos las 64 primeras. Para las reseñas más cortas, rellenaremos los huecos de palabras no utilizadas con el valor que hayamos asignado al relleno (el 0, definido como `word_index['<PAD>']`). Para ello, implementaremos la función `pad_sequences`, imitando la que existe en Keras:"
      ]
    },
    {
      "cell_type": "code",
      "execution_count": 33,
      "metadata": {
        "colab": {
          "base_uri": "https://localhost:8080/"
        },
        "id": "losi8yV9-7x0",
        "outputId": "9deed91a-2d7d-4e19-c033-9235e663fd66"
      },
      "outputs": [
        {
          "name": "stdout",
          "output_type": "stream",
          "text": [
            "Sequence: 1, 14, 22, 16, 43, 530, 973, 1622, 1385, 65, 458, 4468, 66, 3941, 4, 173, 36, 256, 5, 25, 100, 43, 838, 112, 50, 670, 22665, 9, 35, 480, 284, 5, 150, 4, 172, 112, 167, 21631, 336, 385, 39, 4, 172, 4536, 1111, 17, 546, 38, 13, 447, 4, 192, 50, 16, 6, 147, 2025, 19, 14, 22, 4, 1920, 4613, 469\n",
            "Comment:  <SOS> this film was just brilliant casting location scenery story direction everyone's really suited the part they played and you could just imagine being there robert redford's is an amazing actor and now the same being director norman's father came from the same scottish island as myself so i loved the fact there was a real connection with this film the witty remarks throughout\n"
          ]
        }
      ],
      "source": [
        "def pad_sequences(sequences, maxlen, pad_value):\n",
        "    padded_sequences = []\n",
        "    for seq in sequences:\n",
        "        seq = list(seq)  # cast a lista porque a veces puede fallar\n",
        "        if len(seq) < maxlen:\n",
        "            seq.extend([pad_value] * (maxlen - len(seq)))  # padding post\n",
        "        else:\n",
        "            seq = seq[:maxlen]  # truncar si se pasa de maxlen\n",
        "        padded_sequences.append(seq)\n",
        "\n",
        "    return torch.tensor(padded_sequences, dtype=torch.long)\n",
        "\n",
        "pad_value = word_index['<PAD>']\n",
        "\n",
        "x_train = pad_sequences(x_train, maxlen=64, pad_value=pad_value)\n",
        "x_test = pad_sequences(x_test, maxlen=64, pad_value=pad_value)\n",
        "\n",
        "print(f\"Sequence: {', '.join(str(i) for i in x_train[0].tolist())}\")\n",
        "print(f\"Comment:  {' '.join(index_word.get(i.item(), '<UNK>') for i in x_train[0])}\")"
      ]
    },
    {
      "cell_type": "markdown",
      "metadata": {
        "id": "ayBWRSBF8K6W"
      },
      "source": [
        "Vamos a convertir las entradas a tensores para poder procesarlas con `pytorch`"
      ]
    },
    {
      "cell_type": "code",
      "execution_count": 34,
      "metadata": {
        "colab": {
          "base_uri": "https://localhost:8080/"
        },
        "id": "7zFdgFxy8NYZ",
        "outputId": "6a98540f-2255-4d23-f8a3-145c28256d33"
      },
      "outputs": [
        {
          "name": "stdout",
          "output_type": "stream",
          "text": [
            "x_train_t shape: torch.Size([25000, 64])\n",
            "y_train_t shape: torch.Size([25000])\n"
          ]
        },
        {
          "name": "stderr",
          "output_type": "stream",
          "text": [
            "/tmp/ipykernel_892/3407858178.py:1: UserWarning: To copy construct from a tensor, it is recommended to use sourceTensor.clone().detach() or sourceTensor.clone().detach().requires_grad_(True), rather than torch.tensor(sourceTensor).\n",
            "  x_train_t = torch.tensor(x_train, dtype=torch.long, device=dev)\n",
            "/tmp/ipykernel_892/3407858178.py:3: UserWarning: To copy construct from a tensor, it is recommended to use sourceTensor.clone().detach() or sourceTensor.clone().detach().requires_grad_(True), rather than torch.tensor(sourceTensor).\n",
            "  x_test_t = torch.tensor(x_test, dtype=torch.long, device=dev)\n"
          ]
        }
      ],
      "source": [
        "x_train_t = torch.tensor(x_train, dtype=torch.long, device=dev)\n",
        "y_train_t = torch.tensor(y_train, dtype=torch.float32, device=dev)\n",
        "x_test_t = torch.tensor(x_test, dtype=torch.long, device=dev)\n",
        "y_test_t = torch.tensor(y_test, dtype=torch.float32, device=dev)\n",
        "\n",
        "print(f'x_train_t shape: {x_train_t.shape}')\n",
        "print(f'y_train_t shape: {y_train_t.shape}')"
      ]
    },
    {
      "cell_type": "markdown",
      "metadata": {
        "id": "9gzVzAJ3oAPP"
      },
      "source": [
        "⚠️ Ojo!!! Si X tuviera forma de `np.ndarray`, convertirlo directamente con `torch.tensor(X)` puede generar problemas si el modelo está en GPU, ya que los tensores por defecto **se crean en CPU**. No es el caso, pero para asegurar de que todo esté en el mismo dispositivo, es mejor usar `torch.from_numpy` si X proviene de NumPy.\n"
      ]
    },
    {
      "cell_type": "markdown",
      "metadata": {
        "id": "eqBazMiVQkj1"
      },
      "source": [
        "## Usando la capa `Embedding`"
      ]
    },
    {
      "cell_type": "markdown",
      "metadata": {
        "id": "DJvwI_mU6NnR"
      },
      "source": [
        "En PyTorch, podemos trabajar con _Embeddings_ gracias a la capa `nn.Embedding`, que puede entenderse como una capa de tipo `Dense` que mapea desde índices enteros (los índices de las palabras concretas) a vectores de palabras (sus correspondientes _embeddings_).\n",
        "\n",
        "Los `Embeddings` se crean con dos parámetros;\n",
        "\n",
        "- **`num_embeddings`**: el número de palabras, indica cuántas palabras tendrá en cuenta nuestro embedding. Todas aquellas que no se encuentren en dicho _embedding_ devolverán una representación para un token «desconocido». Cuanto mayor sea este parámetro, más palabras se podrán representar, pero más memoria ocupará y, sobre todo, más parámetros habrá que entrenar.\n",
        "\n",
        "- **`embedding_dim`**: es la dimensión de los vectores resultantes. Este parámetro indica el número de características que se almacenarán para cada palabra del _embedding_. Este es el parámetro con el que más se juega cuando se crea una incrustación desde 0 para resolver un problema, del mismo modo que se experimenta con el número de neuronas de una capa `Dense`.\n",
        "\n",
        "\n",
        "Por ejemplo, vamos a crear un _embedding_ con cualquier número de palabras y dimensión."
      ]
    },
    {
      "cell_type": "code",
      "execution_count": 35,
      "metadata": {
        "id": "-OjxLVrMvWUE"
      },
      "outputs": [],
      "source": [
        "embedding_layer = nn.Embedding(\n",
        "    num_embeddings=1000,  # items maximos para encodear\n",
        "    embedding_dim=5       # numero de dimensiones que representan cada item\n",
        ")"
      ]
    },
    {
      "cell_type": "markdown",
      "metadata": {
        "id": "2dKKV1L2Rk7e"
      },
      "source": [
        "Cuando se crea una capa `Embedding`, sus pesos se inicializan aleatoriamente, como con cualquier otra capa. Y también como cualquier otra capa, dichos pesos se ajustarán gradualmente durante el entrenamiento.\n",
        "\n",
        "Una vez entrenados, cabe esperar que los vectores de palabras aprendidos codifiquen aproximadamente las similitudes entre palabras, ya que, después de todo, se aprendieron para el problema específico sobre el que se entrena el modelo.\n",
        "\n",
        "Si se pasa un número entero (es decir, el índice que representa una palabra) a una capa `Embedding`, ésta lo sustituye por su vector de palabras correspondiente:"
      ]
    },
    {
      "cell_type": "code",
      "execution_count": 36,
      "metadata": {
        "colab": {
          "base_uri": "https://localhost:8080/"
        },
        "id": "0YUjPgP7w0PO",
        "outputId": "979be557-1090-46d5-d109-35eb420ce275"
      },
      "outputs": [
        {
          "name": "stdout",
          "output_type": "stream",
          "text": [
            "[[-0.735  0.112 -0.986 -0.751 -0.551]\n",
            " [ 0.644  0.347  1.271  0.657  0.863]\n",
            " [-2.115 -0.311 -0.158  2.658 -1.34 ]\n",
            " [-1.553  1.952 -1.78  -0.746 -0.08 ]]\n"
          ]
        }
      ],
      "source": [
        "indices = torch.tensor([1, 2, 4, 8], dtype=torch.long)\n",
        "result = embedding_layer(indices)\n",
        "print(result.detach().numpy())"
      ]
    },
    {
      "cell_type": "markdown",
      "metadata": {
        "id": "O4PC4QzsxTGx"
      },
      "source": [
        "Para problemas en los que tenemos un texto en lugar de una sola palabra, podemos pasar directamente un tensor 2D, de la forma `(num_sequences, sequence_length)`. El tensor devuelto tendrá la misma forma, pero con una dimensión más que serán las dimensiones de las palabras.\n",
        "\n",
        "Por ejemplo, en el caso de pasarle una entrada bidimensional con la forma `(2, 4)` (es decir, 2 secuencias de 4 elementos cada una), el tensor devuelto tendrá un eje más con la dimensión que hayamos declarado en el _Embedding_:"
      ]
    },
    {
      "cell_type": "code",
      "execution_count": 37,
      "metadata": {
        "colab": {
          "base_uri": "https://localhost:8080/"
        },
        "id": "vwSYepRjyRGy",
        "outputId": "a9aeaa94-ebff-4167-88ab-aae6487d7a69"
      },
      "outputs": [
        {
          "name": "stdout",
          "output_type": "stream",
          "text": [
            "Result (shape = torch.Size([2, 4, 5])):\n",
            "[[[ 1.344  1.05  -0.618  0.552 -0.336]\n",
            "  [-0.735  0.112 -0.986 -0.751 -0.551]\n",
            "  [ 0.644  0.347  1.271  0.657  0.863]\n",
            "  [ 0.284 -1.549  0.529  0.332  0.99 ]]\n",
            "\n",
            " [[-2.115 -0.311 -0.158  2.658 -1.34 ]\n",
            "  [-1.043  0.638 -1.395  0.274 -0.236]\n",
            "  [ 2.326  0.081 -1.228  1.105 -1.649]\n",
            "  [-0.224 -0.106 -0.978  1.586 -0.871]]]\n"
          ]
        }
      ],
      "source": [
        "indices = torch.tensor([\n",
        "    [0, 1, 2, 3],\n",
        "    [4, 5, 6, 7]\n",
        "], dtype=torch.long)\n",
        "\n",
        "result = embedding_layer(indices)\n",
        "print(f'Result (shape = {result.shape}):\\n{result.detach().numpy()}')"
      ]
    },
    {
      "cell_type": "markdown",
      "metadata": {
        "id": "WGQp2N92yOyB"
      },
      "source": [
        "Podemos ver que si damos un _batch_ de secuencias como entrada, un _Embedding_ devuelve un tensor 3D de tipo `float`, de la forma `(num_sequences, items_per_sequence, embedding_dim)`."
      ]
    },
    {
      "cell_type": "markdown",
      "metadata": {
        "id": "zI9_wLIiWO8Z"
      },
      "source": [
        "## Entrenamiento del modelo de clasificación"
      ]
    },
    {
      "cell_type": "markdown",
      "metadata": {
        "id": "c-T11xHr_2pA"
      },
      "source": [
        "Vamos a empezar creando un `TensorDataset` para cargarlo por medio de un `DataLoader` al modelo durante el entrenamiento"
      ]
    },
    {
      "cell_type": "code",
      "execution_count": 38,
      "metadata": {
        "id": "J1I_c9_P_88F"
      },
      "outputs": [],
      "source": [
        "dataset_train = TensorDataset(x_train_t, y_train_t)\n",
        "dataloader_train = DataLoader(dataset_train, batch_size=32, shuffle=True)"
      ]
    },
    {
      "cell_type": "markdown",
      "metadata": {
        "id": "koOveb1A6NnV"
      },
      "source": [
        "Utilizaremos un modelo formado por el `Embedding` y una capa densa. Este modelo se entrenará para intentar dar respuesta a qué comentarios son negativos y cuáles positivos.\n",
        "\n",
        "Entre todos los pesos que se entrenen, estarán los del `Embedding`. Una vez finalizado el entrenamiento, nuestro `Embedding` tendrá una comprensión de las relaciones que existen entre nuestras palabras, al menos dentro de nuestro contexto de películas.\n",
        "\n",
        "El modelo que crearemos será una primera capa `Embedding` (con una dimensión de rasgo de 2 para que podamos mostrar en una gráfica la localización espacial de las palabras) y una capa de salida de tipo sigmoidal que determina si es una buena crítica o no. El resto de capas intermedias a tu gusto."
      ]
    },
    {
      "cell_type": "code",
      "execution_count": 39,
      "metadata": {
        "id": "5XanCmemAYYU"
      },
      "outputs": [],
      "source": [
        "WORDS_IN_VOCAB = len(word_index)\n",
        "EMBEDDING_DIM  = 2\n",
        "HIDDEN_DIM = 32"
      ]
    },
    {
      "cell_type": "code",
      "execution_count": 40,
      "metadata": {
        "id": "5sKGn1kTAQrX"
      },
      "outputs": [],
      "source": [
        "class LSTMModel(nn.Module):\n",
        "    def __init__(self, vocab_size, embedding_dim, hidden_dim):\n",
        "        super(LSTMModel, self).__init__()\n",
        "        self.embedding = nn.Embedding(vocab_size, embedding_dim)\n",
        "        self.lstm = nn.LSTM(embedding_dim, hidden_dim, batch_first=True)\n",
        "        self.fc = nn.Linear(hidden_dim, 1)\n",
        "        self.sigmoid = nn.Sigmoid()\n",
        "\n",
        "    def forward(self, x):\n",
        "        x = self.embedding(x)\n",
        "        x, _ = self.lstm(x)\n",
        "        x = x[:, -1, :]\n",
        "        x = self.fc(x)\n",
        "        return self.sigmoid(x)"
      ]
    },
    {
      "cell_type": "code",
      "execution_count": 41,
      "metadata": {
        "colab": {
          "base_uri": "https://localhost:8080/"
        },
        "id": "asKByYA1ARZA",
        "outputId": "8559099f-9dae-4a50-dfcf-e18a8f311f78"
      },
      "outputs": [
        {
          "name": "stdout",
          "output_type": "stream",
          "text": [
            "LSTMModel(\n",
            "  (embedding): Embedding(88588, 2)\n",
            "  (lstm): LSTM(2, 32, batch_first=True)\n",
            "  (fc): Linear(in_features=32, out_features=1, bias=True)\n",
            "  (sigmoid): Sigmoid()\n",
            ")\n"
          ]
        }
      ],
      "source": [
        "model = LSTMModel(WORDS_IN_VOCAB, EMBEDDING_DIM, HIDDEN_DIM).to(dev)\n",
        "print(model)"
      ]
    },
    {
      "cell_type": "markdown",
      "metadata": {
        "id": "lCUgdP69Wzix"
      },
      "source": [
        "Y ahora entrenamos el modelo."
      ]
    },
    {
      "cell_type": "code",
      "execution_count": 44,
      "metadata": {
        "colab": {
          "base_uri": "https://localhost:8080/"
        },
        "id": "ZRoek5ZsAdX9",
        "outputId": "3a64c51b-fe82-48d8-81ee-96bf7f535688"
      },
      "outputs": [
        {
          "name": "stdout",
          "output_type": "stream",
          "text": [
            "Epoch 1, Loss: 0.6930, Accuracy: 0.5077\n",
            "Epoch 2, Loss: 0.6861, Accuracy: 0.5468\n",
            "Epoch 3, Loss: 0.6751, Accuracy: 0.5821\n",
            "Epoch 4, Loss: 0.6763, Accuracy: 0.5817\n",
            "Epoch 5, Loss: 0.6758, Accuracy: 0.5711\n"
          ]
        }
      ],
      "source": [
        "optimizer = optim.Adam(model.parameters(), lr=0.001)\n",
        "criterion = nn.BCELoss()  # binary crossentropy, para los del fondo\n",
        "\n",
        "epochs = 5\n",
        "history = {'loss': [], 'accuracy': []}\n",
        "\n",
        "for epoch in range(epochs):\n",
        "    model.train()\n",
        "    total_loss = 0\n",
        "    correct = 0\n",
        "    total = 0\n",
        "\n",
        "    for batch in dataloader_train:\n",
        "        x_batch, y_batch = batch\n",
        "        optimizer.zero_grad()\n",
        "        y_pred = model(x_batch).squeeze()\n",
        "        loss = criterion(y_pred, y_batch)\n",
        "        loss.backward()\n",
        "        optimizer.step()\n",
        "\n",
        "        total_loss += loss.item()\n",
        "\n",
        "        # accuracy\n",
        "        predicted = (y_pred >= 0.5).float()  # redondeamos output\n",
        "        correct += (predicted == y_batch).sum().item()\n",
        "        total += y_batch.size(0)\n",
        "\n",
        "    avg_loss = total_loss / len(dataloader_train)\n",
        "    accuracy = correct / total  # binary accuracy\n",
        "\n",
        "    history['loss'].append(avg_loss)\n",
        "    history['accuracy'].append(accuracy)\n",
        "\n",
        "    print(f\"Epoch {epoch+1}, Loss: {avg_loss:.4f}, Accuracy: {accuracy:.4f}\")"
      ]
    },
    {
      "cell_type": "markdown",
      "metadata": {
        "id": "qWwPro176NnW"
      },
      "source": [
        "Veamos la evolución del entrenamiento para comprobar que el modelo está aprendiendo."
      ]
    },
    {
      "cell_type": "code",
      "execution_count": 45,
      "metadata": {
        "colab": {
          "base_uri": "https://localhost:8080/",
          "height": 636
        },
        "id": "TYJsEvRx6NnX",
        "outputId": "39a95eb5-4b82-4f86-ccb7-407834b85508"
      },
      "outputs": [
        {
          "data": {
            "image/png": "[encoded data removed]",
            "text/plain": [
              "<Figure size 1600x900 with 1 Axes>"
            ]
          },
          "metadata": {},
          "output_type": "display_data"
        }
      ],
      "source": [
        "pd.DataFrame(history).plot()\n",
        "plt.yscale('log')\n",
        "plt.xlabel('Epoch num.')\n",
        "plt.show()"
      ]
    },
    {
      "cell_type": "markdown",
      "metadata": {
        "id": "D0U6AWP86NnX"
      },
      "source": [
        "## Visualización del embedding"
      ]
    },
    {
      "cell_type": "markdown",
      "metadata": {
        "id": "KCoA6qwqP836"
      },
      "source": [
        "Para ver representado el `Embedding`, podemos acceder a la capa del modelo como atributo y llamarla para obtener su salida si le pasamos un tensor.\n",
        "\n",
        "💡 En PyTorch, los módulos (nn.Module) almacenan sus capas como atributos del modelo"
      ]
    },
    {
      "cell_type": "code",
      "execution_count": 46,
      "metadata": {
        "id": "yw2mobCpDHCg"
      },
      "outputs": [],
      "source": [
        "# hay que asegurarse de que el modelo\n",
        "# esté en el mismo dispositivo que el dataset,\n",
        "# o si no pueden producirse errores\n",
        "model = model.to(dev)"
      ]
    },
    {
      "cell_type": "markdown",
      "metadata": {
        "id": "GK5pFlj36NnY"
      },
      "source": [
        "Utilizaremos este resultado para obtener la distribución de los vectores de palabras del conjunto de prueba."
      ]
    },
    {
      "cell_type": "code",
      "execution_count": 54,
      "metadata": {
        "id": "WhxbK_jn6NnY"
      },
      "outputs": [],
      "source": [
        "input_tensor = x_test[0].clone().detach().unsqueeze(0).to(dev)    # clona el tensor y desconecta los gradientes"
      ]
    },
    {
      "cell_type": "code",
      "execution_count": 56,
      "metadata": {
        "colab": {
          "base_uri": "https://localhost:8080/"
        },
        "id": "61q7ku7-naAp",
        "outputId": "1a39ca54-e10d-48a2-b6d4-2a8a7960b07f"
      },
      "outputs": [
        {
          "name": "stdout",
          "output_type": "stream",
          "text": [
            "Input shape:  torch.Size([64])\n",
            "Output shape: torch.Size([1, 64, 2])\n"
          ]
        }
      ],
      "source": [
        "# forward pass para conseguir la salida de la capam de embedding\n",
        "embedding_layer = model.embedding     # la capa en cuestion\n",
        "embedding_out = embedding_layer(input_tensor)\n",
        "\n",
        "print(f'Input shape:  {x_test[0].shape}')\n",
        "print(f'Output shape: {embedding_out.shape}')"
      ]
    },
    {
      "cell_type": "markdown",
      "metadata": {
        "id": "q2YFqQ6m6NnY"
      },
      "source": [
        "Podemos observar que, dada una secuencia, la salida `output` es una lista de un único tensor con la secuencia de salida"
      ]
    },
    {
      "cell_type": "code",
      "execution_count": 57,
      "metadata": {
        "colab": {
          "base_uri": "https://localhost:8080/",
          "height": 634
        },
        "id": "DuJFaoMh6NnZ",
        "outputId": "2a0206e3-327b-4e17-9713-6f993fbedfb9"
      },
      "outputs": [
        {
          "data": {
            "image/png": "[encoded data removed]",
            "text/plain": [
              "<Figure size 1600x900 with 1 Axes>"
            ]
          },
          "metadata": {},
          "output_type": "display_data"
        }
      ],
      "source": [
        "# sacamos embeddings de la reseña (similar a output[0] en TensorFlow)\n",
        "# de nuevo, detatch para desconectar de los gradientes\n",
        "# (estamos en inferencia)\n",
        "sentence_words = embedding_out.squeeze(0).cpu().detach().numpy()\n",
        "\n",
        "# y podemos mostrar los embeddings\n",
        "plt.scatter(sentence_words[:, 0], sentence_words[:, 1])\n",
        "plt.show()"
      ]
    },
    {
      "cell_type": "markdown",
      "metadata": {
        "id": "rglfifdc6NnZ"
      },
      "source": [
        "Echemos un ojo a los vectores de los pesos asociados a determinadas palabras"
      ]
    },
    {
      "cell_type": "code",
      "execution_count": 58,
      "metadata": {
        "colab": {
          "base_uri": "https://localhost:8080/",
          "height": 175
        },
        "id": "ys02-58L6NnZ",
        "outputId": "057e7a1b-827c-4c07-fc51-6df76312a2fa"
      },
      "outputs": [
        {
          "data": {
            "text/html": [
              "<div>\n",
              "<style scoped>\n",
              "    .dataframe tbody tr th:only-of-type {\n",
              "        vertical-align: middle;\n",
              "    }\n",
              "\n",
              "    .dataframe tbody tr th {\n",
              "        vertical-align: top;\n",
              "    }\n",
              "\n",
              "    .dataframe thead th {\n",
              "        text-align: right;\n",
              "    }\n",
              "</style>\n",
              "<table border=\"1\" class=\"dataframe\">\n",
              "  <thead>\n",
              "    <tr style=\"text-align: right;\">\n",
              "      <th></th>\n",
              "      <th>0</th>\n",
              "      <th>1</th>\n",
              "    </tr>\n",
              "  </thead>\n",
              "  <tbody>\n",
              "    <tr>\n",
              "      <th>cage</th>\n",
              "      <td>-1.791626</td>\n",
              "      <td>-0.240279</td>\n",
              "    </tr>\n",
              "    <tr>\n",
              "      <th>horrible</th>\n",
              "      <td>-1.161052</td>\n",
              "      <td>0.430727</td>\n",
              "    </tr>\n",
              "    <tr>\n",
              "      <th>seagal</th>\n",
              "      <td>0.742767</td>\n",
              "      <td>0.112647</td>\n",
              "    </tr>\n",
              "    <tr>\n",
              "      <th>pascal</th>\n",
              "      <td>0.932738</td>\n",
              "      <td>-0.045518</td>\n",
              "    </tr>\n",
              "  </tbody>\n",
              "</table>\n",
              "</div>"
            ],
            "text/plain": [
              "                 0         1\n",
              "cage     -1.791626 -0.240279\n",
              "horrible -1.161052  0.430727\n",
              "seagal    0.742767  0.112647\n",
              "pascal    0.932738 -0.045518"
            ]
          },
          "execution_count": 58,
          "metadata": {},
          "output_type": "execute_result"
        }
      ],
      "source": [
        "weights = embedding_layer.weight.cpu().detach().numpy()\n",
        "df = pd.DataFrame(weights, index=index_word.values())\n",
        "\n",
        "df.loc[['cage', 'horrible', 'seagal', 'pascal'], :].head()"
      ]
    },
    {
      "cell_type": "markdown",
      "metadata": {
        "id": "J8MiCA77X8B8"
      },
      "source": [
        "Vamos a probar una cosa. Crearemos una reseña ficticia y veremos cómo se distribuyen las palabras en el espacio bidimensional que hemos creado."
      ]
    },
    {
      "cell_type": "code",
      "execution_count": 60,
      "metadata": {
        "colab": {
          "base_uri": "https://localhost:8080/"
        },
        "id": "GsjempweP9Lq",
        "outputId": "9bace693-b2a8-4c08-8963-f84fea7c0d70"
      },
      "outputs": [
        {
          "data": {
            "text/plain": [
              "tensor([1935, 5983, 3272,    2,   52, 2661,   78,  595, 6475], device='cuda:0')"
            ]
          },
          "execution_count": 60,
          "metadata": {},
          "output_type": "execute_result"
        }
      ],
      "source": [
        "review = ['cage', 'reeves', 'seagal', 'cavill', 'good', 'matrix', 'bad', 'crap', 'affleck']\n",
        "encoded_review = torch.tensor([word_index.get(w, word_index['<UNK>']) for w in review]).to(dev)\n",
        "\n",
        "encoded_review"
      ]
    },
    {
      "cell_type": "markdown",
      "metadata": {
        "id": "CWRX9Kp_6Nna"
      },
      "source": [
        "Ahora veamos la salida de `Embedding` si le damos a revisar:"
      ]
    },
    {
      "cell_type": "code",
      "execution_count": 61,
      "metadata": {
        "colab": {
          "base_uri": "https://localhost:8080/",
          "height": 627
        },
        "id": "ZRAoe7Md6Nna",
        "outputId": "19c1a76c-2375-4d07-ff85-10ad9ddff503"
      },
      "outputs": [
        {
          "data": {
            "image/png": "[encoded data removed]",
            "text/plain": [
              "<Figure size 1600x900 with 1 Axes>"
            ]
          },
          "metadata": {},
          "output_type": "display_data"
        }
      ],
      "source": [
        "v_words = embedding_layer(encoded_review).cpu().detach().numpy()\n",
        "\n",
        "plt.scatter(v_words[:, 0], v_words[:, 1])\n",
        "for i, word in enumerate(review):\n",
        "    plt.text(v_words[i, 0], v_words[i, 1], word)\n",
        "plt.show()"
      ]
    },
    {
      "cell_type": "code",
      "execution_count": 62,
      "metadata": {
        "colab": {
          "base_uri": "https://localhost:8080/"
        },
        "id": "Qe_eD06w6Nnc",
        "outputId": "c5ecaada-62ec-43be-e212-7e2ae11c501b"
      },
      "outputs": [
        {
          "name": "stdout",
          "output_type": "stream",
          "text": [
            "tensor([[0.6935]], device='cuda:0')\n"
          ]
        }
      ],
      "source": [
        "maxlen = 64\n",
        "encoded_review_padded = torch.nn.functional.pad(encoded_review, (0, maxlen - len(encoded_review)), value=word_index['<PAD>'])\n",
        "\n",
        "\n",
        "model.eval()\n",
        "with torch.no_grad():\n",
        "    output = model(encoded_review_padded.unsqueeze(0))  # batch dimension\n",
        "    print(output)"
      ]
    },
    {
      "cell_type": "markdown",
      "metadata": {
        "id": "qt-PW7iq6Nnc"
      },
      "source": [
        "Vemos que, en principio, nuestro `embedding` ha localizado espacialmente las palabras que están más relacionadas. De este modo, podemos identificar qué actores están más cerca de qué calificadores en función de su proximidad a ellos"
      ]
    },
    {
      "cell_type": "markdown",
      "metadata": {
        "id": "RJZimnCEELp9"
      },
      "source": [
        "# Conclusiones"
      ]
    },
    {
      "cell_type": "markdown",
      "metadata": {
        "id": "KsD6j3ELENBY"
      },
      "source": [
        "Hemos creado una incrustación a partir de ciertos datos y demostrado cómo puede crear una representación en un espacio vectorial de las palabras incluidas en ella. Esta representación permite agrupar en el espacio vectorial palabras que tienen significados similares, lo que puede ser útil para tareas de análisis de textos como la clasificación de documentos o la búsqueda de información. También hemos mostrado cómo la incrustación puede utilizarse para realizar tareas como la identificación de palabras desconocidas y la detección de palabras mal escritas.\n",
        "\n",
        "En general, el uso de incrustaciones para representar datos de texto es una técnica valiosa en el aprendizaje automático y el procesamiento del lenguaje natural. Permiten representar las palabras de forma más significativa en un espacio vectorial, lo que facilita la identificación de patrones y la realización de tareas de clasificación y predicción. Además, su capacidad para agrupar palabras similares en un espacio vectorial puede mejorar significativamente la precisión y la eficacia de los modelos de análisis de texto."
      ]
    },
    {
      "cell_type": "markdown",
      "metadata": {
        "id": "ty19qhkWEOo_"
      },
      "source": [
        "***\n",
        "\n",
        "<div><img style=\"float: right; width: 120px; vertical-align:top\" src=\"https://mirrors.creativecommons.org/presskit/buttons/88x31/png/by-nc-sa.png\" alt=\"Creative Commons by-nc-sa logo\" />\n",
        "\n",
        "[Volver al inicio](#top)\n",
        "\n",
        "</div>"
      ]
    }
  ],
  "metadata": {
    "accelerator": "GPU",
    "colab": {
      "provenance": []
    },
    "kernelspec": {
      "display_name": "Python 3",
      "language": "python",
      "name": "python3"
    },
    "language_info": {
      "codemirror_mode": {
        "name": "ipython",
        "version": 3
      },
      "file_extension": ".py",
      "mimetype": "text/x-python",
      "name": "python",
      "nbconvert_exporter": "python",
      "pygments_lexer": "ipython3",
      "version": "3.10.16"
    }
  },
  "nbformat": 4,
  "nbformat_minor": 0
}
