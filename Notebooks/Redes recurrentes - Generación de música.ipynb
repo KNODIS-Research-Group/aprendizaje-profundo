{
 "cells": [
  {
   "cell_type": "markdown",
   "metadata": {
    "slideshow": {
     "slide_type": "slide"
    }
   },
   "source": [
    "<div><img style=\"float: right; width: 120px; vertical-align:middle\" src=\"https://www.upm.es/sfs/Rectorado/Gabinete%20del%20Rector/Logos/EU_Informatica/ETSI%20SIST_INFORM_COLOR.png\" alt=\"ETSISI logo\" />\n",
    "\n",
    "# Generando música<a id=\"top\"></a>\n",
    "\n",
    "<i>Última actualización: 2025-03-05</small></i></div>\n",
    "***"
   ]
  },
  {
   "cell_type": "markdown",
   "metadata": {},
   "source": [
    "## Introducción"
   ]
  },
  {
   "cell_type": "markdown",
   "metadata": {
    "slideshow": {
     "slide_type": "slide"
    }
   },
   "source": [
    "En este _notebook_ vamos a crear un modelo que aprenderá a «tocar música». El entrecomillado es porque, para tocar música bien, se necesitan modelos y técnicas muy complejas que quedan un poco fuera del alcance de un tutorial como este.\n",
    "\n",
    "Sin embargo, en este ejercicio tocaremos los fundamentos de la generación basada en notas y acordes y, junto con los modelos que veremos más adelante en este tema más conceptos como redes bidireccionales e incrustaciones de la parte de procesamiento del lenguaje natural podremos generar música con un poco más de sentido."
   ]
  },
  {
   "cell_type": "markdown",
   "metadata": {},
   "source": [
    "## Objetivos"
   ]
  },
  {
   "cell_type": "markdown",
   "metadata": {},
   "source": [
    "Crearemos un modelo de predicción de notas basado en una secuencia de notas anteriores. Al final habremos aprendido a:\n",
    "\n",
    "- Leer y escribir ficheros midi,\n",
    "- Generar secuencias siguiendo una tipología de red recurrente _one-to-many_, y\n",
    "- Guardar modelos entrenados en disco para entrenarlos en diferentes momentos."
   ]
  },
  {
   "cell_type": "markdown",
   "metadata": {},
   "source": [
    "## Bibliotecas y configuración"
   ]
  },
  {
   "cell_type": "markdown",
   "metadata": {
    "slideshow": {
     "slide_type": "slide"
    }
   },
   "source": [
    "A continuación importaremos las librerías que se utilizarán a lo largo del _notebook_."
   ]
  },
  {
   "cell_type": "code",
   "execution_count": 54,
   "metadata": {
    "slideshow": {
     "slide_type": "fragment"
    }
   },
   "outputs": [],
   "source": [
    "import glob\n",
    "import os\n",
    "import pathlib\n",
    "\n",
    "import matplotlib.pyplot as plt\n",
    "import music21\n",
    "import numpy as np\n",
    "import pandas as pd\n",
    "import sklearn\n",
    "import torch\n",
    "import torchmetrics\n",
    "\n",
    "import utils"
   ]
  },
  {
   "cell_type": "markdown",
   "metadata": {},
   "source": [
    "También vamos a configurar algunos parámetros para adaptar la presentación grafica."
   ]
  },
  {
   "cell_type": "code",
   "execution_count": 55,
   "metadata": {},
   "outputs": [],
   "source": [
    "plt.style.use('ggplot')\n",
    "plt.rcParams.update({'figure.figsize': (20, 6),'figure.dpi': 64})"
   ]
  },
  {
   "cell_type": "markdown",
   "metadata": {},
   "source": [
    "Crearemos los directorios necesarios para almacenar los ficheros de datos y los modelos generados."
   ]
  },
  {
   "cell_type": "code",
   "execution_count": 56,
   "metadata": {},
   "outputs": [],
   "source": [
    "MODELS_DIR = pathlib.Path('Models')\n",
    "\n",
    "os.makedirs('tmp', exist_ok=True)\n",
    "os.makedirs(MODELS_DIR, exist_ok=True)"
   ]
  },
  {
   "cell_type": "markdown",
   "metadata": {},
   "source": [
    "Y terminamos con constantes que se utilizarán a lo largo del _notebook_."
   ]
  },
  {
   "cell_type": "code",
   "execution_count": 58,
   "metadata": {},
   "outputs": [],
   "source": [
    "BATCH_SIZE = 8192\n",
    "TRAIN_EPOCHS = 25\n",
    "SEQUENCE_LEN = 24\n",
    "\n",
    "SAVE_MODEL = True\n",
    "LOAD_MODEL = True\n",
    "MODEL_PATH = MODELS_DIR / 'music_generator.pt'"
   ]
  },
  {
   "cell_type": "markdown",
   "metadata": {},
   "source": [
    "***"
   ]
  },
  {
   "cell_type": "markdown",
   "metadata": {},
   "source": [
    "## Carga y preparación de datos"
   ]
  },
  {
   "cell_type": "markdown",
   "metadata": {},
   "source": [
    "Empezaremos cargando todas las notas de los archivos `.mid` ubicados en la ruta relativa `datasets/Music`. Estas notas se almacenarán en una lista llamada `notes`. Algunos detalles de implementación:\n",
    "\n",
    "- Para parsear un fichero midi utilizaremos la función `parse(file)` del módulo `converter` de la librería `music21`,\n",
    "- Las notas que queremos obtener están en el atributo `.flat.notes` del midi analizado. Sin embargo, tenemos que tener en cuenta que contiene dos tipos de datos:\n",
    "  - Notas normales, que son del tipo `note.Note`. Si la nota es `note`, almacenaremos directamente en la lista de notas la representación en cadena de `note.pitch`.\n",
    "  - Acordes, que son del tipo `chord.Chord`. Son una lista de notas, y lo que almacenaremos será la lista de sus notas (si el acorde es `chord`, la lista será `chord.normalOrder`) como una cadena de texto donde cada nota irá separada por un punto (`'.'`).\n",
    "\n",
    "Esto no es por capricho; es una forma de representar las notas que facilitará la conversión posterior de las notas generadas en una nueva pista de audio."
   ]
  },
  {
   "cell_type": "code",
   "execution_count": 5,
   "metadata": {},
   "outputs": [
    {
     "name": "stdout",
     "output_type": "stream",
     "text": [
      "Parsing ../Datasets/music/doom/DOOM1_e1m6.mid\n",
      "Parsing ../Datasets/music/doom/DOOM1_e1m1.mid\n"
     ]
    },
    {
     "name": "stderr",
     "output_type": "stream",
     "text": [
      "/home/blazaid/Projects/aprendizaje-profundo/.venv/lib/python3.12/site-packages/music21/stream/base.py:3675: Music21DeprecationWarning: .flat is deprecated.  Call .flatten() instead\n",
      "  return self.iter().getElementsByClass(classFilterList)\n"
     ]
    },
    {
     "name": "stdout",
     "output_type": "stream",
     "text": [
      "Parsing ../Datasets/music/doom/DOOM_2_MAP02.mid\n",
      "Parsing ../Datasets/music/doom/DOOM_2_MAP10.mid\n",
      "Parsing ../Datasets/music/doom/DOOM_2_READ_M.mid\n",
      "Parsing ../Datasets/music/doom/DOOM1_e3m9.mid\n",
      "Parsing ../Datasets/music/doom/DOOM_2_MAP25.mid\n",
      "Parsing ../Datasets/music/doom/DOOM1_e2m2.mid\n",
      "Parsing ../Datasets/music/doom/DOOM1_e1m2.mid\n",
      "Parsing ../Datasets/music/doom/DOOM1_e3m3.mid\n",
      "Parsing ../Datasets/music/doom/DOOM_2_MAP23.mid\n",
      "Parsing ../Datasets/music/doom/DOOM_2_MAP32.mid\n",
      "Parsing ../Datasets/music/doom/DOOM1_e2m9.mid\n",
      "Parsing ../Datasets/music/doom/DOOM_2_MAP08.mid\n",
      "Parsing ../Datasets/music/doom/DOOM1_e2m1.mid\n",
      "Parsing ../Datasets/music/doom/DOOM1_bunny.mid\n",
      "Parsing ../Datasets/music/doom/DOOM_2_DM2TTL.mid\n",
      "Parsing ../Datasets/music/doom/DOOM_2_MAP04.mid\n",
      "Parsing ../Datasets/music/doom/DOOM1_e3m5.mid\n",
      "Parsing ../Datasets/music/doom/DOOM1_e1m9.mid\n",
      "Parsing ../Datasets/music/doom/DOOM_2_DM2IN.mid\n",
      "Parsing ../Datasets/music/doom/DOOM1_e3m1.mid\n",
      "Parsing ../Datasets/music/doom/DOOM_2_MAP18.mid\n",
      "Parsing ../Datasets/music/doom/DOOM1_e2m6.mid\n",
      "Parsing ../Datasets/music/doom/DOOM1_e1m7.mid\n",
      "Parsing ../Datasets/music/doom/DOOM_2_MAP03.mid\n",
      "Parsing ../Datasets/music/doom/DOOM1_e3m6.mid\n",
      "Parsing ../Datasets/music/doom/DOOM1_e2m7.mid\n",
      "Parsing ../Datasets/music/doom/DOOM1_e3m7.mid\n",
      "Parsing ../Datasets/music/doom/DOOM1_victor.mid\n",
      "Parsing ../Datasets/music/doom/DOOM1_e2m5.mid\n",
      "Parsing ../Datasets/music/doom/DOOM1_e1m5.mid\n",
      "Parsing ../Datasets/music/doom/DOOM1_e3m8.mid\n",
      "Parsing ../Datasets/music/doom/DOOM1_intro.mid\n",
      "Parsing ../Datasets/music/doom/DOOM_2_MAP28.mid\n",
      "Parsing ../Datasets/music/doom/DOOM1_e2m8.mid\n",
      "Parsing ../Datasets/music/doom/DOOM_2_MAP30.mid\n",
      "Parsing ../Datasets/music/doom/DOOM_2_MAP09.mid\n",
      "Parsing ../Datasets/music/doom/DOOM1_e3m2.mid\n",
      "Parsing ../Datasets/music/doom/DOOM_2_MAP20.mid\n",
      "Parsing ../Datasets/music/doom/DOOM_2_MAP31.mid\n",
      "Parsing ../Datasets/music/doom/DOOM1_e1m3.mid\n",
      "Parsing ../Datasets/music/doom/DOOM_2_MAP01.mid\n",
      "Parsing ../Datasets/music/doom/DOOM1_e3m4.mid\n",
      "Parsing ../Datasets/music/doom/DOOM1_e2m4.mid\n",
      "Parsing ../Datasets/music/doom/DOOM1_inter.mid\n",
      "Parsing ../Datasets/music/doom/DOOM_2_MAP07.mid\n",
      "Parsing ../Datasets/music/doom/DOOM1_e1m8.mid\n",
      "Parsing ../Datasets/music/doom/DOOM1_e2m3.mid\n",
      "Parsing ../Datasets/music/doom/DOOM1_e1m4.mid\n",
      "Parsing ../Datasets/music/doom/DOOM_2_MAP05.mid\n",
      "Parsing ../Datasets/music/doom/DOOM_2_MAP06.mid\n",
      "Some notes: ['11.4.5', 'E2', 'B5', 'C6', 'B5', 'C6', 'E2', 'B5', 'C6', 'B5']\n"
     ]
    }
   ],
   "source": [
    "midi_files = glob.glob(\"../Datasets/music/doom/*.mid\")\n",
    "\n",
    "notes = []  # Almacenará todas las notas y acordes de los ficheros\n",
    "for file in midi_files:\n",
    "    print(f'Parsing {file}')\n",
    "\n",
    "    midi = music21.converter.parse(file)\n",
    "    \n",
    "    for note_or_chord in midi.flat.notes:\n",
    "        if isinstance(note_or_chord, music21.note.Note):\n",
    "            notes.append(str(note_or_chord.pitch))\n",
    "        elif isinstance(note_or_chord, music21.chord.Chord):\n",
    "            notes.append('.'.join(str(n) for n in note_or_chord.normalOrder))\n",
    "    \n",
    "    notes.append('EOS')  # Añadimos un token de fin de canción\n",
    "\n",
    "print(f\"Some notes: {notes[:10]}\")"
   ]
  },
  {
   "cell_type": "markdown",
   "metadata": {},
   "source": [
    "Nuestro siguiente paso será crear dos diccionarios: `note_to_idx` y `idx_to_note`. Ellos se encargarán de indexar las notas desde el índice $0$ al número total de notas únicas, ya que nos será útil tanto para codificar las notas tanto en la entrada como en la salida de nuestro modelo."
   ]
  },
  {
   "cell_type": "code",
   "execution_count": 34,
   "metadata": {},
   "outputs": [],
   "source": [
    "unique_notes = sorted(set(notes))\n",
    "note_to_idx = {note: idx for idx, note in enumerate(unique_notes)}\n",
    "idx_to_note = {idx: note for note, idx in note_to_idx.items()}"
   ]
  },
  {
   "cell_type": "markdown",
   "metadata": {},
   "source": [
    "Lo siguiente será codificar las notas. Para no hacer la conversión típica _one hot_, lo que vamos a hacer es crear una capa que asignará a cada nota un número de pesos. Esos pesos serán parámetros a ajustar, de manera que el modelo encontrará la mejor combinación de pesos (identificará características interesantes, por lo menos desde el punto de vista de la máquina) para resolver el problema.\n",
    "\n",
    "Crearemos una capa que realizará esta codificación. Esto es exactamente un _embedding_, que si no lo conocéis no hay problema porque lo veremos dentro de poco. Esta capa recibirá un tensor de dimensiones $B \\times L$, siendo $B$ el tamaño del _batch_ y $L$ la longitud de secuencia, y devolverá la codificación en un tensor de la forma $B \\times L \\times F$, siendo $F$ el número de características con las que se codifica cada nota. Estas dimensiones son las necesarias para alimentar un modelo recurrente."
   ]
  },
  {
   "cell_type": "code",
   "execution_count": 17,
   "metadata": {},
   "outputs": [
    {
     "name": "stdout",
     "output_type": "stream",
     "text": [
      "Encoded sequence: [[[ 0.44708705  0.27785552  0.20329714]\n",
      "  [-0.41827226  0.05477488 -0.21946985]\n",
      "  [-0.04739124  0.3627839   0.41746086]\n",
      "  [-0.22089374  0.3347683   0.45469743]\n",
      "  [ 0.46746898 -0.4221341   0.40466452]]]\n",
      "Encoded sequence shape: torch.Size([1, 5, 3])\n"
     ]
    }
   ],
   "source": [
    "class EncodeLayer(torch.nn.Module):\n",
    "    def __init__(self, n_notes, n_features):\n",
    "        super().__init__()\n",
    "        \n",
    "        self.n_notes = n_notes\n",
    "        self.n_features = n_features\n",
    "\n",
    "        self.weights = torch.nn.Parameter(torch.Tensor(n_notes, n_features))\n",
    "        torch.nn.init.uniform_(self.weights, -0.5, 0.5)\n",
    "\n",
    "    def forward(self, x):\n",
    "        if not torch.is_tensor(x):\n",
    "            x = torch.tensor(x, dtype=torch.long, device=self.weights.device)\n",
    "        else:\n",
    "            x = x.to(torch.long)\n",
    "        \n",
    "        return self.weights[x]\n",
    "\n",
    "notes_encoder = EncodeLayer(len(unique_notes), n_features=3)\n",
    "encoded_notes = notes_encoder([\n",
    "    [0, 1, 2, 3, 4],\n",
    "])\n",
    "print(f\"Encoded sequence: {encoded_notes.detach().numpy()}\")\n",
    "print(f\"Encoded sequence shape: {encoded_notes.shape}\")"
   ]
  },
  {
   "cell_type": "markdown",
   "metadata": {},
   "source": [
    "Continuamos con la preparación de los conjuntos de datos. En `notas` tenemos la lista ordenada de notas. Se espera que las notas estén determinadas por la secuencia anterior. Por facilitar la implementación, no hemos creado un nuevo token para indicar que una canción ha terminado, por lo que habrá ciertas pausas que no se correspondan con un compás real. Si te apetece modificarlo, ¡adelante!\n",
    "\n",
    "Lo que crearemos ahora será el conjunto de entrenamiento, las variables `x_train` y `y_train`. `y_train` estará formado por las secuencias de entrada, que tendrán una longitud de 50 (la variable SEQUENCE_LEN, ya creada), mientras que `y_train` tendrá la nota correspondiente a continuación de esa secuencia. Construiremos este conjunto a partir de la lista `notas`."
   ]
  },
  {
   "cell_type": "code",
   "execution_count": 9,
   "metadata": {},
   "outputs": [
    {
     "name": "stdout",
     "output_type": "stream",
     "text": [
      "[ 35 159 129 141 129 141 159 129 141 129 141 159 129 141 129  35 141 159\n",
      " 129 141 159 129 141 159] -> 129\n",
      "X data shape: (87263, 24)\n",
      "Y data shape: (87263,)\n"
     ]
    }
   ],
   "source": [
    "current_song = []\n",
    "x_data, y_data = [], []\n",
    "for note in notes:\n",
    "    current_song.append(note)\n",
    "    if note == \"EOS\":  # Fin de canción, así que procesamos la secuencia\n",
    "        if len(current_song) > SEQUENCE_LEN:  # Si hay suficientes notas\n",
    "            for i in range(len(current_song) - SEQUENCE_LEN):\n",
    "                sequence = current_song[i:i + SEQUENCE_LEN]\n",
    "                next_note = current_song[i + SEQUENCE_LEN]\n",
    "                x_data.append([note_to_idx[note] for note in sequence])\n",
    "                y_data.append(note_to_idx[next_note])\n",
    "        current_song = []\n",
    "\n",
    "x_data = np.array(x_data)\n",
    "y_data = np.array(y_data)\n",
    "\n",
    "print(f'{x_data[0]} -> {y_data[0]}')\n",
    "print(f\"X data shape: {x_data.shape}\")\n",
    "print(f\"Y data shape: {y_data.shape}\")"
   ]
  },
  {
   "cell_type": "markdown",
   "metadata": {},
   "source": [
    "Por último crearemos un Dataset para este conjunto de datos y su `DataLoader` correspondiente."
   ]
  },
  {
   "cell_type": "code",
   "execution_count": 10,
   "metadata": {},
   "outputs": [],
   "source": [
    "class MusicDataset(torch.utils.data.Dataset):\n",
    "    def __init__(self, x, y):\n",
    "        self.x = x\n",
    "        self.y = y\n",
    "    \n",
    "    def __len__(self):\n",
    "        return len(self.x)\n",
    "    \n",
    "    def __getitem__(self, idx):\n",
    "        return (\n",
    "            torch.tensor(self.x[idx], dtype=torch.long),\n",
    "            torch.tensor(self.y[idx], dtype=torch.long),\n",
    "        )\n",
    "\n",
    "dataset = MusicDataset(x_data, y_data)\n",
    "data_loader = torch.utils.data.DataLoader(\n",
    "    dataset=dataset,\n",
    "    batch_size=BATCH_SIZE,\n",
    ")"
   ]
  },
  {
   "cell_type": "markdown",
   "metadata": {},
   "source": [
    "Y con los conjuntos creados y listos para entrenar, pasamos a trabajar con el modelo."
   ]
  },
  {
   "cell_type": "markdown",
   "metadata": {
    "slideshow": {
     "slide_type": "fragment"
    }
   },
   "source": [
    "## Implementando y entrenando el modelo"
   ]
  },
  {
   "cell_type": "markdown",
   "metadata": {
    "slideshow": {
     "slide_type": "slide"
    }
   },
   "source": [
    "Ahora crearemos un modelo para que aprenda a predecir la siguiente nota dada una secuencia de notas."
   ]
  },
  {
   "cell_type": "code",
   "execution_count": 11,
   "metadata": {},
   "outputs": [],
   "source": [
    "class MusicGeneratorModel(torch.nn.Module):\n",
    "    def __init__(\n",
    "        self,\n",
    "        hidden_size,\n",
    "        num_layers,\n",
    "        n_outputs,\n",
    "        n_features_per_note=2,\n",
    "        dropout=0.2,\n",
    "        *args,\n",
    "        **kwargs,\n",
    "    ):\n",
    "        super().__init__(*args, **kwargs)\n",
    "\n",
    "        self.num_classes = n_outputs\n",
    "\n",
    "        self.encode_layer = EncodeLayer(self.num_classes, n_features_per_note)\n",
    "        self.rnn_layers = torch.nn.ModuleList()\n",
    "        self.dpo_layers = torch.nn.ModuleList()\n",
    "\n",
    "        for i in range(num_layers):\n",
    "            in_size = n_features_per_note if i == 0 else hidden_size\n",
    "            self.rnn_layers.append(\n",
    "                torch.nn.GRU(in_size, hidden_size, batch_first=True)\n",
    "            )\n",
    "            self.dpo_layers.append(torch.nn.Dropout(dropout))\n",
    "        \n",
    "        self.fc = torch.nn.Linear(hidden_size, self.num_classes)\n",
    "    \n",
    "    def forward(self, x):\n",
    "        x = self.encode_layer(x)\n",
    "        for gru, dropout in zip(self.rnn_layers, self.dpo_layers):\n",
    "            x, _ = gru(x)\n",
    "            x = dropout(x)\n",
    "        x = x[:, -1, :]\n",
    "        logits = self.fc(x)\n",
    "        return logits\n",
    "\n",
    "music_generator = MusicGeneratorModel(\n",
    "    n_outputs=len(unique_notes),\n",
    "    hidden_size=128,\n",
    "    num_layers=3,\n",
    "    dropout=0.2,\n",
    ")\n",
    "if LOAD_MODEL and MODEL_PATH.exists():\n",
    "    music_generator.load_state_dict(torch.load(MODEL_PATH, weights_only=True))"
   ]
  },
  {
   "cell_type": "markdown",
   "metadata": {},
   "source": [
    "Ahora entrenaremos el modelo con nuestro conjunto de datos durante 25 épocas; no son muchas, pero la carga computacional derivada del entrenamiento de este tipo de modelos es bastante pesada."
   ]
  },
  {
   "cell_type": "code",
   "execution_count": 59,
   "metadata": {},
   "outputs": [
    {
     "name": "stdout",
     "output_type": "stream",
     "text": [
      "Epoch 1/25 (28.16s), Train loss: 3.3139, Train metric: 0.0730\n",
      "Epoch 2/25 (27.09s), Train loss: 3.2474, Train metric: 0.0762\n",
      "Epoch 3/25 (28.41s), Train loss: 3.2425, Train metric: 0.0763\n",
      "Epoch 4/25 (28.68s), Train loss: 3.2109, Train metric: 0.0779\n",
      "Epoch 5/25 (27.33s), Train loss: 3.1909, Train metric: 0.0809\n",
      "Epoch 6/25 (31.77s), Train loss: 3.1708, Train metric: 0.0844\n",
      "Epoch 7/25 (30.76s), Train loss: 3.1556, Train metric: 0.0842\n",
      "Epoch 8/25 (32.73s), Train loss: 3.1399, Train metric: 0.0876\n",
      "Epoch 9/25 (30.06s), Train loss: 3.1237, Train metric: 0.0880\n",
      "Epoch 10/25 (28.88s), Train loss: 3.1130, Train metric: 0.0888\n",
      "Epoch 11/25 (29.08s), Train loss: 3.0996, Train metric: 0.0920\n",
      "Epoch 12/25 (28.63s), Train loss: 3.0870, Train metric: 0.0915\n",
      "Epoch 13/25 (28.17s), Train loss: 3.0742, Train metric: 0.0940\n",
      "Epoch 14/25 (28.01s), Train loss: 3.0660, Train metric: 0.0938\n",
      "Epoch 15/25 (29.14s), Train loss: 3.0565, Train metric: 0.0954\n",
      "Epoch 16/25 (28.83s), Train loss: 3.0512, Train metric: 0.0930\n",
      "Epoch 17/25 (27.79s), Train loss: 3.0346, Train metric: 0.0965\n",
      "Epoch 18/25 (26.99s), Train loss: 3.0197, Train metric: 0.1102\n",
      "Epoch 19/25 (26.73s), Train loss: 3.0025, Train metric: 0.1013\n",
      "Epoch 20/25 (27.20s), Train loss: 2.9993, Train metric: 0.0992\n",
      "Epoch 21/25 (27.45s), Train loss: 2.9849, Train metric: 0.1052\n",
      "Epoch 22/25 (26.92s), Train loss: 2.9664, Train metric: 0.1091\n",
      "Epoch 23/25 (27.02s), Train loss: 2.9615, Train metric: 0.1063\n",
      "Epoch 24/25 (26.90s), Train loss: 2.9430, Train metric: 0.1089\n",
      "Epoch 25/25 (27.17s), Train loss: 2.9263, Train metric: 0.1168\n"
     ]
    }
   ],
   "source": [
    "history = utils.train(\n",
    "    model=music_generator,\n",
    "    train_loader=data_loader,\n",
    "    n_epochs=TRAIN_EPOCHS,\n",
    "    criterion=torch.nn.CrossEntropyLoss(),\n",
    "    optimizer=torch.optim.Adam(music_generator.parameters()),\n",
    "    metric_fn=torchmetrics.classification.MulticlassAccuracy(num_classes=music_generator.num_classes),\n",
    ")\n",
    "if SAVE_MODEL:\n",
    "    torch.save(music_generator.state_dict(), MODEL_PATH)"
   ]
  },
  {
   "cell_type": "markdown",
   "metadata": {},
   "source": [
    "Antes de ver la evolución del error, podríamos modificar la creación del modelo para que cargue el mejor punto de control si existe y si queremos (mediante una variable, por ejemplo `LOAD_PREVIOUS`).\n",
    "\n",
    "Ahora, veamos cómo han evolucionado error y exactitud."
   ]
  },
  {
   "cell_type": "code",
   "execution_count": 60,
   "metadata": {},
   "outputs": [
    {
     "data": {
      "image/png": "[encoded data removed]",
      "text/plain": [
       "<Figure size 1280x384 with 1 Axes>"
      ]
     },
     "metadata": {
      "image/png": {
       "height": 337,
       "width": 1031
      }
     },
     "output_type": "display_data"
    }
   ],
   "source": [
    "pd.DataFrame(history).plot()\n",
    "plt.yscale('log')\n",
    "plt.xlabel('Epoch num.')\n",
    "plt.show()"
   ]
  },
  {
   "cell_type": "markdown",
   "metadata": {},
   "source": [
    "## A generar música"
   ]
  },
  {
   "cell_type": "markdown",
   "metadata": {},
   "source": [
    "Ya tenemos un modelo entrenado para generar música. Ahora procederemos a generar una canción. Para hacerlo sencillo, generaremos una canción de N notas (digamos 100, y veremos cómo se comporta. Para ello haremos lo siguiente\n",
    "\n",
    "1. Crear una secuencia aleatoria de inicio del tamaño de secuencia esperado, lo que constituirá nuestra primera entrada,\n",
    "2. Pasar esa secuencia al modelo y recoger la siguiente nota que predice,\n",
    "3. Eliminar la primera nota de la secuencia y añadir la nueva nota al final, lo que constituirá la siguiente secuencia, y\n",
    "4. Continuar así hasta terminar de generar notas.\n",
    "\n",
    "El resultado será una lista con la secuencia y todas las notas generadas. La lista con las notas generadas se llamará `new_song`."
   ]
  },
  {
   "cell_type": "code",
   "execution_count": 61,
   "metadata": {},
   "outputs": [
    {
     "name": "stdout",
     "output_type": "stream",
     "text": [
      "Generated song: ['F#2', 'F#4', 'D3', 'B2', 'A3', 'F#2', 'E4', 'B2', 'B2', 'G#4', 'G5', 'D5', 'F#4', 'G4', 'D4', 'F2', 'E4', 'F#2', 'D5', 'D4', 'F1', 'F4', 'F#5', 'G#4', 'B-4', 'B4', 'G5', 'B-3', 'C5', 'G#4', 'F4', 'G4', 'C4', 'E4', 'F4', 'B-4', 'G4', 'C5', 'B-3', 'F#4', 'E-5', '3', 'C5', 'E4', 'B-4', 'F#4', 'C2', 'C5', 'A3', '2.5', 'F4', 'C4', 'G#4', 'G#4', 'B-2', 'C5', 'E-5', 'F1', 'E-0', 'D5', 'B-4', 'C5', 'G#4', 'C4', 'F4', 'B-3', 'C6', 'C4', 'A4', 'B4', 'D4', 'G#4', 'A1', 'C#5', 'C4', 'E-5', 'F4', 'G#4', 'F4', 'D4', 'D4', 'F#4', 'C#5', 'F4', 'C5', 'C5', 'B4', 'C#5', 'C4', 'G#4', 'F1', 'A1', 'F4', 'B-4', 'B-4', 'E-4', 'A2', 'C4', 'G4', 'G#4', '10.11', 'C4', 'A1', 'C5', 'C5', 'B4', 'C5', 'E4', 'G5', 'F4', 'F4', 'F4', 'F4', 'C5', 'D6', '5', 'E4', 'C4', 'F4', 'G#4', 'G5', 'F1', 'A4', 'E-5', 'F#5', 'C#5', 'G3', 'G#4', 'C5', 'G5', 'F4', 'A4', 'F4', 'G5', 'C5', 'F4', 'C#5', 'C2', 'C5', 'B-4', 'G#4', 'F4', 'F4', 'C4', 'A4', 'C4', 'A4', 'C4', 'C5', 'G#4', 'F2', 'C5', 'G#4', 'G#4', 'G#4', 'B1', 'F#4', 'G#4', 'E-5', 'G#1', 'F4', 'G4', 'C5', 'C5', 'B-3', 'E4', 'C5', 'C5', 'G#2', 'F#4', 'C#4', 'G4', 'B-4', 'F#4', 'B4', 'E5', 'G#4', 'D4', 'G4', 'G#4', 'E-2', 'F4', 'E-4', 'G4', 'C#5', 'C4', 'C#3', 'B-4', 'A3', 'F#3', 'C#5', 'D2', 'B-4', '0.5', 'F4', 'E4', 'G#4', 'G4', 'B-3', 'E-3', 'D1', 'F#4', 'E-5', 'F#4', 'D5', 'C4', '8', 'G#4', 'F1', 'E-5', 'B-4', 'E4', 'E-2', 'F#5', 'B-4', 'C4', 'E-5', 'B-4', 'F1', 'D4', 'F4', 'F4', 'C5', 'E-4', 'G#4', 'B3', 'E-5', 'F4', 'B1', 'C4', 'E-5', 'B-4', 'F4', 'G#4', 'B4', 'D4', 'D4', 'F4', 'E5', 'F4', 'F4', 'B-4', 'A4', 'E-5', 'G#4', 'C5', 'G4', 'G4', 'F4', 'G4', 'C5', 'B-2', 'G#4', 'F4', 'B-4', 'G#4']\n"
     ]
    }
   ],
   "source": [
    "def generate_song(model, pattern, unique_notes, eos_index=None, max_generated=256):\n",
    "    generated_song = []\n",
    "    \n",
    "    model.eval()\n",
    "    with torch.no_grad():\n",
    "        for _ in range(max_generated):\n",
    "            output = model(pattern)\n",
    "            # Se aplica softmax para obtener las probabilidades de cada nota\n",
    "            probabilities = torch.softmax(output, dim=1).cpu().numpy().flatten()\n",
    "            # En lugar de seleccionar la inferida, se selecciona una aleatoria,\n",
    "            #  pero dándole más peso a aquellas más probables.\n",
    "            next_index = np.random.choice(len(probabilities), p=probabilities)\n",
    "            \n",
    "            if next_index == eos_index:\n",
    "                break\n",
    "            \n",
    "            generated_song.append(next_index)\n",
    "            \n",
    "            # Se calcula el valor normalizado para la nota siguiente y se\n",
    "            #  actualiza el patrón\n",
    "            next_value = next_index / len(unique_notes)\n",
    "            pattern_np = pattern.cpu().numpy()\n",
    "            pattern_np = np.roll(pattern_np, -1, axis=1)\n",
    "            pattern_np[0, -1] = next_value\n",
    "            pattern = torch.tensor(pattern_np)\n",
    "    \n",
    "    return generated_song\n",
    "\n",
    "\n",
    "start_seq_index = np.random.randint(0, len(dataset))\n",
    "pattern, _ = dataset[start_seq_index]\n",
    "pattern = pattern.unsqueeze(0)  # Ajuste de dimensiones: (SEQ_LEN, 1) -> (1, SEQ_LEN, 1)\n",
    "\n",
    "generated_song = generate_song(\n",
    "    model=music_generator,\n",
    "    pattern=pattern,\n",
    "    unique_notes=unique_notes,\n",
    "    eos_index=note_to_idx[\"EOS\"],\n",
    ")\n",
    "generated_song = [idx_to_note[idx] for idx in generated_song]\n",
    "print(f\"Generated song: {generated_song}\")"
   ]
  },
  {
   "cell_type": "markdown",
   "metadata": {},
   "source": [
    "El siguiente fragmento de código transforma la lista de notas en un midi, separando cada nota por medio segundo."
   ]
  },
  {
   "cell_type": "code",
   "execution_count": 63,
   "metadata": {},
   "outputs": [
    {
     "data": {
      "text/plain": [
       "'tmp/test_output.mid'"
      ]
     },
     "execution_count": 63,
     "metadata": {},
     "output_type": "execute_result"
    }
   ],
   "source": [
    "def create_midi_stream(generated_song, offset_increment=0.25):\n",
    "    offset = 0\n",
    "    output_notes = []\n",
    "    for pattern in generated_song:\n",
    "        if ('.' in pattern) or pattern.isdigit():\n",
    "            # Acorde, así que lo partimos en sus notas\n",
    "            notes = []\n",
    "            for current_note in pattern.split('.'):\n",
    "                new_note = music21.note.Note(int(current_note))\n",
    "                new_note.storedInstrument = music21.instrument.Violin()\n",
    "                notes.append(new_note)\n",
    "            new_chord = music21.chord.Chord(notes)\n",
    "            new_chord.offset = offset\n",
    "            output_notes.append(new_chord)\n",
    "        else:\n",
    "            # Nota, así que la creamos directamente\n",
    "            new_note = music21.note.Note(pattern)\n",
    "            new_note.offset = offset\n",
    "            new_note.storedInstrument = music21.instrument.Violin()\n",
    "            output_notes.append(new_note)\n",
    "\n",
    "        offset += offset_increment\n",
    "\n",
    "    return music21.stream.Stream(output_notes)\n",
    "\n",
    "\n",
    "midi_stream = music21.stream.Stream(create_midi_stream(generated_song))\n",
    "midi_stream.write('midi', fp='tmp/test_output.mid')"
   ]
  },
  {
   "cell_type": "markdown",
   "metadata": {},
   "source": [
    "Como puedes ver, el modelo ha generado una canción. Sí, no respetamos los tiempos, hay secuencias que no tienen sentido (los cortes entre canciones), etc., pero nos ha servido como experimento para ver el desarrollo de un proyecto de principio a fin."
   ]
  },
  {
   "cell_type": "markdown",
   "metadata": {},
   "source": [
    "## Conclusiones"
   ]
  },
  {
   "cell_type": "markdown",
   "metadata": {},
   "source": [
    "Hemos implementado un modelo recurrente que aprende de muchos datos para resolver un problema _de_uno_a_muchos_: generar música a partir de una semilla inicial.\n",
    "\n",
    "Os animamos a modificar la arquitectura para ver si encontráis una que genere canciones que tengan algún sentido, y a probar a añadir entradas aleatorias durante el entrenamiento para que durante la inferencia se puedan añadir dichas entradas para alterar la generación de melodías."
   ]
  },
  {
   "cell_type": "markdown",
   "metadata": {},
   "source": [
    "***\n",
    "\n",
    "<div><img style=\"float: right; width: 120px; vertical-align:top\" src=\"https://mirrors.creativecommons.org/presskit/buttons/88x31/png/by-nc-sa.png\" alt=\"Creative Commons by-nc-sa logo\" />\n",
    "\n",
    "[Volver al inicio](#top)\n",
    "\n",
    "</div>"
   ]
  }
 ],
 "metadata": {
  "kernelspec": {
   "display_name": "Python 3 (ipykernel)",
   "language": "python",
   "name": "python3"
  },
  "language_info": {
   "codemirror_mode": {
    "name": "ipython",
    "version": 3
   },
   "file_extension": ".py",
   "mimetype": "text/x-python",
   "name": "python",
   "nbconvert_exporter": "python",
   "pygments_lexer": "ipython3",
   "version": "3.12.3"
  }
 },
 "nbformat": 4,
 "nbformat_minor": 4
}
