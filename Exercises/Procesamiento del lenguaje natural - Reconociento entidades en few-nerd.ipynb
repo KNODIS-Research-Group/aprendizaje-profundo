{
 "cells": [
  {
   "cell_type": "markdown",
   "metadata": {
    "id": "top-header"
   },
   "source": [
    "<div><a href=\"https://knodis-research-group.github.io/\"><img style=\"float: right; width: 128px; vertical-align:middle\" src=\"https://knodis-research-group.github.io/knodis-logo_horizontal.png\" alt=\"KNODIS logo\" /></a>\n",
    "\n",
    "# Reconociento entidades con _few-nerd_\n",
    "\n",
    "<i>Última actualización: 2025-03-15</i></div>\n",
    "\n",
    "***"
   ]
  },
  {
   "cell_type": "markdown",
   "metadata": {
    "id": "enunciado"
   },
   "source": [
    "## Enunciado"
   ]
  },
  {
   "cell_type": "markdown",
   "metadata": {},
   "source": [
    "En este ejercicio se aborda un problema de _name entity recognition_ (NER) utilizando el dataset [_few-nerd_](https://huggingface.co/datasets/DFKI-SLT/few-nerd) de [_Hugging Face_](https://huggingface.co/). El objetivo es construir un modelo que, a partir de una secuencia de tokens, identifique y clasifique correctamente las entidades presentes en el texto (por ejemplo, personas, organizaciones, ubicaciones, etc.).\n",
    "\n",
    "El reto consiste en **transformar las secuencias de texto en representaciones que faciliten la detección de entidades** y en entrenar un modelo capaz de predecir, para cada token, la etiqueta de entidad correspondiente. Además, se propone explorar y visualizar la distribución de las entidades y experimentar con técnicas de _data augmentation_ para mejorar el rendimiento del modelo."
   ]
  },
  {
   "cell_type": "markdown",
   "metadata": {
    "id": "section1"
   },
   "source": [
    "## 1. Exploración y preprocesamiento de datos"
   ]
  },
  {
   "cell_type": "markdown",
   "metadata": {
    "id": "carga-exploracion"
   },
   "source": [
    "### Carga y exploración de los datos"
   ]
  },
  {
   "cell_type": "markdown",
   "metadata": {},
   "source": [
    "Utiliza la librería `datasets` de Hugging Face para cargar el dataset _few-nerd_. Responde:\n",
    "\n",
    "- ¿Qué columnas contiene el dataset?\n",
    "- ¿Existe algún sesgo o desbalance en la distribución de las etiquetas de entidades?\n",
    "\n",
    "Visualiza algunos ejemplos para entender la estructura de los datos (por ejemplo, tokens y las etiquetas asignadas)."
   ]
  },
  {
   "cell_type": "code",
   "execution_count": null,
   "metadata": {},
   "outputs": [],
   "source": []
  },
  {
   "cell_type": "markdown",
   "metadata": {
    "id": "limpieza-preprocesamiento"
   },
   "source": [
    "### Limpieza y preprocesamiento"
   ]
  },
  {
   "cell_type": "markdown",
   "metadata": {},
   "source": [
    "Ojo, porque en tareas de NER, es importante mantener la integridad de los tokens ya que las etiquetas están alineadas a ellos. No obstante, se pueden aplicar algunas transformaciones, como:\n",
    "\n",
    "- Normalización de mayúsculas/minúsculas (si es pertinente para el idioma)\n",
    "- Corrección de errores tipográficos\n",
    "\n",
    "Realiza las transformaciones necesarias sin alterar la correspondencia entre tokens y etiquetas."
   ]
  },
  {
   "cell_type": "code",
   "execution_count": null,
   "metadata": {},
   "outputs": [],
   "source": []
  },
  {
   "cell_type": "markdown",
   "metadata": {
    "id": "visualizacion-inicial"
   },
   "source": [
    "### Visualización inicial"
   ]
  },
  {
   "cell_type": "markdown",
   "metadata": {},
   "source": [
    "Genera estadísticas descriptivas, como:\n",
    "- Distribución de las etiquetas de entidades\n",
    "- Longitud de las secuencias (número de tokens)\n",
    "\n",
    "Utiliza gráficos (por ejemplo, de barras o histogramas) para visualizar estos aspectos."
   ]
  },
  {
   "cell_type": "code",
   "execution_count": null,
   "metadata": {},
   "outputs": [],
   "source": []
  },
  {
   "cell_type": "markdown",
   "metadata": {
    "id": "section2"
   },
   "source": [
    "## 2. Representación de texto"
   ]
  },
  {
   "cell_type": "markdown",
   "metadata": {
    "id": "embeddings"
   },
   "source": [
    "### Obtención de _embeddings_ para NER"
   ]
  },
  {
   "cell_type": "markdown",
   "metadata": {},
   "source": [
    "Para tareas de NER es habitual trabajar con modelos preentrenados que generan representaciones contextuales para cada token. Se recomienda utilizar un modelo de Transformers (por ejemplo, BERT) para obtener estas representaciones.\n",
    "\n",
    "Explica brevemente las ventajas y desventajas de la técnica utilizada (por ejemplo, la capacidad de capturar contexto frente al coste computacional)."
   ]
  },
  {
   "cell_type": "code",
   "execution_count": null,
   "metadata": {},
   "outputs": [],
   "source": []
  },
  {
   "cell_type": "markdown",
   "metadata": {
    "id": "section3"
   },
   "source": [
    "## 3. Construcción del modelo de NER"
   ]
  },
  {
   "cell_type": "markdown",
   "metadata": {
    "id": "split-datos"
   },
   "source": [
    "### División del dataset "
   ]
  },
  {
   "cell_type": "markdown",
   "metadata": {},
   "source": [
    "Divide el dataset en conjuntos de entrenamiento y test (por ejemplo, 80%/20%), manteniendo la distribución de las entidades. Ten en cuenta que en NER la división debe hacerse a nivel de secuencias."
   ]
  },
  {
   "cell_type": "code",
   "execution_count": null,
   "metadata": {},
   "outputs": [],
   "source": []
  },
  {
   "cell_type": "markdown",
   "metadata": {
    "id": "seleccion-modelo"
   },
   "source": [
    "### Selección e implementación del modelo"
   ]
  },
  {
   "cell_type": "markdown",
   "metadata": {},
   "source": [
    "Implementa un modelo para NER que, a partir de las secuencias de tokens, prediga la etiqueta correspondiente para cada uno. Puedes optar por:\n",
    "\n",
    "- Afinar un modelo preentrenado (por ejemplo, BERT) utilizando la clase `Trainer` de [_Hugging Face_](https://huggingface.co/)\n",
    "- Usar estrategias de _transfer learning_ para adaptar el modelo al dataset few-nerd\n",
    "\n",
    "Durante el entrenamiento, utiliza un conjunto de validación (o valida con k-fold) y analiza métricas como el F1-score específico para NER."
   ]
  },
  {
   "cell_type": "code",
   "execution_count": null,
   "metadata": {},
   "outputs": [],
   "source": []
  },
  {
   "cell_type": "markdown",
   "metadata": {
    "id": "evaluacion-modelo"
   },
   "source": [
    "### Evaluación del modelo"
   ]
  },
  {
   "cell_type": "markdown",
   "metadata": {},
   "source": [
    "Evalúa el desempeño del modelo utilizando métricas específicas para NER (por ejemplo, precisión, recall y F1-score a nivel de entidad). Comenta las diferencias entre el desempeño en el conjunto de entrenamiento y el de test."
   ]
  },
  {
   "cell_type": "code",
   "execution_count": null,
   "metadata": {},
   "outputs": [],
   "source": []
  },
  {
   "cell_type": "markdown",
   "metadata": {
    "id": "section4"
   },
   "source": [
    "## 4. Experimentación adicional (opcional)"
   ]
  },
  {
   "cell_type": "markdown",
   "metadata": {
    "id": "data-augmentation"
   },
   "source": [
    "### _Data augmentation_\n",
    "\n",
    "¿Se te ocurre alguna estrategia para generar datos sintéticos que ayuden a mejorar el rendimiento en NER? Por ejemplo, podrías aplicar técnicas de sustitución de sinónimos o modificaciones en la estructura de las oraciones. Describe e implementa, si es posible, alguna de estas técnicas."
   ]
  },
  {
   "cell_type": "code",
   "execution_count": null,
   "metadata": {},
   "outputs": [],
   "source": []
  },
  {
   "cell_type": "markdown",
   "metadata": {
    "id": "footer"
   },
   "source": [
    "***\n",
    "\n",
    "<div><img style=\"float: right; width: 120px; vertical-align:top\" src=\"https://mirrors.creativecommons.org/presskit/buttons/88x31/png/by-nc-sa.png\" alt=\"Creative Commons by-nc-sa logo\" />\n",
    "\n",
    "[Back to top](#top-header)\n",
    "\n",
    "</div>"
   ]
  }
 ],
 "metadata": {
  "kernelspec": {
   "display_name": "Python 3 (ipykernel)",
   "language": "python",
   "name": "python3"
  },
  "language_info": {
   "codemirror_mode": {
    "name": "ipython",
    "version": 3
   },
   "file_extension": ".py",
   "mimetype": "text/x-python",
   "name": "python",
   "nbconvert_exporter": "python",
   "pygments_lexer": "ipython3",
   "version": "3.12.3"
  }
 },
 "nbformat": 4,
 "nbformat_minor": 4
}
