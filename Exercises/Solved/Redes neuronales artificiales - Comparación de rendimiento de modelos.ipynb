{
 "cells": [
  {
   "cell_type": "markdown",
   "id": "010176d1",
   "metadata": {},
   "source": [
    "<div><a href=\"https://knodis-research-group.github.io/\"><img style=\"float: right; width: 128px; vertical-align:middle\" src=\"https://knodis-research-group.github.io/knodis-logo_horizontal.png\" alt=\"KNODIS logo\" /></a>\n",
    "\n",
    "# Comparación de rendimiento de modelos<a id=\"top\"></a>\n",
    "\n",
    "<i><small>Última actualización: 2025-03-15</small></i></div>\n",
    "***"
   ]
  },
  {
   "cell_type": "markdown",
   "id": "554fb61b",
   "metadata": {},
   "source": [
    "## Enunciado"
   ]
  },
  {
   "cell_type": "markdown",
   "id": "35405b3c",
   "metadata": {},
   "source": [
    "Compara el rendimiento de tres modelos de redes neuronales para clasificar el conjunto de datos MNIST:\n",
    "\n",
    "1. Un modelo sin capas ocultas,\n",
    "2. Un modelo con $1$ capa oculta sin función de activación ($\\implies$ activación lineal),\n",
    "3. Un modelo con $1$ capa oculta con una activación tangente hiperbólica tras la capa oculta, y\n",
    "4. Un modelo con $1$ capa oculta con una activación _leaky_ ReLU tras la capa oculta.\n",
    "\n",
    "Entrena cada uno de los modelos con el conjunto de entrenamiento de [**KMNIST**](https://pytorch.org/vision/stable/generated/torchvision.datasets.KMNIST.html#torchvision.datasets.KMNIST) y evalúa su rendimiento en el conjunto de prueba utilizando la exactitud (_accuracy_) de clasificación."
   ]
  },
  {
   "cell_type": "markdown",
   "id": "04ae7100",
   "metadata": {},
   "source": [
    "***"
   ]
  },
  {
   "cell_type": "markdown",
   "id": "dda07190-fa9d-4d1b-a708-083338a10014",
   "metadata": {},
   "source": [
    "## Bibliotecas"
   ]
  },
  {
   "cell_type": "code",
   "execution_count": 1,
   "id": "0368c242-4c4b-4b23-be98-5fc28381f53d",
   "metadata": {},
   "outputs": [],
   "source": [
    "import time\n",
    "\n",
    "import pandas as pd\n",
    "import torch\n",
    "import torchvision"
   ]
  },
  {
   "cell_type": "markdown",
   "id": "a0366dcb-b71d-452d-9a59-71a5f46cf4a9",
   "metadata": {},
   "source": [
    "Constantes, configuración y demás"
   ]
  },
  {
   "cell_type": "code",
   "execution_count": 2,
   "id": "533f83e1-fed6-4d40-a6e6-7ee79b295850",
   "metadata": {},
   "outputs": [],
   "source": [
    "DATASETS_DIR = 'tmp'\n",
    "BATCH_SIZE = 128"
   ]
  },
  {
   "cell_type": "markdown",
   "id": "1959c2b6-0d7e-4f8a-bc14-4a105981ff15",
   "metadata": {},
   "source": [
    "## Carga y preparación de datos"
   ]
  },
  {
   "cell_type": "code",
   "execution_count": 3,
   "id": "7463c5e0-087e-43fe-b6b7-8ab259e136d8",
   "metadata": {},
   "outputs": [],
   "source": [
    "train_dataset = torchvision.datasets.KMNIST(\n",
    "    root=DATASETS_DIR,\n",
    "    train=True,\n",
    "    transform=torchvision.transforms.ToTensor(),\n",
    "    download=True,\n",
    ")\n",
    "test_dataset = torchvision.datasets.KMNIST(\n",
    "    root=DATASETS_DIR,\n",
    "    train=False,\n",
    "    transform=torchvision.transforms.ToTensor(),\n",
    "    download=True,\n",
    ")\n",
    "\n",
    "train_loader = torch.utils.data.DataLoader(\n",
    "    train_dataset,\n",
    "    batch_size=BATCH_SIZE,\n",
    "    shuffle=True,\n",
    ")\n",
    "test_loader = torch.utils.data.DataLoader(\n",
    "    test_dataset,\n",
    "    batch_size=BATCH_SIZE,\n",
    "    shuffle=False,\n",
    ")"
   ]
  },
  {
   "cell_type": "code",
   "execution_count": 4,
   "id": "44cb7409-b6cf-4555-a1e9-28523807847c",
   "metadata": {},
   "outputs": [],
   "source": [
    "N_CLASSES = len(train_dataset.classes)"
   ]
  },
  {
   "cell_type": "markdown",
   "id": "467f9f88-9c35-4c5d-a954-f5ed9b34a8ce",
   "metadata": {},
   "source": [
    "## Creación de los modelos"
   ]
  },
  {
   "cell_type": "markdown",
   "id": "e978760c-abae-4ac6-aba7-b9b9bda2d49b",
   "metadata": {},
   "source": [
    "### 1. Modelo sin capas ocultas"
   ]
  },
  {
   "cell_type": "code",
   "execution_count": 5,
   "id": "e4acc8c5-0320-4ecb-afba-1bb774248c23",
   "metadata": {},
   "outputs": [
    {
     "name": "stdout",
     "output_type": "stream",
     "text": [
      "Sequential(\n",
      "  (0): Flatten(start_dim=1, end_dim=-1)\n",
      "  (1): LazyLinear(in_features=0, out_features=10, bias=True)\n",
      ")\n"
     ]
    }
   ],
   "source": [
    "model1 = torch.nn.Sequential(\n",
    "    torch.nn.Flatten(),\n",
    "    torch.nn.LazyLinear(out_features=N_CLASSES),\n",
    ")\n",
    "print(model1)"
   ]
  },
  {
   "cell_type": "markdown",
   "id": "bfdc4547-4021-4cdd-aef9-1d3067ae1067",
   "metadata": {},
   "source": [
    "### 2. Modelo con capas ocultas de activación lineal"
   ]
  },
  {
   "cell_type": "code",
   "execution_count": 6,
   "id": "3fe499e7-eae9-40cb-acc4-11000c4351c2",
   "metadata": {},
   "outputs": [
    {
     "name": "stdout",
     "output_type": "stream",
     "text": [
      "Sequential(\n",
      "  (0): Flatten(start_dim=1, end_dim=-1)\n",
      "  (1): LazyLinear(in_features=0, out_features=32, bias=True)\n",
      "  (2): LazyLinear(in_features=0, out_features=10, bias=True)\n",
      ")\n"
     ]
    }
   ],
   "source": [
    "model2 = torch.nn.Sequential(\n",
    "    torch.nn.Flatten(),\n",
    "    torch.nn.LazyLinear(out_features=32),\n",
    "    torch.nn.LazyLinear(out_features=N_CLASSES),\n",
    ")\n",
    "print(model2)"
   ]
  },
  {
   "cell_type": "markdown",
   "id": "e4efa883-9df0-47eb-959c-cdaf7dafc59a",
   "metadata": {},
   "source": [
    "### 3. Modelo con capas ocultas con activación de tipo tangente hiperbólica"
   ]
  },
  {
   "cell_type": "code",
   "execution_count": 7,
   "id": "c5b48dc6-8229-4874-b708-0885ea02d982",
   "metadata": {},
   "outputs": [
    {
     "name": "stdout",
     "output_type": "stream",
     "text": [
      "Sequential(\n",
      "  (0): Flatten(start_dim=1, end_dim=-1)\n",
      "  (1): LazyLinear(in_features=0, out_features=32, bias=True)\n",
      "  (2): Tanh()\n",
      "  (3): LazyLinear(in_features=0, out_features=10, bias=True)\n",
      ")\n"
     ]
    }
   ],
   "source": [
    "model3 = torch.nn.Sequential(\n",
    "    torch.nn.Flatten(),\n",
    "    torch.nn.LazyLinear(out_features=32),\n",
    "    torch.nn.Tanh(),\n",
    "    torch.nn.LazyLinear(out_features=N_CLASSES),\n",
    ")\n",
    "print(model3)"
   ]
  },
  {
   "cell_type": "markdown",
   "id": "7819a4b5-6525-4573-aebf-2e930a198a57",
   "metadata": {},
   "source": [
    "### 4. Modelo con capas ocultas con activación de tipo LeakyReLU"
   ]
  },
  {
   "cell_type": "code",
   "execution_count": 8,
   "id": "95db2e2e-1c5e-46e3-9cdf-c4954d5350e6",
   "metadata": {},
   "outputs": [
    {
     "name": "stdout",
     "output_type": "stream",
     "text": [
      "Sequential(\n",
      "  (0): Flatten(start_dim=1, end_dim=-1)\n",
      "  (1): LazyLinear(in_features=0, out_features=32, bias=True)\n",
      "  (2): LeakyReLU(negative_slope=0.1)\n",
      "  (3): LazyLinear(in_features=0, out_features=10, bias=True)\n",
      ")\n"
     ]
    }
   ],
   "source": [
    "model4 = torch.nn.Sequential(\n",
    "    torch.nn.Flatten(),\n",
    "    torch.nn.LazyLinear(out_features=32),\n",
    "    torch.nn.LeakyReLU(negative_slope=0.1),\n",
    "    torch.nn.LazyLinear(out_features=N_CLASSES),\n",
    ")\n",
    "print(model4)"
   ]
  },
  {
   "cell_type": "markdown",
   "id": "4d347f67-c19f-4b25-a0f2-e5d0951c086a",
   "metadata": {},
   "source": [
    "## Entrenamiento de los modelos"
   ]
  },
  {
   "cell_type": "code",
   "execution_count": 9,
   "id": "f2d4ff52-9281-47b9-a9c9-983632d42226",
   "metadata": {},
   "outputs": [],
   "source": [
    "def train_model(model, train_loader, test_loader, n_epochs, criterion=None, optimizer=None):\n",
    "    criterion = criterion or torch.nn.CrossEntropyLoss()\n",
    "    optimizer = optimizer or torch.optim.Adam(model.parameters())\n",
    "\n",
    "    train_losses = []\n",
    "    train_accuracy = []\n",
    "    train_times = []\n",
    "    test_accuracy = []\n",
    "    for epoch in range(n_epochs):\n",
    "        # ENTRENAMIENTO\n",
    "        model.train()\n",
    "        running_loss = 0\n",
    "        correct = 0\n",
    "        total = 0\n",
    "        start_time = time.time()\n",
    "        for images, labels in train_loader:\n",
    "            optimizer.zero_grad()\n",
    "            outputs = model(images)\n",
    "            loss = criterion(outputs, labels)\n",
    "            loss.backward()\n",
    "            optimizer.step()\n",
    "\n",
    "            running_loss += loss.item() * images.size(0)\n",
    "            _, predicted = torch.max(outputs, 1)\n",
    "            total += labels.size(0)\n",
    "            correct += (predicted == labels).sum().item()\n",
    "\n",
    "        epoch_loss = running_loss / len(train_loader)\n",
    "        epoch_acc = correct / total\n",
    "        epoch_time = time.time() - start_time\n",
    "        \n",
    "        train_losses.append(epoch_loss)\n",
    "        train_accuracy.append(epoch_acc)\n",
    "        train_times.append(epoch_time)\n",
    "\n",
    "        # EVALUACIÓN\n",
    "        model.eval()\n",
    "        with torch.no_grad():\n",
    "            for images, labels in test_loader:\n",
    "                outputs = model(images)\n",
    "                _, predicted = torch.max(outputs, 1)\n",
    "\n",
    "                total += labels.size(0)\n",
    "                correct += (predicted == labels).sum().item()\n",
    "\n",
    "        epoch_test_acc = correct / total\n",
    "\n",
    "        test_accuracy.append(epoch_test_acc)\n",
    "\n",
    "        if (epoch+1) % 10 == 0:\n",
    "            print(f\"Epoch {epoch+1} - Loss: {epoch_loss:.4f}, Accuracy: {epoch_acc:.4f}, Accuracy (test): {epoch_test_acc:.4f}, Time (s.): {epoch_time:.4f}\")\n",
    "\n",
    "    return {\n",
    "        'Train losses': train_losses,\n",
    "        'Train accuracies': train_accuracy,\n",
    "        'Train times': train_times,\n",
    "        'Test accuracies': test_accuracy,\n",
    "    }"
   ]
  },
  {
   "cell_type": "code",
   "execution_count": 10,
   "id": "5b44112e-2639-4909-9f5c-028cc3d2d575",
   "metadata": {},
   "outputs": [
    {
     "name": "stdout",
     "output_type": "stream",
     "text": [
      "Model 1\n"
     ]
    },
    {
     "name": "stderr",
     "output_type": "stream",
     "text": [
      "/home/blazaid/Projects/aprendizaje-profundo/.venv/lib/python3.12/site-packages/torch/autograd/graph.py:823: UserWarning: CUDA initialization: CUDA unknown error - this may be due to an incorrectly set up environment, e.g. changing env variable CUDA_VISIBLE_DEVICES after program start. Setting the available devices to be zero. (Triggered internally at /pytorch/c10/cuda/CUDAFunctions.cpp:109.)\n",
      "  return Variable._execution_engine.run_backward(  # Calls into the C++ engine to run the backward pass\n"
     ]
    },
    {
     "name": "stdout",
     "output_type": "stream",
     "text": [
      "Epoch 10 - Loss: 72.0857, Accuracy: 0.8347, Accuracy (test): 0.8154, Time (s.): 3.6396\n",
      "Epoch 20 - Loss: 69.9928, Accuracy: 0.8383, Accuracy (test): 0.8186, Time (s.): 3.6681\n",
      "Epoch 30 - Loss: 69.0938, Accuracy: 0.8395, Accuracy (test): 0.8197, Time (s.): 3.6890\n",
      "Epoch 40 - Loss: 68.4479, Accuracy: 0.8413, Accuracy (test): 0.8213, Time (s.): 3.6333\n",
      "Epoch 50 - Loss: 68.0547, Accuracy: 0.8427, Accuracy (test): 0.8225, Time (s.): 3.7999\n",
      "Epoch 60 - Loss: 67.7616, Accuracy: 0.8421, Accuracy (test): 0.8217, Time (s.): 3.8023\n",
      "Epoch 70 - Loss: 67.6100, Accuracy: 0.8428, Accuracy (test): 0.8220, Time (s.): 3.6813\n",
      "Epoch 80 - Loss: 67.3602, Accuracy: 0.8429, Accuracy (test): 0.8220, Time (s.): 3.6316\n",
      "Epoch 90 - Loss: 67.1299, Accuracy: 0.8440, Accuracy (test): 0.8222, Time (s.): 3.7402\n",
      "Epoch 100 - Loss: 67.1248, Accuracy: 0.8428, Accuracy (test): 0.8219, Time (s.): 3.6021\n",
      "Model 2\n",
      "Epoch 10 - Loss: 71.6704, Accuracy: 0.8339, Accuracy (test): 0.8139, Time (s.): 3.6215\n",
      "Epoch 20 - Loss: 70.4189, Accuracy: 0.8357, Accuracy (test): 0.8158, Time (s.): 3.6155\n",
      "Epoch 30 - Loss: 69.5920, Accuracy: 0.8373, Accuracy (test): 0.8171, Time (s.): 3.6173\n",
      "Epoch 40 - Loss: 68.9834, Accuracy: 0.8400, Accuracy (test): 0.8183, Time (s.): 3.6088\n",
      "Epoch 50 - Loss: 68.8185, Accuracy: 0.8394, Accuracy (test): 0.8202, Time (s.): 3.7003\n",
      "Epoch 60 - Loss: 68.5577, Accuracy: 0.8394, Accuracy (test): 0.8184, Time (s.): 3.6076\n",
      "Epoch 70 - Loss: 68.2267, Accuracy: 0.8411, Accuracy (test): 0.8197, Time (s.): 3.6361\n",
      "Epoch 80 - Loss: 68.1723, Accuracy: 0.8409, Accuracy (test): 0.8185, Time (s.): 3.5715\n",
      "Epoch 90 - Loss: 67.8938, Accuracy: 0.8422, Accuracy (test): 0.8203, Time (s.): 3.5850\n",
      "Epoch 100 - Loss: 67.7609, Accuracy: 0.8411, Accuracy (test): 0.8205, Time (s.): 3.5429\n",
      "Model 3\n",
      "Epoch 10 - Loss: 29.5521, Accuracy: 0.9340, Accuracy (test): 0.9173, Time (s.): 3.6450\n",
      "Epoch 20 - Loss: 21.4027, Accuracy: 0.9532, Accuracy (test): 0.9343, Time (s.): 3.6280\n",
      "Epoch 30 - Loss: 16.9434, Accuracy: 0.9631, Accuracy (test): 0.9421, Time (s.): 3.6522\n",
      "Epoch 40 - Loss: 13.9964, Accuracy: 0.9714, Accuracy (test): 0.9484, Time (s.): 3.6035\n",
      "Epoch 50 - Loss: 11.7112, Accuracy: 0.9766, Accuracy (test): 0.9525, Time (s.): 3.6057\n",
      "Epoch 60 - Loss: 9.7872, Accuracy: 0.9818, Accuracy (test): 0.9564, Time (s.): 3.6985\n",
      "Epoch 70 - Loss: 8.2566, Accuracy: 0.9853, Accuracy (test): 0.9591, Time (s.): 3.5492\n",
      "Epoch 80 - Loss: 7.1869, Accuracy: 0.9883, Accuracy (test): 0.9611, Time (s.): 3.5684\n",
      "Epoch 90 - Loss: 6.0927, Accuracy: 0.9906, Accuracy (test): 0.9633, Time (s.): 3.6085\n",
      "Epoch 100 - Loss: 5.1600, Accuracy: 0.9930, Accuracy (test): 0.9648, Time (s.): 3.5505\n",
      "Model 4\n",
      "Epoch 10 - Loss: 28.6726, Accuracy: 0.9343, Accuracy (test): 0.9191, Time (s.): 3.5559\n",
      "Epoch 20 - Loss: 21.2472, Accuracy: 0.9520, Accuracy (test): 0.9352, Time (s.): 3.5712\n",
      "Epoch 30 - Loss: 17.3242, Accuracy: 0.9609, Accuracy (test): 0.9431, Time (s.): 3.7168\n",
      "Epoch 40 - Loss: 14.7934, Accuracy: 0.9670, Accuracy (test): 0.9482, Time (s.): 3.5772\n",
      "Epoch 50 - Loss: 12.5735, Accuracy: 0.9714, Accuracy (test): 0.9508, Time (s.): 3.8482\n",
      "Epoch 60 - Loss: 10.8051, Accuracy: 0.9762, Accuracy (test): 0.9554, Time (s.): 3.5770\n",
      "Epoch 70 - Loss: 9.5213, Accuracy: 0.9792, Accuracy (test): 0.9572, Time (s.): 3.6334\n",
      "Epoch 80 - Loss: 8.2843, Accuracy: 0.9828, Accuracy (test): 0.9602, Time (s.): 3.7312\n",
      "Epoch 90 - Loss: 7.1463, Accuracy: 0.9854, Accuracy (test): 0.9622, Time (s.): 3.6045\n",
      "Epoch 100 - Loss: 6.2476, Accuracy: 0.9875, Accuracy (test): 0.9633, Time (s.): 3.6049\n"
     ]
    }
   ],
   "source": [
    "N_EPOCHS = 100\n",
    "\n",
    "print(\"Model 1\")\n",
    "history1 = train_model(model1, train_loader, test_loader, N_EPOCHS)\n",
    "print(\"Model 2\")\n",
    "history2 = train_model(model2, train_loader, test_loader, N_EPOCHS)\n",
    "print(\"Model 3\")\n",
    "history3 = train_model(model3, train_loader, test_loader, N_EPOCHS)\n",
    "print(\"Model 4\")\n",
    "history4 = train_model(model4, train_loader, test_loader, N_EPOCHS)"
   ]
  },
  {
   "cell_type": "code",
   "execution_count": 11,
   "id": "9db63380-8c28-4d08-b508-778fc7123522",
   "metadata": {},
   "outputs": [
    {
     "ename": "NameError",
     "evalue": "name 'plt' is not defined",
     "output_type": "error",
     "traceback": [
      "\u001b[0;31m---------------------------------------------------------------------------\u001b[0m",
      "\u001b[0;31mNameError\u001b[0m                                 Traceback (most recent call last)",
      "Cell \u001b[0;32mIn[11], line 2\u001b[0m\n\u001b[1;32m      1\u001b[0m pd\u001b[38;5;241m.\u001b[39mDataFrame(history1)\u001b[38;5;241m.\u001b[39mplot()\n\u001b[0;32m----> 2\u001b[0m \u001b[43mplt\u001b[49m\u001b[38;5;241m.\u001b[39mxlabel(\u001b[38;5;124m'\u001b[39m\u001b[38;5;124mEpoch num.\u001b[39m\u001b[38;5;124m'\u001b[39m)\n\u001b[1;32m      3\u001b[0m plt\u001b[38;5;241m.\u001b[39myscale(\u001b[38;5;124m'\u001b[39m\u001b[38;5;124mlog\u001b[39m\u001b[38;5;124m'\u001b[39m)\n\u001b[1;32m      4\u001b[0m plt\u001b[38;5;241m.\u001b[39mshow()\n",
      "\u001b[0;31mNameError\u001b[0m: name 'plt' is not defined"
     ]
    },
    {
     "data": {
      "image/png": "[encoded data removed]",
      "text/plain": [
       "<Figure size 640x480 with 1 Axes>"
      ]
     },
     "metadata": {},
     "output_type": "display_data"
    }
   ],
   "source": [
    "pd.DataFrame(history1).plot()\n",
    "plt.xlabel('Epoch num.')\n",
    "plt.yscale('log')\n",
    "plt.show()"
   ]
  },
  {
   "cell_type": "code",
   "execution_count": null,
   "id": "3eae3978-6261-4294-a608-732955100dd4",
   "metadata": {},
   "outputs": [],
   "source": [
    "pd.DataFrame(history2).plot()\n",
    "plt.xlabel('Epoch num.')\n",
    "plt.yscale('log')\n",
    "plt.show()"
   ]
  },
  {
   "cell_type": "code",
   "execution_count": null,
   "id": "2e704779-2f01-4201-9cbf-82ff0cccd208",
   "metadata": {},
   "outputs": [],
   "source": [
    "pd.DataFrame(history3).plot()\n",
    "plt.xlabel('Epoch num.')\n",
    "plt.yscale('log')\n",
    "plt.show()"
   ]
  },
  {
   "cell_type": "code",
   "execution_count": null,
   "id": "0ff1606a-a9a1-45f9-941f-03b69b4ec59b",
   "metadata": {},
   "outputs": [],
   "source": [
    "pd.DataFrame(history4).plot()\n",
    "plt.xlabel('Epoch num.')\n",
    "plt.yscale('log')\n",
    "plt.show()"
   ]
  },
  {
   "cell_type": "markdown",
   "id": "582efec2",
   "metadata": {},
   "source": [
    "***\n",
    "\n",
    "<div><img style=\"float: right; width: 120px; vertical-align:top\" src=\"https://mirrors.creativecommons.org/presskit/buttons/88x31/png/by-nc-sa.png\" alt=\"Creative Commons by-nc-sa logo\" />\n",
    "\n",
    "[Back to top](#top)\n",
    "\n",
    "</div>"
   ]
  }
 ],
 "metadata": {
  "kernelspec": {
   "display_name": "Python 3 (ipykernel)",
   "language": "python",
   "name": "python3"
  },
  "language_info": {
   "codemirror_mode": {
    "name": "ipython",
    "version": 3
   },
   "file_extension": ".py",
   "mimetype": "text/x-python",
   "name": "python",
   "nbconvert_exporter": "python",
   "pygments_lexer": "ipython3",
   "version": "3.12.3"
  }
 },
 "nbformat": 4,
 "nbformat_minor": 5
}
