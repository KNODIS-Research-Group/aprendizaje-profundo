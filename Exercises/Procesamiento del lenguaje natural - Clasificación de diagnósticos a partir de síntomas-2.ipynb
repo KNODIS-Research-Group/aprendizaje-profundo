{
 "cells": [
  {
   "cell_type": "markdown",
   "metadata": {
    "id": "top-header"
   },
   "source": [
    "<div><a href=\"https://knodis-research-group.github.io/\"><img style=\"float: right; width: 128px; vertical-align:middle\" src=\"https://knodis-research-group.github.io/knodis-logo_horizontal.png\" alt=\"KNODIS logo\" /></a>\n",
    "\n",
    "# Clasificación de etiquetas en StackOverflow QAs\n",
    "\n",
    "<i>Última actualización: 2025-03-15</i></div>\n",
    "\n",
    "***"
   ]
  },
  {
   "cell_type": "markdown",
   "metadata": {},
   "source": [
    "## Enunciado"
   ]
  },
  {
   "cell_type": "markdown",
   "metadata": {
    "id": "enunciado"
   },
   "source": [
    "En este ejercicio, se busca aplicar técnicas de procesamiento de lenguaje natural para resolver un problema real: **clasificar una pregunta y su respuesta de StackOverflow a partir de la etiqueta (Tag) asociada**. Para ello, usaremos el dataset [stackoverflow_QAs](https://huggingface.co/datasets/Kubermatic/stackoverflow_QAs) de [_Hugging Face_](https://huggingface.co/), que contiene registros con campos **Question**, **Answer** y **Tag**.\n",
    "\n",
    "El objetivo principal es **desarrollar un modelo capaz de transformar la información textual (combinando la pregunta y la respuesta) en una representación numérica que permita predecir la etiqueta correcta**."
   ]
  },
  {
   "cell_type": "markdown",
   "metadata": {
    "id": "section1"
   },
   "source": [
    "## 1. Exploración y preprocesamiento de datos"
   ]
  },
  {
   "cell_type": "markdown",
   "metadata": {
    "id": "carga-exploracion"
   },
   "source": [
    "### Carga y exploración de los datos"
   ]
  },
  {
   "cell_type": "markdown",
   "metadata": {},
   "source": [
    "Carga el dataset usando la librería `datasets` de [_Hugging Face_](https://huggingface.co/) y explora la estructura del dataset. Responde las siguientes preguntas:\n",
    "- ¿Qué columnas contiene?\n",
    "- ¿Existe algún sesgo o desbalance en las etiquetas?"
   ]
  },
  {
   "cell_type": "code",
   "execution_count": null,
   "metadata": {},
   "outputs": [],
   "source": []
  },
  {
   "cell_type": "markdown",
   "metadata": {
    "id": "limpieza-preprocesamiento"
   },
   "source": [
    "### Limpieza y preprocesamiento\n",
    "\n",
    "Realiza un preprocesamiento de los campos **Question** y **Answer**. Algunas sugerencias (que pueden ser útiles, neutras o contraproducentes):\n",
    "\n",
    "- Convertir el texto a minúsculas\n",
    "- Eliminar o separar puntuación y caracteres especiales\n",
    "- Eliminar _stop words_\n",
    "- **Question** y **Answer** pueden ser dos filas del dataset con la misma etiqueta.\n",
    "\n",
    "Aplica las transformaciones necesarias y justifica las decisiones tomadas."
   ]
  },
  {
   "cell_type": "code",
   "execution_count": null,
   "metadata": {},
   "outputs": [],
   "source": []
  },
  {
   "cell_type": "markdown",
   "metadata": {
    "id": "visualizacion-inicial"
   },
   "source": [
    "### Visualización inicial\n",
    "\n",
    "Genera algunas estadísticas descriptivas, por ejemplo:\n",
    "- Frecuencia de las etiquetas (_Tag_)\n",
    "- Longitud de las preguntas y respuestas\n",
    "\n",
    "Utiliza visualizaciones (por ejemplo, gráficos de barras o histograma) para explorar los datos."
   ]
  },
  {
   "cell_type": "code",
   "execution_count": null,
   "metadata": {},
   "outputs": [],
   "source": []
  },
  {
   "cell_type": "markdown",
   "metadata": {
    "id": "section2"
   },
   "source": [
    "## 2. Representación de texto"
   ]
  },
  {
   "cell_type": "markdown",
   "metadata": {
    "id": "embeddings"
   },
   "source": [
    "### Obtención de _embeddings_"
   ]
  },
  {
   "cell_type": "markdown",
   "metadata": {},
   "source": [
    "Convierte el texto preprocesado (la combinación de **Question** y **Answer**) en vectores utilizando alguna técnica de _embeddings_. Es recomendable usar modelos preentrenados (por ejemplo, BERT, GloVe o Word2Vec).\n",
    "\n",
    "Explica brevemente las ventajas y desventajas de la técnica seleccionada."
   ]
  },
  {
   "cell_type": "code",
   "execution_count": null,
   "metadata": {},
   "outputs": [],
   "source": []
  },
  {
   "cell_type": "markdown",
   "metadata": {
    "id": "section3"
   },
   "source": [
    "## 3. Construcción del modelo de clasificación"
   ]
  },
  {
   "cell_type": "markdown",
   "metadata": {
    "id": "split-datos"
   },
   "source": [
    "### Construcción de los conjuntos de datos"
   ]
  },
  {
   "cell_type": "markdown",
   "metadata": {},
   "source": [
    "Divide el dataset en conjuntos de entrenamiento y test (por ejemplo, 80% entrenamiento y 20% test) respetando la distribución de las etiquetas."
   ]
  },
  {
   "cell_type": "code",
   "execution_count": null,
   "metadata": {},
   "outputs": [],
   "source": []
  },
  {
   "cell_type": "markdown",
   "metadata": {
    "id": "seleccion-modelo"
   },
   "source": [
    "### Selección e implementación del modelo"
   ]
  },
  {
   "cell_type": "markdown",
   "metadata": {},
   "source": [
    "Implementa un modelo de clasificación que, a partir del texto combinado (Question + Answer), prediga la etiqueta (**Tag**). Puedes utilizar enfoques clásicos (por ejemplo, regresión logística, SVM) o modelos basados en redes neuronales. Durante el entrenamiento, utiliza un conjunto de validación para ajustar los hiperparámetros y optimizar el desempeño.\n",
    "\n",
    "Discute brevemente las métricas obtenidas (precisión, recall, F1-score, etc.)."
   ]
  },
  {
   "cell_type": "code",
   "execution_count": null,
   "metadata": {},
   "outputs": [],
   "source": []
  },
  {
   "cell_type": "markdown",
   "metadata": {
    "id": "evaluacion-modelo"
   },
   "source": [
    "### Evaluación del modelo"
   ]
  },
  {
   "cell_type": "markdown",
   "metadata": {},
   "source": [
    "Evalúa el desempeño del modelo utilizando las métricas de clasificación (precisión, recall, F1-score) y la matriz de confusión. Discute las diferencias entre el desempeño en el conjunto de validación y el test."
   ]
  },
  {
   "cell_type": "code",
   "execution_count": null,
   "metadata": {},
   "outputs": [],
   "source": []
  },
  {
   "cell_type": "markdown",
   "metadata": {
    "id": "section4"
   },
   "source": [
    "## 4. Experimentación adicional (opcional)"
   ]
  },
  {
   "cell_type": "markdown",
   "metadata": {
    "id": "data-augmentation"
   },
   "source": [
    "### _Data augmentation_"
   ]
  },
  {
   "cell_type": "markdown",
   "metadata": {},
   "source": [
    "¿Se te ocurre alguna forma de generar datos sintéticos confiables para ampliar el dataset? Describe e implementa alguna estrategia de _data augmentation_ que pueda mejorar el desempeño del modelo."
   ]
  },
  {
   "cell_type": "code",
   "execution_count": null,
   "metadata": {},
   "outputs": [],
   "source": []
  },
  {
   "cell_type": "markdown",
   "metadata": {
    "id": "comparacion-modelos"
   },
   "source": [
    "### Comparación de modelos"
   ]
  },
  {
   "cell_type": "markdown",
   "metadata": {},
   "source": [
    "Experimenta con arquitecturas de modelos más avanzados, por ejemplo, utilizando modelos basados en transformers (vía [_Hugging Face_](https://huggingface.co/)) y compara su desempeño con el modelo inicial. Analiza ventajas, desventajas y posibles mejoras."
   ]
  },
  {
   "cell_type": "code",
   "execution_count": null,
   "metadata": {},
   "outputs": [],
   "source": []
  },
  {
   "cell_type": "markdown",
   "metadata": {
    "id": "footer"
   },
   "source": [
    "***\n",
    "\n",
    "<div><img style=\"float: right; width: 120px; vertical-align:top\" src=\"https://mirrors.creativecommons.org/presskit/buttons/88x31/png/by-nc-sa.png\" alt=\"Creative Commons by-nc-sa logo\" />\n",
    "\n",
    "[Back to top](#top-header)\n",
    "\n",
    "</div>"
   ]
  }
 ],
 "metadata": {
  "kernelspec": {
   "display_name": "Python 3 (ipykernel)",
   "language": "python",
   "name": "python3"
  },
  "language_info": {
   "codemirror_mode": {
    "name": "ipython",
    "version": 3
   },
   "file_extension": ".py",
   "mimetype": "text/x-python",
   "name": "python",
   "nbconvert_exporter": "python",
   "pygments_lexer": "ipython3",
   "version": "3.12.3"
  }
 },
 "nbformat": 4,
 "nbformat_minor": 4
}
