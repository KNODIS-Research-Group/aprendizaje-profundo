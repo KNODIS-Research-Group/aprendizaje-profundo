{
 "cells": [
  {
   "cell_type": "markdown",
   "metadata": {
    "id": "M27qF7CTrBqc"
   },
   "source": [
    "<div><a href=\"https://knodis-research-group.github.io/\"><img style=\"float: right; width: 128px; vertical-align:middle\" src=\"https://knodis-research-group.github.io/knodis-logo_horizontal.png\" alt=\"KNODIS logo\" /></a>\n",
    "\n",
    "# Clasificación de diagnósticos a partir de síntomas<a id=\"top\"></a>\n",
    "\n",
    "<i>Última actualización: 2025-03-15</small></i></div>\n",
    "\n",
    "***"
   ]
  },
  {
   "cell_type": "markdown",
   "metadata": {},
   "source": [
    "## Enunciado"
   ]
  },
  {
   "cell_type": "markdown",
   "metadata": {},
   "source": [
    "En este ejercicio la idea es explorar y aplicar las técnicas de procesamiento de lenguaje natural en un problema real útil: predecir diagnósticos a partir de descripciones de síntomas. Utilizaremos el dataset [_symptom_to_diagnosis_](https://huggingface.co/datasets/gretelai/symptom_to_diagnosis) de [_Hugging Face_](https://huggingface.co/), que contiene registros con descripciones de síntomas y sus correspondientes diagnósticos, para construir un modelo de clasificación que, a partir de un texto, pueda sugerir el diagnóstico correcto.\n",
    "\n",
    "El objetivo principal es **desarrollar un modelo capaz de transformar la información textual de los síntomas en una representación numérica que permita clasificar de forma efectiva el diagnóstico asociado**.\n",
    "\n",
    "Adicionalmente, se te desafía a **visualizar estas representaciones de forma intuitiva en un espacio 3D**, para tratar de observar cómo ciertas palabras se agrupan en torno a temas o conceptos similares y entender así mejor las relaciones semánticas implícitas en los datos."
   ]
  },
  {
   "cell_type": "markdown",
   "metadata": {
    "id": "xNl52nl3qiyL"
   },
   "source": [
    "***"
   ]
  },
  {
   "cell_type": "markdown",
   "metadata": {},
   "source": [
    "## 1. Exploración y preprocesamiento de datos"
   ]
  },
  {
   "cell_type": "markdown",
   "metadata": {},
   "source": [
    "### Carga y exploración de los datos"
   ]
  },
  {
   "cell_type": "markdown",
   "metadata": {},
   "source": [
    "Carga el dataset usando la librería `datasets` de Hugging Face y explora la estructura del dataset. ¿Qué columnas contiene? ¿Existe algún tipo de sesgo?"
   ]
  },
  {
   "cell_type": "code",
   "execution_count": null,
   "metadata": {},
   "outputs": [],
   "source": []
  },
  {
   "cell_type": "markdown",
   "metadata": {
    "id": "Y0GmpAjG3GiH"
   },
   "source": [
    "### Limpieza y preprocesamiento"
   ]
  },
  {
   "cell_type": "markdown",
   "metadata": {},
   "source": [
    "Realiza un preprocesamiento del campo de síntomas. Considera si es necesario o no:\n",
    "\n",
    "- Convertir a minúsculas el texto\n",
    "- Eliminar o separar puntuación y caracteres especiales\n",
    "- Eliminar _stop words_\n",
    "- Agrupar palabras similares en el mismo token"
   ]
  },
  {
   "cell_type": "code",
   "execution_count": null,
   "metadata": {},
   "outputs": [],
   "source": []
  },
  {
   "cell_type": "markdown",
   "metadata": {},
   "source": [
    "### Visualización inicial"
   ]
  },
  {
   "cell_type": "markdown",
   "metadata": {},
   "source": [
    "Genera algunas estadísticas descriptivas (por ejemplo, frecuencia de diagnósticos, longitud de las descripciones de síntomas, ...)."
   ]
  },
  {
   "cell_type": "code",
   "execution_count": null,
   "metadata": {},
   "outputs": [],
   "source": []
  },
  {
   "cell_type": "markdown",
   "metadata": {},
   "source": [
    "## 2. Representación de texto"
   ]
  },
  {
   "cell_type": "markdown",
   "metadata": {},
   "source": [
    "### Obtención de _embeddings_"
   ]
  },
  {
   "cell_type": "markdown",
   "metadata": {},
   "source": [
    "Convierte los síntomas en vectores utilizando alguna técnica de _embeddings_. Es recomendable usar alguno preentrenado (Word2Vec, GloVe, BeRT, ...), pero si te apetece entrenar el tuyo mismo, adelante. Una vez lo realices, explica brevemente las ventajas y desventajas de la técnica que hayas seleccionado."
   ]
  },
  {
   "cell_type": "code",
   "execution_count": null,
   "metadata": {},
   "outputs": [],
   "source": []
  },
  {
   "cell_type": "markdown",
   "metadata": {},
   "source": [
    "## 3. Construcción del modelo de clasificación"
   ]
  },
  {
   "cell_type": "markdown",
   "metadata": {},
   "source": [
    "### Construcción de los conjuntos de datos"
   ]
  },
  {
   "cell_type": "markdown",
   "metadata": {},
   "source": [
    "Identifica el conjunto de entrenamiento y el de test, y si no extrae uno de aproximadamente el 20% respetando la distribución de los datos."
   ]
  },
  {
   "cell_type": "code",
   "execution_count": null,
   "metadata": {},
   "outputs": [],
   "source": []
  },
  {
   "cell_type": "markdown",
   "metadata": {},
   "source": [
    "### Selección e implementación del modelo"
   ]
  },
  {
   "cell_type": "markdown",
   "metadata": {},
   "source": [
    "Implementa un modelo de clasificación que prediga el diagnóstico. Haz uso de las técnicas que conozcas para intentar dar con un modelo que generalice bien y que sea interesante de acuerdo a métricas de clasificación como precisión, recall, F1-score y la matriz de confusión. Es recomendable que para ello uses un conjunto de validación durante el entrenamiento para ajustar los hiperparámetros. Discute los valores arrojados por estas métricas."
   ]
  },
  {
   "cell_type": "code",
   "execution_count": null,
   "metadata": {},
   "outputs": [],
   "source": []
  },
  {
   "cell_type": "markdown",
   "metadata": {},
   "source": [
    "### Evaluación del modelo"
   ]
  },
  {
   "cell_type": "markdown",
   "metadata": {},
   "source": [
    "Evalúa el desempeño del modelo utilizando las mismas métricas que antes y discute los resultados y las diferencias existentes entre aquellos arrojados durante el entrenamiento y estos."
   ]
  },
  {
   "cell_type": "code",
   "execution_count": null,
   "metadata": {},
   "outputs": [],
   "source": []
  },
  {
   "cell_type": "markdown",
   "metadata": {},
   "source": [
    "## 5. Experimentacion adicional (opcional)"
   ]
  },
  {
   "cell_type": "markdown",
   "metadata": {},
   "source": [
    "### _Data augmentation_"
   ]
  },
  {
   "cell_type": "markdown",
   "metadata": {},
   "source": [
    "¿Se te ocurre alguna forma de crear datos sintéticos que sean fiables y permitan crear un modelo de _data augmentation_? Si es así, descríbelas y si puedes impleméntalas para crear un mejor modelo."
   ]
  },
  {
   "cell_type": "code",
   "execution_count": null,
   "metadata": {},
   "outputs": [],
   "source": []
  },
  {
   "cell_type": "markdown",
   "metadata": {},
   "source": [
    "### Comparación de modelos (opcional)"
   ]
  },
  {
   "cell_type": "markdown",
   "metadata": {},
   "source": [
    "Experimenta con arquitecturas de modelos más avanzados (por ejemplo, modelos basados en transformers) y compara su desempeño con el modelo inicial. Para ello puedes comprobar cómo se usan estos modelos preentrenados desde [Hugging Face](https://huggingface.co/)."
   ]
  },
  {
   "cell_type": "code",
   "execution_count": null,
   "metadata": {},
   "outputs": [],
   "source": []
  },
  {
   "cell_type": "markdown",
   "metadata": {},
   "source": [
    "***\n",
    "\n",
    "<div><img style=\"float: right; width: 120px; vertical-align:top\" src=\"https://mirrors.creativecommons.org/presskit/buttons/88x31/png/by-nc-sa.png\" alt=\"Creative Commons by-nc-sa logo\" />\n",
    "\n",
    "[Back to top](#top)\n",
    "\n",
    "</div>"
   ]
  }
 ],
 "metadata": {
  "colab": {
   "provenance": []
  },
  "kernelspec": {
   "display_name": "Python 3 (ipykernel)",
   "language": "python",
   "name": "python3"
  },
  "language_info": {
   "codemirror_mode": {
    "name": "ipython",
    "version": 3
   },
   "file_extension": ".py",
   "mimetype": "text/x-python",
   "name": "python",
   "nbconvert_exporter": "python",
   "pygments_lexer": "ipython3",
   "version": "3.12.3"
  }
 },
 "nbformat": 4,
 "nbformat_minor": 4
}
